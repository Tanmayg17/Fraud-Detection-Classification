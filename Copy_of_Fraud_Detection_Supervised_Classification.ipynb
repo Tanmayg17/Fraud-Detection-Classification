{
  "cells": [
    {
      "cell_type": "markdown",
      "metadata": {
        "id": "CSO-Buq9eBx7"
      },
      "source": [
        "## **Fraud Detection - Supervised Classification**"
      ]
    },
    {
      "cell_type": "markdown",
      "metadata": {
        "id": "N0YJmvSCeXCa"
      },
      "source": [
        "# **Describe Problem Statement**"
      ]
    },
    {
      "cell_type": "markdown",
      "metadata": {
        "id": "r3zMUsH9e_7K"
      },
      "source": [
        "Fraudulent activities in financial transactions pose significant risks and financial losses to businesses and individuals alike. Detecting such activities in a timely and accurate manner is crucial for minimizing these losses and maintaining trust in financial systems. With the advent of big data and machine learning, it is now possible to analyze vast amounts of transaction data to identify patterns indicative of fraud.\n",
        "\n",
        "The data set comprised of simulated transactions of credit cards\n",
        "between January 1, 2020 and December 31, 2020, including both\n",
        "legitimate and fraudulent transactions in the western side of the United\n",
        "States of America available at  https://www.kaggle.com/datasets/kartik2112/fraud-detection.\n",
        "\n",
        "It contains  1296675  rows of observations,\n",
        "which has 23 columns of variables.\n"
      ]
    },
    {
      "cell_type": "markdown",
      "metadata": {
        "id": "EZBr6G0arOKD"
      },
      "source": [
        "# **Data Description:**"
      ]
    },
    {
      "cell_type": "markdown",
      "metadata": {
        "id": "1xAod73DrTob"
      },
      "source": [
        "index - Unique Identifier for each\n",
        "row\n",
        "\n",
        "trans_date_trans_time - Transaction DateTime\n",
        "\n",
        "cc_num - Credit Card Number of Customer\n",
        "\n",
        "merchant - Merchant Name\n",
        "\n",
        "category - Category of Merchant\n",
        "\n",
        "amt - Amount of Transaction\n",
        "\n",
        "first - First Name of Credit Card Holder\n",
        "\n",
        "last - Last Name of Credit Card Holder\n",
        "\n",
        "gender - Gender of Credit Card Holder\n",
        "\n",
        "street - Street Address of Credit Card Holder\n",
        "\n",
        "city - City of Credit Card Holder\n",
        "\n",
        "state - State of Credit Card Holder\n",
        "\n",
        "zip - Zip of Credit Card Holder\n",
        "\n",
        "lat - Latitude Location of Credit Card Holder\n",
        "\n",
        "long - Longitude Location of Credit Card Holder\n",
        "\n",
        "city_pop - Credit Card Holder's City Population\n",
        "\n",
        "job - Job of Credit Card Holder\n",
        "\n",
        "dob - Date of Birth of Credit Card Holder\n",
        "\n",
        "trans_num - Transaction Number\n",
        "\n",
        "unix_time - UNIX Time of transaction\n",
        "\n",
        "merch_lat - Latitude Location of Merchant\n",
        "\n",
        "merch_long - Longitude Location of Merchant\n",
        "\n",
        "is_fraud - Fraud Flag <--- Target Class\n",
        "\n",
        "\n"
      ]
    },
    {
      "cell_type": "markdown",
      "metadata": {
        "id": "_xb8s6HGtX_C"
      },
      "source": [
        "# **Import Necessary Libraries and Understand Variables**"
      ]
    },
    {
      "cell_type": "code",
      "execution_count": null,
      "metadata": {
        "id": "LuvnnAUStjC6"
      },
      "outputs": [],
      "source": [
        "#import library\n",
        "import pandas as pd\n",
        "import numpy as np\n",
        "import matplotlib.pyplot as plt\n",
        "import seaborn as sns\n",
        "from datetime import datetime"
      ]
    },
    {
      "cell_type": "code",
      "execution_count": null,
      "metadata": {
        "colab": {
          "base_uri": "https://localhost:8080/"
        },
        "id": "UniU9i5vwzy6",
        "outputId": "fbf81818-5d0b-4657-88fa-e25ea284e3af"
      },
      "outputs": [
        {
          "name": "stdout",
          "output_type": "stream",
          "text": [
            "Drive already mounted at /content/drive; to attempt to forcibly remount, call drive.mount(\"/content/drive\", force_remount=True).\n"
          ]
        }
      ],
      "source": [
        "#mount drive\n",
        "from google.colab import drive\n",
        "drive.mount('/content/drive')"
      ]
    },
    {
      "cell_type": "code",
      "execution_count": null,
      "metadata": {
        "id": "2_AH0pZItpnN"
      },
      "outputs": [],
      "source": [
        "# loading the data\n",
        "fraud_df = pd.read_csv('/content/drive/MyDrive/fraud_detection.csv')"
      ]
    },
    {
      "cell_type": "code",
      "execution_count": null,
      "metadata": {
        "colab": {
          "base_uri": "https://localhost:8080/",
          "height": 550
        },
        "collapsed": true,
        "id": "4nUpsnVyu8Ir",
        "outputId": "53aa6530-d7c3-4fa4-d394-3140132a1b4b"
      },
      "outputs": [
        {
          "data": {
            "application/vnd.google.colaboratory.intrinsic+json": {
              "type": "dataframe",
              "variable_name": "fraud_df"
            },
            "text/html": [
              "\n",
              "  <div id=\"df-37db34b9-b4eb-4519-a880-92c978dfbfcc\" class=\"colab-df-container\">\n",
              "    <div>\n",
              "<style scoped>\n",
              "    .dataframe tbody tr th:only-of-type {\n",
              "        vertical-align: middle;\n",
              "    }\n",
              "\n",
              "    .dataframe tbody tr th {\n",
              "        vertical-align: top;\n",
              "    }\n",
              "\n",
              "    .dataframe thead th {\n",
              "        text-align: right;\n",
              "    }\n",
              "</style>\n",
              "<table border=\"1\" class=\"dataframe\">\n",
              "  <thead>\n",
              "    <tr style=\"text-align: right;\">\n",
              "      <th></th>\n",
              "      <th>Unnamed: 0</th>\n",
              "      <th>trans_date_trans_time</th>\n",
              "      <th>cc_num</th>\n",
              "      <th>merchant</th>\n",
              "      <th>category</th>\n",
              "      <th>amt</th>\n",
              "      <th>first</th>\n",
              "      <th>last</th>\n",
              "      <th>gender</th>\n",
              "      <th>street</th>\n",
              "      <th>...</th>\n",
              "      <th>lat</th>\n",
              "      <th>long</th>\n",
              "      <th>city_pop</th>\n",
              "      <th>job</th>\n",
              "      <th>dob</th>\n",
              "      <th>trans_num</th>\n",
              "      <th>unix_time</th>\n",
              "      <th>merch_lat</th>\n",
              "      <th>merch_long</th>\n",
              "      <th>is_fraud</th>\n",
              "    </tr>\n",
              "  </thead>\n",
              "  <tbody>\n",
              "    <tr>\n",
              "      <th>0</th>\n",
              "      <td>0</td>\n",
              "      <td>2019-01-01 00:00:18</td>\n",
              "      <td>2703186189652095</td>\n",
              "      <td>fraud_Rippin, Kub and Mann</td>\n",
              "      <td>misc_net</td>\n",
              "      <td>4.97</td>\n",
              "      <td>Jennifer</td>\n",
              "      <td>Banks</td>\n",
              "      <td>F</td>\n",
              "      <td>561 Perry Cove</td>\n",
              "      <td>...</td>\n",
              "      <td>36.0788</td>\n",
              "      <td>-81.1781</td>\n",
              "      <td>3495</td>\n",
              "      <td>Psychologist, counselling</td>\n",
              "      <td>1988-03-09</td>\n",
              "      <td>0b242abb623afc578575680df30655b9</td>\n",
              "      <td>1325376018</td>\n",
              "      <td>36.011293</td>\n",
              "      <td>-82.048315</td>\n",
              "      <td>0</td>\n",
              "    </tr>\n",
              "    <tr>\n",
              "      <th>1</th>\n",
              "      <td>1</td>\n",
              "      <td>2019-01-01 00:00:44</td>\n",
              "      <td>630423337322</td>\n",
              "      <td>fraud_Heller, Gutmann and Zieme</td>\n",
              "      <td>grocery_pos</td>\n",
              "      <td>107.23</td>\n",
              "      <td>Stephanie</td>\n",
              "      <td>Gill</td>\n",
              "      <td>F</td>\n",
              "      <td>43039 Riley Greens Suite 393</td>\n",
              "      <td>...</td>\n",
              "      <td>48.8878</td>\n",
              "      <td>-118.2105</td>\n",
              "      <td>149</td>\n",
              "      <td>Special educational needs teacher</td>\n",
              "      <td>1978-06-21</td>\n",
              "      <td>1f76529f8574734946361c461b024d99</td>\n",
              "      <td>1325376044</td>\n",
              "      <td>49.159047</td>\n",
              "      <td>-118.186462</td>\n",
              "      <td>0</td>\n",
              "    </tr>\n",
              "    <tr>\n",
              "      <th>2</th>\n",
              "      <td>2</td>\n",
              "      <td>2019-01-01 00:00:51</td>\n",
              "      <td>38859492057661</td>\n",
              "      <td>fraud_Lind-Buckridge</td>\n",
              "      <td>entertainment</td>\n",
              "      <td>220.11</td>\n",
              "      <td>Edward</td>\n",
              "      <td>Sanchez</td>\n",
              "      <td>M</td>\n",
              "      <td>594 White Dale Suite 530</td>\n",
              "      <td>...</td>\n",
              "      <td>42.1808</td>\n",
              "      <td>-112.2620</td>\n",
              "      <td>4154</td>\n",
              "      <td>Nature conservation officer</td>\n",
              "      <td>1962-01-19</td>\n",
              "      <td>a1a22d70485983eac12b5b88dad1cf95</td>\n",
              "      <td>1325376051</td>\n",
              "      <td>43.150704</td>\n",
              "      <td>-112.154481</td>\n",
              "      <td>0</td>\n",
              "    </tr>\n",
              "    <tr>\n",
              "      <th>3</th>\n",
              "      <td>3</td>\n",
              "      <td>2019-01-01 00:01:16</td>\n",
              "      <td>3534093764340240</td>\n",
              "      <td>fraud_Kutch, Hermiston and Farrell</td>\n",
              "      <td>gas_transport</td>\n",
              "      <td>45.00</td>\n",
              "      <td>Jeremy</td>\n",
              "      <td>White</td>\n",
              "      <td>M</td>\n",
              "      <td>9443 Cynthia Court Apt. 038</td>\n",
              "      <td>...</td>\n",
              "      <td>46.2306</td>\n",
              "      <td>-112.1138</td>\n",
              "      <td>1939</td>\n",
              "      <td>Patent attorney</td>\n",
              "      <td>1967-01-12</td>\n",
              "      <td>6b849c168bdad6f867558c3793159a81</td>\n",
              "      <td>1325376076</td>\n",
              "      <td>47.034331</td>\n",
              "      <td>-112.561071</td>\n",
              "      <td>0</td>\n",
              "    </tr>\n",
              "    <tr>\n",
              "      <th>4</th>\n",
              "      <td>4</td>\n",
              "      <td>2019-01-01 00:03:06</td>\n",
              "      <td>375534208663984</td>\n",
              "      <td>fraud_Keeling-Crist</td>\n",
              "      <td>misc_pos</td>\n",
              "      <td>41.96</td>\n",
              "      <td>Tyler</td>\n",
              "      <td>Garcia</td>\n",
              "      <td>M</td>\n",
              "      <td>408 Bradley Rest</td>\n",
              "      <td>...</td>\n",
              "      <td>38.4207</td>\n",
              "      <td>-79.4629</td>\n",
              "      <td>99</td>\n",
              "      <td>Dance movement psychotherapist</td>\n",
              "      <td>1986-03-28</td>\n",
              "      <td>a41d7549acf90789359a9aa5346dcb46</td>\n",
              "      <td>1325376186</td>\n",
              "      <td>38.674999</td>\n",
              "      <td>-78.632459</td>\n",
              "      <td>0</td>\n",
              "    </tr>\n",
              "  </tbody>\n",
              "</table>\n",
              "<p>5 rows × 23 columns</p>\n",
              "</div>\n",
              "    <div class=\"colab-df-buttons\">\n",
              "\n",
              "  <div class=\"colab-df-container\">\n",
              "    <button class=\"colab-df-convert\" onclick=\"convertToInteractive('df-37db34b9-b4eb-4519-a880-92c978dfbfcc')\"\n",
              "            title=\"Convert this dataframe to an interactive table.\"\n",
              "            style=\"display:none;\">\n",
              "\n",
              "  <svg xmlns=\"http://www.w3.org/2000/svg\" height=\"24px\" viewBox=\"0 -960 960 960\">\n",
              "    <path d=\"M120-120v-720h720v720H120Zm60-500h600v-160H180v160Zm220 220h160v-160H400v160Zm0 220h160v-160H400v160ZM180-400h160v-160H180v160Zm440 0h160v-160H620v160ZM180-180h160v-160H180v160Zm440 0h160v-160H620v160Z\"/>\n",
              "  </svg>\n",
              "    </button>\n",
              "\n",
              "  <style>\n",
              "    .colab-df-container {\n",
              "      display:flex;\n",
              "      gap: 12px;\n",
              "    }\n",
              "\n",
              "    .colab-df-convert {\n",
              "      background-color: #E8F0FE;\n",
              "      border: none;\n",
              "      border-radius: 50%;\n",
              "      cursor: pointer;\n",
              "      display: none;\n",
              "      fill: #1967D2;\n",
              "      height: 32px;\n",
              "      padding: 0 0 0 0;\n",
              "      width: 32px;\n",
              "    }\n",
              "\n",
              "    .colab-df-convert:hover {\n",
              "      background-color: #E2EBFA;\n",
              "      box-shadow: 0px 1px 2px rgba(60, 64, 67, 0.3), 0px 1px 3px 1px rgba(60, 64, 67, 0.15);\n",
              "      fill: #174EA6;\n",
              "    }\n",
              "\n",
              "    .colab-df-buttons div {\n",
              "      margin-bottom: 4px;\n",
              "    }\n",
              "\n",
              "    [theme=dark] .colab-df-convert {\n",
              "      background-color: #3B4455;\n",
              "      fill: #D2E3FC;\n",
              "    }\n",
              "\n",
              "    [theme=dark] .colab-df-convert:hover {\n",
              "      background-color: #434B5C;\n",
              "      box-shadow: 0px 1px 3px 1px rgba(0, 0, 0, 0.15);\n",
              "      filter: drop-shadow(0px 1px 2px rgba(0, 0, 0, 0.3));\n",
              "      fill: #FFFFFF;\n",
              "    }\n",
              "  </style>\n",
              "\n",
              "    <script>\n",
              "      const buttonEl =\n",
              "        document.querySelector('#df-37db34b9-b4eb-4519-a880-92c978dfbfcc button.colab-df-convert');\n",
              "      buttonEl.style.display =\n",
              "        google.colab.kernel.accessAllowed ? 'block' : 'none';\n",
              "\n",
              "      async function convertToInteractive(key) {\n",
              "        const element = document.querySelector('#df-37db34b9-b4eb-4519-a880-92c978dfbfcc');\n",
              "        const dataTable =\n",
              "          await google.colab.kernel.invokeFunction('convertToInteractive',\n",
              "                                                    [key], {});\n",
              "        if (!dataTable) return;\n",
              "\n",
              "        const docLinkHtml = 'Like what you see? Visit the ' +\n",
              "          '<a target=\"_blank\" href=https://colab.research.google.com/notebooks/data_table.ipynb>data table notebook</a>'\n",
              "          + ' to learn more about interactive tables.';\n",
              "        element.innerHTML = '';\n",
              "        dataTable['output_type'] = 'display_data';\n",
              "        await google.colab.output.renderOutput(dataTable, element);\n",
              "        const docLink = document.createElement('div');\n",
              "        docLink.innerHTML = docLinkHtml;\n",
              "        element.appendChild(docLink);\n",
              "      }\n",
              "    </script>\n",
              "  </div>\n",
              "\n",
              "\n",
              "<div id=\"df-65d1d9e1-2db1-4813-a286-93b6f12c3867\">\n",
              "  <button class=\"colab-df-quickchart\" onclick=\"quickchart('df-65d1d9e1-2db1-4813-a286-93b6f12c3867')\"\n",
              "            title=\"Suggest charts\"\n",
              "            style=\"display:none;\">\n",
              "\n",
              "<svg xmlns=\"http://www.w3.org/2000/svg\" height=\"24px\"viewBox=\"0 0 24 24\"\n",
              "     width=\"24px\">\n",
              "    <g>\n",
              "        <path d=\"M19 3H5c-1.1 0-2 .9-2 2v14c0 1.1.9 2 2 2h14c1.1 0 2-.9 2-2V5c0-1.1-.9-2-2-2zM9 17H7v-7h2v7zm4 0h-2V7h2v10zm4 0h-2v-4h2v4z\"/>\n",
              "    </g>\n",
              "</svg>\n",
              "  </button>\n",
              "\n",
              "<style>\n",
              "  .colab-df-quickchart {\n",
              "      --bg-color: #E8F0FE;\n",
              "      --fill-color: #1967D2;\n",
              "      --hover-bg-color: #E2EBFA;\n",
              "      --hover-fill-color: #174EA6;\n",
              "      --disabled-fill-color: #AAA;\n",
              "      --disabled-bg-color: #DDD;\n",
              "  }\n",
              "\n",
              "  [theme=dark] .colab-df-quickchart {\n",
              "      --bg-color: #3B4455;\n",
              "      --fill-color: #D2E3FC;\n",
              "      --hover-bg-color: #434B5C;\n",
              "      --hover-fill-color: #FFFFFF;\n",
              "      --disabled-bg-color: #3B4455;\n",
              "      --disabled-fill-color: #666;\n",
              "  }\n",
              "\n",
              "  .colab-df-quickchart {\n",
              "    background-color: var(--bg-color);\n",
              "    border: none;\n",
              "    border-radius: 50%;\n",
              "    cursor: pointer;\n",
              "    display: none;\n",
              "    fill: var(--fill-color);\n",
              "    height: 32px;\n",
              "    padding: 0;\n",
              "    width: 32px;\n",
              "  }\n",
              "\n",
              "  .colab-df-quickchart:hover {\n",
              "    background-color: var(--hover-bg-color);\n",
              "    box-shadow: 0 1px 2px rgba(60, 64, 67, 0.3), 0 1px 3px 1px rgba(60, 64, 67, 0.15);\n",
              "    fill: var(--button-hover-fill-color);\n",
              "  }\n",
              "\n",
              "  .colab-df-quickchart-complete:disabled,\n",
              "  .colab-df-quickchart-complete:disabled:hover {\n",
              "    background-color: var(--disabled-bg-color);\n",
              "    fill: var(--disabled-fill-color);\n",
              "    box-shadow: none;\n",
              "  }\n",
              "\n",
              "  .colab-df-spinner {\n",
              "    border: 2px solid var(--fill-color);\n",
              "    border-color: transparent;\n",
              "    border-bottom-color: var(--fill-color);\n",
              "    animation:\n",
              "      spin 1s steps(1) infinite;\n",
              "  }\n",
              "\n",
              "  @keyframes spin {\n",
              "    0% {\n",
              "      border-color: transparent;\n",
              "      border-bottom-color: var(--fill-color);\n",
              "      border-left-color: var(--fill-color);\n",
              "    }\n",
              "    20% {\n",
              "      border-color: transparent;\n",
              "      border-left-color: var(--fill-color);\n",
              "      border-top-color: var(--fill-color);\n",
              "    }\n",
              "    30% {\n",
              "      border-color: transparent;\n",
              "      border-left-color: var(--fill-color);\n",
              "      border-top-color: var(--fill-color);\n",
              "      border-right-color: var(--fill-color);\n",
              "    }\n",
              "    40% {\n",
              "      border-color: transparent;\n",
              "      border-right-color: var(--fill-color);\n",
              "      border-top-color: var(--fill-color);\n",
              "    }\n",
              "    60% {\n",
              "      border-color: transparent;\n",
              "      border-right-color: var(--fill-color);\n",
              "    }\n",
              "    80% {\n",
              "      border-color: transparent;\n",
              "      border-right-color: var(--fill-color);\n",
              "      border-bottom-color: var(--fill-color);\n",
              "    }\n",
              "    90% {\n",
              "      border-color: transparent;\n",
              "      border-bottom-color: var(--fill-color);\n",
              "    }\n",
              "  }\n",
              "</style>\n",
              "\n",
              "  <script>\n",
              "    async function quickchart(key) {\n",
              "      const quickchartButtonEl =\n",
              "        document.querySelector('#' + key + ' button');\n",
              "      quickchartButtonEl.disabled = true;  // To prevent multiple clicks.\n",
              "      quickchartButtonEl.classList.add('colab-df-spinner');\n",
              "      try {\n",
              "        const charts = await google.colab.kernel.invokeFunction(\n",
              "            'suggestCharts', [key], {});\n",
              "      } catch (error) {\n",
              "        console.error('Error during call to suggestCharts:', error);\n",
              "      }\n",
              "      quickchartButtonEl.classList.remove('colab-df-spinner');\n",
              "      quickchartButtonEl.classList.add('colab-df-quickchart-complete');\n",
              "    }\n",
              "    (() => {\n",
              "      let quickchartButtonEl =\n",
              "        document.querySelector('#df-65d1d9e1-2db1-4813-a286-93b6f12c3867 button');\n",
              "      quickchartButtonEl.style.display =\n",
              "        google.colab.kernel.accessAllowed ? 'block' : 'none';\n",
              "    })();\n",
              "  </script>\n",
              "</div>\n",
              "\n",
              "    </div>\n",
              "  </div>\n"
            ],
            "text/plain": [
              "   Unnamed: 0 trans_date_trans_time            cc_num  \\\n",
              "0           0   2019-01-01 00:00:18  2703186189652095   \n",
              "1           1   2019-01-01 00:00:44      630423337322   \n",
              "2           2   2019-01-01 00:00:51    38859492057661   \n",
              "3           3   2019-01-01 00:01:16  3534093764340240   \n",
              "4           4   2019-01-01 00:03:06   375534208663984   \n",
              "\n",
              "                             merchant       category     amt      first  \\\n",
              "0          fraud_Rippin, Kub and Mann       misc_net    4.97   Jennifer   \n",
              "1     fraud_Heller, Gutmann and Zieme    grocery_pos  107.23  Stephanie   \n",
              "2                fraud_Lind-Buckridge  entertainment  220.11     Edward   \n",
              "3  fraud_Kutch, Hermiston and Farrell  gas_transport   45.00     Jeremy   \n",
              "4                 fraud_Keeling-Crist       misc_pos   41.96      Tyler   \n",
              "\n",
              "      last gender                        street  ...      lat      long  \\\n",
              "0    Banks      F                561 Perry Cove  ...  36.0788  -81.1781   \n",
              "1     Gill      F  43039 Riley Greens Suite 393  ...  48.8878 -118.2105   \n",
              "2  Sanchez      M      594 White Dale Suite 530  ...  42.1808 -112.2620   \n",
              "3    White      M   9443 Cynthia Court Apt. 038  ...  46.2306 -112.1138   \n",
              "4   Garcia      M              408 Bradley Rest  ...  38.4207  -79.4629   \n",
              "\n",
              "   city_pop                                job         dob  \\\n",
              "0      3495          Psychologist, counselling  1988-03-09   \n",
              "1       149  Special educational needs teacher  1978-06-21   \n",
              "2      4154        Nature conservation officer  1962-01-19   \n",
              "3      1939                    Patent attorney  1967-01-12   \n",
              "4        99     Dance movement psychotherapist  1986-03-28   \n",
              "\n",
              "                          trans_num   unix_time  merch_lat  merch_long  \\\n",
              "0  0b242abb623afc578575680df30655b9  1325376018  36.011293  -82.048315   \n",
              "1  1f76529f8574734946361c461b024d99  1325376044  49.159047 -118.186462   \n",
              "2  a1a22d70485983eac12b5b88dad1cf95  1325376051  43.150704 -112.154481   \n",
              "3  6b849c168bdad6f867558c3793159a81  1325376076  47.034331 -112.561071   \n",
              "4  a41d7549acf90789359a9aa5346dcb46  1325376186  38.674999  -78.632459   \n",
              "\n",
              "   is_fraud  \n",
              "0         0  \n",
              "1         0  \n",
              "2         0  \n",
              "3         0  \n",
              "4         0  \n",
              "\n",
              "[5 rows x 23 columns]"
            ]
          },
          "execution_count": 105,
          "metadata": {},
          "output_type": "execute_result"
        }
      ],
      "source": [
        "#get first look at data using .head()\n",
        "fraud_df.head()"
      ]
    },
    {
      "cell_type": "code",
      "execution_count": null,
      "metadata": {
        "colab": {
          "base_uri": "https://localhost:8080/",
          "height": 498
        },
        "collapsed": true,
        "id": "tE1RSlpox3bs",
        "outputId": "a6560588-8597-4fa9-9672-51f645be16e8"
      },
      "outputs": [
        {
          "data": {
            "application/vnd.google.colaboratory.intrinsic+json": {
              "type": "dataframe"
            },
            "text/html": [
              "\n",
              "  <div id=\"df-3a7325fc-53d3-4246-a7c8-17ed4a41ab85\" class=\"colab-df-container\">\n",
              "    <div>\n",
              "<style scoped>\n",
              "    .dataframe tbody tr th:only-of-type {\n",
              "        vertical-align: middle;\n",
              "    }\n",
              "\n",
              "    .dataframe tbody tr th {\n",
              "        vertical-align: top;\n",
              "    }\n",
              "\n",
              "    .dataframe thead th {\n",
              "        text-align: right;\n",
              "    }\n",
              "</style>\n",
              "<table border=\"1\" class=\"dataframe\">\n",
              "  <thead>\n",
              "    <tr style=\"text-align: right;\">\n",
              "      <th></th>\n",
              "      <th>Unnamed: 0</th>\n",
              "      <th>trans_date_trans_time</th>\n",
              "      <th>cc_num</th>\n",
              "      <th>merchant</th>\n",
              "      <th>category</th>\n",
              "      <th>amt</th>\n",
              "      <th>first</th>\n",
              "      <th>last</th>\n",
              "      <th>gender</th>\n",
              "      <th>street</th>\n",
              "      <th>...</th>\n",
              "      <th>lat</th>\n",
              "      <th>long</th>\n",
              "      <th>city_pop</th>\n",
              "      <th>job</th>\n",
              "      <th>dob</th>\n",
              "      <th>trans_num</th>\n",
              "      <th>unix_time</th>\n",
              "      <th>merch_lat</th>\n",
              "      <th>merch_long</th>\n",
              "      <th>is_fraud</th>\n",
              "    </tr>\n",
              "  </thead>\n",
              "  <tbody>\n",
              "    <tr>\n",
              "      <th>1296670</th>\n",
              "      <td>1296670</td>\n",
              "      <td>2020-06-21 12:12:08</td>\n",
              "      <td>30263540414123</td>\n",
              "      <td>fraud_Reichel Inc</td>\n",
              "      <td>entertainment</td>\n",
              "      <td>15.56</td>\n",
              "      <td>Erik</td>\n",
              "      <td>Patterson</td>\n",
              "      <td>M</td>\n",
              "      <td>162 Jessica Row Apt. 072</td>\n",
              "      <td>...</td>\n",
              "      <td>37.7175</td>\n",
              "      <td>-112.4777</td>\n",
              "      <td>258</td>\n",
              "      <td>Geoscientist</td>\n",
              "      <td>1961-11-24</td>\n",
              "      <td>440b587732da4dc1a6395aba5fb41669</td>\n",
              "      <td>1371816728</td>\n",
              "      <td>36.841266</td>\n",
              "      <td>-111.690765</td>\n",
              "      <td>0</td>\n",
              "    </tr>\n",
              "    <tr>\n",
              "      <th>1296671</th>\n",
              "      <td>1296671</td>\n",
              "      <td>2020-06-21 12:12:19</td>\n",
              "      <td>6011149206456997</td>\n",
              "      <td>fraud_Abernathy and Sons</td>\n",
              "      <td>food_dining</td>\n",
              "      <td>51.70</td>\n",
              "      <td>Jeffrey</td>\n",
              "      <td>White</td>\n",
              "      <td>M</td>\n",
              "      <td>8617 Holmes Terrace Suite 651</td>\n",
              "      <td>...</td>\n",
              "      <td>39.2667</td>\n",
              "      <td>-77.5101</td>\n",
              "      <td>100</td>\n",
              "      <td>Production assistant, television</td>\n",
              "      <td>1979-12-11</td>\n",
              "      <td>278000d2e0d2277d1de2f890067dcc0a</td>\n",
              "      <td>1371816739</td>\n",
              "      <td>38.906881</td>\n",
              "      <td>-78.246528</td>\n",
              "      <td>0</td>\n",
              "    </tr>\n",
              "    <tr>\n",
              "      <th>1296672</th>\n",
              "      <td>1296672</td>\n",
              "      <td>2020-06-21 12:12:32</td>\n",
              "      <td>3514865930894695</td>\n",
              "      <td>fraud_Stiedemann Ltd</td>\n",
              "      <td>food_dining</td>\n",
              "      <td>105.93</td>\n",
              "      <td>Christopher</td>\n",
              "      <td>Castaneda</td>\n",
              "      <td>M</td>\n",
              "      <td>1632 Cohen Drive Suite 639</td>\n",
              "      <td>...</td>\n",
              "      <td>32.9396</td>\n",
              "      <td>-105.8189</td>\n",
              "      <td>899</td>\n",
              "      <td>Naval architect</td>\n",
              "      <td>1967-08-30</td>\n",
              "      <td>483f52fe67fabef353d552c1e662974c</td>\n",
              "      <td>1371816752</td>\n",
              "      <td>33.619513</td>\n",
              "      <td>-105.130529</td>\n",
              "      <td>0</td>\n",
              "    </tr>\n",
              "    <tr>\n",
              "      <th>1296673</th>\n",
              "      <td>1296673</td>\n",
              "      <td>2020-06-21 12:13:36</td>\n",
              "      <td>2720012583106919</td>\n",
              "      <td>fraud_Reinger, Weissnat and Strosin</td>\n",
              "      <td>food_dining</td>\n",
              "      <td>74.90</td>\n",
              "      <td>Joseph</td>\n",
              "      <td>Murray</td>\n",
              "      <td>M</td>\n",
              "      <td>42933 Ryan Underpass</td>\n",
              "      <td>...</td>\n",
              "      <td>43.3526</td>\n",
              "      <td>-102.5411</td>\n",
              "      <td>1126</td>\n",
              "      <td>Volunteer coordinator</td>\n",
              "      <td>1980-08-18</td>\n",
              "      <td>d667cdcbadaaed3da3f4020e83591c83</td>\n",
              "      <td>1371816816</td>\n",
              "      <td>42.788940</td>\n",
              "      <td>-103.241160</td>\n",
              "      <td>0</td>\n",
              "    </tr>\n",
              "    <tr>\n",
              "      <th>1296674</th>\n",
              "      <td>1296674</td>\n",
              "      <td>2020-06-21 12:13:37</td>\n",
              "      <td>4292902571056973207</td>\n",
              "      <td>fraud_Langosh, Wintheiser and Hyatt</td>\n",
              "      <td>food_dining</td>\n",
              "      <td>4.30</td>\n",
              "      <td>Jeffrey</td>\n",
              "      <td>Smith</td>\n",
              "      <td>M</td>\n",
              "      <td>135 Joseph Mountains</td>\n",
              "      <td>...</td>\n",
              "      <td>45.8433</td>\n",
              "      <td>-113.8748</td>\n",
              "      <td>218</td>\n",
              "      <td>Therapist, horticultural</td>\n",
              "      <td>1995-08-16</td>\n",
              "      <td>8f7c8e4ab7f25875d753b422917c98c9</td>\n",
              "      <td>1371816817</td>\n",
              "      <td>46.565983</td>\n",
              "      <td>-114.186110</td>\n",
              "      <td>0</td>\n",
              "    </tr>\n",
              "  </tbody>\n",
              "</table>\n",
              "<p>5 rows × 23 columns</p>\n",
              "</div>\n",
              "    <div class=\"colab-df-buttons\">\n",
              "\n",
              "  <div class=\"colab-df-container\">\n",
              "    <button class=\"colab-df-convert\" onclick=\"convertToInteractive('df-3a7325fc-53d3-4246-a7c8-17ed4a41ab85')\"\n",
              "            title=\"Convert this dataframe to an interactive table.\"\n",
              "            style=\"display:none;\">\n",
              "\n",
              "  <svg xmlns=\"http://www.w3.org/2000/svg\" height=\"24px\" viewBox=\"0 -960 960 960\">\n",
              "    <path d=\"M120-120v-720h720v720H120Zm60-500h600v-160H180v160Zm220 220h160v-160H400v160Zm0 220h160v-160H400v160ZM180-400h160v-160H180v160Zm440 0h160v-160H620v160ZM180-180h160v-160H180v160Zm440 0h160v-160H620v160Z\"/>\n",
              "  </svg>\n",
              "    </button>\n",
              "\n",
              "  <style>\n",
              "    .colab-df-container {\n",
              "      display:flex;\n",
              "      gap: 12px;\n",
              "    }\n",
              "\n",
              "    .colab-df-convert {\n",
              "      background-color: #E8F0FE;\n",
              "      border: none;\n",
              "      border-radius: 50%;\n",
              "      cursor: pointer;\n",
              "      display: none;\n",
              "      fill: #1967D2;\n",
              "      height: 32px;\n",
              "      padding: 0 0 0 0;\n",
              "      width: 32px;\n",
              "    }\n",
              "\n",
              "    .colab-df-convert:hover {\n",
              "      background-color: #E2EBFA;\n",
              "      box-shadow: 0px 1px 2px rgba(60, 64, 67, 0.3), 0px 1px 3px 1px rgba(60, 64, 67, 0.15);\n",
              "      fill: #174EA6;\n",
              "    }\n",
              "\n",
              "    .colab-df-buttons div {\n",
              "      margin-bottom: 4px;\n",
              "    }\n",
              "\n",
              "    [theme=dark] .colab-df-convert {\n",
              "      background-color: #3B4455;\n",
              "      fill: #D2E3FC;\n",
              "    }\n",
              "\n",
              "    [theme=dark] .colab-df-convert:hover {\n",
              "      background-color: #434B5C;\n",
              "      box-shadow: 0px 1px 3px 1px rgba(0, 0, 0, 0.15);\n",
              "      filter: drop-shadow(0px 1px 2px rgba(0, 0, 0, 0.3));\n",
              "      fill: #FFFFFF;\n",
              "    }\n",
              "  </style>\n",
              "\n",
              "    <script>\n",
              "      const buttonEl =\n",
              "        document.querySelector('#df-3a7325fc-53d3-4246-a7c8-17ed4a41ab85 button.colab-df-convert');\n",
              "      buttonEl.style.display =\n",
              "        google.colab.kernel.accessAllowed ? 'block' : 'none';\n",
              "\n",
              "      async function convertToInteractive(key) {\n",
              "        const element = document.querySelector('#df-3a7325fc-53d3-4246-a7c8-17ed4a41ab85');\n",
              "        const dataTable =\n",
              "          await google.colab.kernel.invokeFunction('convertToInteractive',\n",
              "                                                    [key], {});\n",
              "        if (!dataTable) return;\n",
              "\n",
              "        const docLinkHtml = 'Like what you see? Visit the ' +\n",
              "          '<a target=\"_blank\" href=https://colab.research.google.com/notebooks/data_table.ipynb>data table notebook</a>'\n",
              "          + ' to learn more about interactive tables.';\n",
              "        element.innerHTML = '';\n",
              "        dataTable['output_type'] = 'display_data';\n",
              "        await google.colab.output.renderOutput(dataTable, element);\n",
              "        const docLink = document.createElement('div');\n",
              "        docLink.innerHTML = docLinkHtml;\n",
              "        element.appendChild(docLink);\n",
              "      }\n",
              "    </script>\n",
              "  </div>\n",
              "\n",
              "\n",
              "<div id=\"df-6ec37b76-1170-4874-98bd-0585f620f781\">\n",
              "  <button class=\"colab-df-quickchart\" onclick=\"quickchart('df-6ec37b76-1170-4874-98bd-0585f620f781')\"\n",
              "            title=\"Suggest charts\"\n",
              "            style=\"display:none;\">\n",
              "\n",
              "<svg xmlns=\"http://www.w3.org/2000/svg\" height=\"24px\"viewBox=\"0 0 24 24\"\n",
              "     width=\"24px\">\n",
              "    <g>\n",
              "        <path d=\"M19 3H5c-1.1 0-2 .9-2 2v14c0 1.1.9 2 2 2h14c1.1 0 2-.9 2-2V5c0-1.1-.9-2-2-2zM9 17H7v-7h2v7zm4 0h-2V7h2v10zm4 0h-2v-4h2v4z\"/>\n",
              "    </g>\n",
              "</svg>\n",
              "  </button>\n",
              "\n",
              "<style>\n",
              "  .colab-df-quickchart {\n",
              "      --bg-color: #E8F0FE;\n",
              "      --fill-color: #1967D2;\n",
              "      --hover-bg-color: #E2EBFA;\n",
              "      --hover-fill-color: #174EA6;\n",
              "      --disabled-fill-color: #AAA;\n",
              "      --disabled-bg-color: #DDD;\n",
              "  }\n",
              "\n",
              "  [theme=dark] .colab-df-quickchart {\n",
              "      --bg-color: #3B4455;\n",
              "      --fill-color: #D2E3FC;\n",
              "      --hover-bg-color: #434B5C;\n",
              "      --hover-fill-color: #FFFFFF;\n",
              "      --disabled-bg-color: #3B4455;\n",
              "      --disabled-fill-color: #666;\n",
              "  }\n",
              "\n",
              "  .colab-df-quickchart {\n",
              "    background-color: var(--bg-color);\n",
              "    border: none;\n",
              "    border-radius: 50%;\n",
              "    cursor: pointer;\n",
              "    display: none;\n",
              "    fill: var(--fill-color);\n",
              "    height: 32px;\n",
              "    padding: 0;\n",
              "    width: 32px;\n",
              "  }\n",
              "\n",
              "  .colab-df-quickchart:hover {\n",
              "    background-color: var(--hover-bg-color);\n",
              "    box-shadow: 0 1px 2px rgba(60, 64, 67, 0.3), 0 1px 3px 1px rgba(60, 64, 67, 0.15);\n",
              "    fill: var(--button-hover-fill-color);\n",
              "  }\n",
              "\n",
              "  .colab-df-quickchart-complete:disabled,\n",
              "  .colab-df-quickchart-complete:disabled:hover {\n",
              "    background-color: var(--disabled-bg-color);\n",
              "    fill: var(--disabled-fill-color);\n",
              "    box-shadow: none;\n",
              "  }\n",
              "\n",
              "  .colab-df-spinner {\n",
              "    border: 2px solid var(--fill-color);\n",
              "    border-color: transparent;\n",
              "    border-bottom-color: var(--fill-color);\n",
              "    animation:\n",
              "      spin 1s steps(1) infinite;\n",
              "  }\n",
              "\n",
              "  @keyframes spin {\n",
              "    0% {\n",
              "      border-color: transparent;\n",
              "      border-bottom-color: var(--fill-color);\n",
              "      border-left-color: var(--fill-color);\n",
              "    }\n",
              "    20% {\n",
              "      border-color: transparent;\n",
              "      border-left-color: var(--fill-color);\n",
              "      border-top-color: var(--fill-color);\n",
              "    }\n",
              "    30% {\n",
              "      border-color: transparent;\n",
              "      border-left-color: var(--fill-color);\n",
              "      border-top-color: var(--fill-color);\n",
              "      border-right-color: var(--fill-color);\n",
              "    }\n",
              "    40% {\n",
              "      border-color: transparent;\n",
              "      border-right-color: var(--fill-color);\n",
              "      border-top-color: var(--fill-color);\n",
              "    }\n",
              "    60% {\n",
              "      border-color: transparent;\n",
              "      border-right-color: var(--fill-color);\n",
              "    }\n",
              "    80% {\n",
              "      border-color: transparent;\n",
              "      border-right-color: var(--fill-color);\n",
              "      border-bottom-color: var(--fill-color);\n",
              "    }\n",
              "    90% {\n",
              "      border-color: transparent;\n",
              "      border-bottom-color: var(--fill-color);\n",
              "    }\n",
              "  }\n",
              "</style>\n",
              "\n",
              "  <script>\n",
              "    async function quickchart(key) {\n",
              "      const quickchartButtonEl =\n",
              "        document.querySelector('#' + key + ' button');\n",
              "      quickchartButtonEl.disabled = true;  // To prevent multiple clicks.\n",
              "      quickchartButtonEl.classList.add('colab-df-spinner');\n",
              "      try {\n",
              "        const charts = await google.colab.kernel.invokeFunction(\n",
              "            'suggestCharts', [key], {});\n",
              "      } catch (error) {\n",
              "        console.error('Error during call to suggestCharts:', error);\n",
              "      }\n",
              "      quickchartButtonEl.classList.remove('colab-df-spinner');\n",
              "      quickchartButtonEl.classList.add('colab-df-quickchart-complete');\n",
              "    }\n",
              "    (() => {\n",
              "      let quickchartButtonEl =\n",
              "        document.querySelector('#df-6ec37b76-1170-4874-98bd-0585f620f781 button');\n",
              "      quickchartButtonEl.style.display =\n",
              "        google.colab.kernel.accessAllowed ? 'block' : 'none';\n",
              "    })();\n",
              "  </script>\n",
              "</div>\n",
              "\n",
              "    </div>\n",
              "  </div>\n"
            ],
            "text/plain": [
              "         Unnamed: 0 trans_date_trans_time               cc_num  \\\n",
              "1296670     1296670   2020-06-21 12:12:08       30263540414123   \n",
              "1296671     1296671   2020-06-21 12:12:19     6011149206456997   \n",
              "1296672     1296672   2020-06-21 12:12:32     3514865930894695   \n",
              "1296673     1296673   2020-06-21 12:13:36     2720012583106919   \n",
              "1296674     1296674   2020-06-21 12:13:37  4292902571056973207   \n",
              "\n",
              "                                    merchant       category     amt  \\\n",
              "1296670                    fraud_Reichel Inc  entertainment   15.56   \n",
              "1296671             fraud_Abernathy and Sons    food_dining   51.70   \n",
              "1296672                 fraud_Stiedemann Ltd    food_dining  105.93   \n",
              "1296673  fraud_Reinger, Weissnat and Strosin    food_dining   74.90   \n",
              "1296674  fraud_Langosh, Wintheiser and Hyatt    food_dining    4.30   \n",
              "\n",
              "               first       last gender                         street  ...  \\\n",
              "1296670         Erik  Patterson      M       162 Jessica Row Apt. 072  ...   \n",
              "1296671      Jeffrey      White      M  8617 Holmes Terrace Suite 651  ...   \n",
              "1296672  Christopher  Castaneda      M     1632 Cohen Drive Suite 639  ...   \n",
              "1296673       Joseph     Murray      M           42933 Ryan Underpass  ...   \n",
              "1296674      Jeffrey      Smith      M           135 Joseph Mountains  ...   \n",
              "\n",
              "             lat      long  city_pop                               job  \\\n",
              "1296670  37.7175 -112.4777       258                      Geoscientist   \n",
              "1296671  39.2667  -77.5101       100  Production assistant, television   \n",
              "1296672  32.9396 -105.8189       899                   Naval architect   \n",
              "1296673  43.3526 -102.5411      1126             Volunteer coordinator   \n",
              "1296674  45.8433 -113.8748       218          Therapist, horticultural   \n",
              "\n",
              "                dob                         trans_num   unix_time  merch_lat  \\\n",
              "1296670  1961-11-24  440b587732da4dc1a6395aba5fb41669  1371816728  36.841266   \n",
              "1296671  1979-12-11  278000d2e0d2277d1de2f890067dcc0a  1371816739  38.906881   \n",
              "1296672  1967-08-30  483f52fe67fabef353d552c1e662974c  1371816752  33.619513   \n",
              "1296673  1980-08-18  d667cdcbadaaed3da3f4020e83591c83  1371816816  42.788940   \n",
              "1296674  1995-08-16  8f7c8e4ab7f25875d753b422917c98c9  1371816817  46.565983   \n",
              "\n",
              "         merch_long  is_fraud  \n",
              "1296670 -111.690765         0  \n",
              "1296671  -78.246528         0  \n",
              "1296672 -105.130529         0  \n",
              "1296673 -103.241160         0  \n",
              "1296674 -114.186110         0  \n",
              "\n",
              "[5 rows x 23 columns]"
            ]
          },
          "execution_count": 106,
          "metadata": {},
          "output_type": "execute_result"
        }
      ],
      "source": [
        "# last 5 rows of the data\n",
        "fraud_df.tail()"
      ]
    },
    {
      "cell_type": "code",
      "execution_count": null,
      "metadata": {
        "colab": {
          "base_uri": "https://localhost:8080/"
        },
        "collapsed": true,
        "id": "mKewwq2byVvd",
        "outputId": "904fa639-dc84-46e3-fe68-6c5a0ec38817"
      },
      "outputs": [
        {
          "data": {
            "text/plain": [
              "(1296675, 23)"
            ]
          },
          "execution_count": 110,
          "metadata": {},
          "output_type": "execute_result"
        }
      ],
      "source": [
        "# shape of the dataset\n",
        "fraud_df.shape"
      ]
    },
    {
      "cell_type": "code",
      "execution_count": null,
      "metadata": {
        "colab": {
          "base_uri": "https://localhost:8080/"
        },
        "collapsed": true,
        "id": "pQLdQp02yjeH",
        "outputId": "d5cac504-664c-4087-ec3b-797f111ae2fd"
      },
      "outputs": [
        {
          "data": {
            "text/plain": [
              "Index(['Unnamed: 0', 'trans_date_trans_time', 'cc_num', 'merchant', 'category',\n",
              "       'amt', 'first', 'last', 'gender', 'street', 'city', 'state', 'zip',\n",
              "       'lat', 'long', 'city_pop', 'job', 'dob', 'trans_num', 'unix_time',\n",
              "       'merch_lat', 'merch_long', 'is_fraud'],\n",
              "      dtype='object')"
            ]
          },
          "execution_count": 111,
          "metadata": {},
          "output_type": "execute_result"
        }
      ],
      "source": [
        "# columns in the dataset\n",
        "fraud_df.columns"
      ]
    },
    {
      "cell_type": "code",
      "execution_count": null,
      "metadata": {
        "colab": {
          "base_uri": "https://localhost:8080/"
        },
        "collapsed": true,
        "id": "Ou2Z7nymy7xv",
        "outputId": "6c7a06c7-e4f4-4a23-9989-cabc0930f8ac"
      },
      "outputs": [
        {
          "data": {
            "text/plain": [
              "Unnamed: 0                 int64\n",
              "trans_date_trans_time     object\n",
              "cc_num                     int64\n",
              "merchant                  object\n",
              "category                  object\n",
              "amt                      float64\n",
              "first                     object\n",
              "last                      object\n",
              "gender                    object\n",
              "street                    object\n",
              "city                      object\n",
              "state                     object\n",
              "zip                        int64\n",
              "lat                      float64\n",
              "long                     float64\n",
              "city_pop                   int64\n",
              "job                       object\n",
              "dob                       object\n",
              "trans_num                 object\n",
              "unix_time                  int64\n",
              "merch_lat                float64\n",
              "merch_long               float64\n",
              "is_fraud                   int64\n",
              "dtype: object"
            ]
          },
          "execution_count": 112,
          "metadata": {},
          "output_type": "execute_result"
        }
      ],
      "source": [
        "# check the datatypes of the features\n",
        "fraud_df.dtypes"
      ]
    },
    {
      "cell_type": "markdown",
      "metadata": {
        "id": "3FC-vOc92VPY"
      },
      "source": [
        "- columns trans_date_trans_time and dob are in object format change it to datetime."
      ]
    },
    {
      "cell_type": "code",
      "execution_count": null,
      "metadata": {
        "id": "4c92j6eczMHw"
      },
      "outputs": [],
      "source": [
        "fraud_df['trans_date_trans_time'] = pd.to_datetime(fraud_df['trans_date_trans_time'])\n",
        "fraud_df['dob'] = pd.to_datetime(fraud_df['dob'])"
      ]
    },
    {
      "cell_type": "code",
      "execution_count": null,
      "metadata": {
        "colab": {
          "base_uri": "https://localhost:8080/"
        },
        "collapsed": true,
        "id": "g_BN0uRP4WlY",
        "outputId": "eaf4f07b-1c57-459c-92a2-3683e2e67ab2"
      },
      "outputs": [
        {
          "data": {
            "text/plain": [
              "Unnamed: 0                        int64\n",
              "trans_date_trans_time    datetime64[ns]\n",
              "cc_num                            int64\n",
              "merchant                         object\n",
              "category                         object\n",
              "amt                             float64\n",
              "first                            object\n",
              "last                             object\n",
              "gender                           object\n",
              "street                           object\n",
              "city                             object\n",
              "state                            object\n",
              "zip                               int64\n",
              "lat                             float64\n",
              "long                            float64\n",
              "city_pop                          int64\n",
              "job                              object\n",
              "dob                      datetime64[ns]\n",
              "trans_num                        object\n",
              "unix_time                         int64\n",
              "merch_lat                       float64\n",
              "merch_long                      float64\n",
              "is_fraud                          int64\n",
              "dtype: object"
            ]
          },
          "execution_count": 114,
          "metadata": {},
          "output_type": "execute_result"
        }
      ],
      "source": [
        "#check data types again\n",
        "fraud_df.dtypes"
      ]
    },
    {
      "cell_type": "markdown",
      "metadata": {
        "id": "sIwWOkkn-5L2"
      },
      "source": [
        "## **Data Summary**"
      ]
    },
    {
      "cell_type": "markdown",
      "metadata": {
        "id": "Eu7o6W_E_CO9"
      },
      "source": [
        "# **Information/Description of the Data**"
      ]
    },
    {
      "cell_type": "code",
      "execution_count": null,
      "metadata": {
        "colab": {
          "base_uri": "https://localhost:8080/"
        },
        "collapsed": true,
        "id": "b_LtpjRq51pY",
        "outputId": "ff9dcb5b-2073-4b02-cc67-c1df1b82399d"
      },
      "outputs": [
        {
          "name": "stdout",
          "output_type": "stream",
          "text": [
            "<class 'pandas.core.frame.DataFrame'>\n",
            "RangeIndex: 1296675 entries, 0 to 1296674\n",
            "Data columns (total 23 columns):\n",
            " #   Column                 Non-Null Count    Dtype         \n",
            "---  ------                 --------------    -----         \n",
            " 0   Unnamed: 0             1296675 non-null  int64         \n",
            " 1   trans_date_trans_time  1296675 non-null  datetime64[ns]\n",
            " 2   cc_num                 1296675 non-null  int64         \n",
            " 3   merchant               1296675 non-null  object        \n",
            " 4   category               1296675 non-null  object        \n",
            " 5   amt                    1296675 non-null  float64       \n",
            " 6   first                  1296675 non-null  object        \n",
            " 7   last                   1296675 non-null  object        \n",
            " 8   gender                 1296675 non-null  object        \n",
            " 9   street                 1296675 non-null  object        \n",
            " 10  city                   1296675 non-null  object        \n",
            " 11  state                  1296675 non-null  object        \n",
            " 12  zip                    1296675 non-null  int64         \n",
            " 13  lat                    1296675 non-null  float64       \n",
            " 14  long                   1296675 non-null  float64       \n",
            " 15  city_pop               1296675 non-null  int64         \n",
            " 16  job                    1296675 non-null  object        \n",
            " 17  dob                    1296675 non-null  datetime64[ns]\n",
            " 18  trans_num              1296675 non-null  object        \n",
            " 19  unix_time              1296675 non-null  int64         \n",
            " 20  merch_lat              1296675 non-null  float64       \n",
            " 21  merch_long             1296675 non-null  float64       \n",
            " 22  is_fraud               1296675 non-null  int64         \n",
            "dtypes: datetime64[ns](2), float64(5), int64(6), object(10)\n",
            "memory usage: 227.5+ MB\n"
          ]
        }
      ],
      "source": [
        "# check information of the dataset\n",
        "fraud_df.info()"
      ]
    },
    {
      "cell_type": "code",
      "execution_count": null,
      "metadata": {
        "colab": {
          "base_uri": "https://localhost:8080/",
          "height": 424
        },
        "collapsed": true,
        "id": "oYQbIyL16Qbe",
        "outputId": "9332255c-17c7-484b-8f69-2070ca672b9f"
      },
      "outputs": [
        {
          "data": {
            "application/vnd.google.colaboratory.intrinsic+json": {
              "summary": "{\n  \"name\": \"fraud_df\",\n  \"rows\": 8,\n  \"fields\": [\n    {\n      \"column\": \"Unnamed: 0\",\n      \"properties\": {\n        \"dtype\": \"number\",\n        \"std\": 467327.72466380673,\n        \"min\": 0.0,\n        \"max\": 1296675.0,\n        \"num_unique_values\": 7,\n        \"samples\": [\n          1296675.0,\n          648337.0,\n          1296674.0\n        ],\n        \"semantic_type\": \"\",\n        \"description\": \"\"\n      }\n    },\n    {\n      \"column\": \"trans_date_trans_time\",\n      \"properties\": {\n        \"dtype\": \"date\",\n        \"min\": \"1970-01-01 00:00:00.001296675\",\n        \"max\": \"2020-06-21 12:13:37\",\n        \"num_unique_values\": 7,\n        \"samples\": [\n          \"1296675\",\n          \"2019-10-03 12:47:28.070214144\",\n          \"2020-01-28 15:02:55.500000\"\n        ],\n        \"semantic_type\": \"\",\n        \"description\": \"\"\n      }\n    },\n    {\n      \"column\": \"cc_num\",\n      \"properties\": {\n        \"dtype\": \"number\",\n        \"std\": 1.7384121453893153e+18,\n        \"min\": 1296675.0,\n        \"max\": 4.992346398065154e+18,\n        \"num_unique_values\": 8,\n        \"samples\": [\n          4.1719204207972666e+17,\n          4642255475285942.0,\n          1296675.0\n        ],\n        \"semantic_type\": \"\",\n        \"description\": \"\"\n      }\n    },\n    {\n      \"column\": \"amt\",\n      \"properties\": {\n        \"dtype\": \"number\",\n        \"std\": 457074.70491299,\n        \"min\": 1.0,\n        \"max\": 1296675.0,\n        \"num_unique_values\": 8,\n        \"samples\": [\n          70.35103545607033,\n          83.14,\n          1296675.0\n        ],\n        \"semantic_type\": \"\",\n        \"description\": \"\"\n      }\n    },\n    {\n      \"column\": \"zip\",\n      \"properties\": {\n        \"dtype\": \"number\",\n        \"std\": 443143.6607765641,\n        \"min\": 1257.0,\n        \"max\": 1296675.0,\n        \"num_unique_values\": 8,\n        \"samples\": [\n          48800.67109722945,\n          72042.0,\n          1296675.0\n        ],\n        \"semantic_type\": \"\",\n        \"description\": \"\"\n      }\n    },\n    {\n      \"column\": \"lat\",\n      \"properties\": {\n        \"dtype\": \"number\",\n        \"std\": 458431.4056366746,\n        \"min\": 5.075808438803932,\n        \"max\": 1296675.0,\n        \"num_unique_values\": 8,\n        \"samples\": [\n          38.53762161489965,\n          41.9404,\n          1296675.0\n        ],\n        \"semantic_type\": \"\",\n        \"description\": \"\"\n      }\n    },\n    {\n      \"column\": \"long\",\n      \"properties\": {\n        \"dtype\": \"number\",\n        \"std\": 458472.86312882503,\n        \"min\": -165.6723,\n        \"max\": 1296675.0,\n        \"num_unique_values\": 8,\n        \"samples\": [\n          -90.22633537864147,\n          -80.158,\n          1296675.0\n        ],\n        \"semantic_type\": \"\",\n        \"description\": \"\"\n      }\n    },\n    {\n      \"column\": \"city_pop\",\n      \"properties\": {\n        \"dtype\": \"number\",\n        \"std\": 1039529.9297801103,\n        \"min\": 23.0,\n        \"max\": 2906700.0,\n        \"num_unique_values\": 8,\n        \"samples\": [\n          88824.44056297839,\n          20328.0,\n          1296675.0\n        ],\n        \"semantic_type\": \"\",\n        \"description\": \"\"\n      }\n    },\n    {\n      \"column\": \"dob\",\n      \"properties\": {\n        \"dtype\": \"date\",\n        \"min\": \"1924-10-30 00:00:00\",\n        \"max\": \"2005-01-29 00:00:00\",\n        \"num_unique_values\": 7,\n        \"samples\": [\n          \"1296675\",\n          \"1973-10-03 19:02:55.017178512\",\n          \"1987-02-22 00:00:00\"\n        ],\n        \"semantic_type\": \"\",\n        \"description\": \"\"\n      }\n    },\n    {\n      \"column\": \"unix_time\",\n      \"properties\": {\n        \"dtype\": \"number\",\n        \"std\": 621335825.9949876,\n        \"min\": 1296675.0,\n        \"max\": 1371816817.0,\n        \"num_unique_values\": 8,\n        \"samples\": [\n          1349243636.7261226,\n          1359385375.5,\n          1296675.0\n        ],\n        \"semantic_type\": \"\",\n        \"description\": \"\"\n      }\n    },\n    {\n      \"column\": \"merch_lat\",\n      \"properties\": {\n        \"dtype\": \"number\",\n        \"std\": 458431.4060249457,\n        \"min\": 5.109788369679177,\n        \"max\": 1296675.0,\n        \"num_unique_values\": 8,\n        \"samples\": [\n          38.53733804469971,\n          41.957164,\n          1296675.0\n        ],\n        \"semantic_type\": \"\",\n        \"description\": \"\"\n      }\n    },\n    {\n      \"column\": \"merch_long\",\n      \"properties\": {\n        \"dtype\": \"number\",\n        \"std\": 458472.8695860328,\n        \"min\": -166.671242,\n        \"max\": 1296675.0,\n        \"num_unique_values\": 8,\n        \"samples\": [\n          -90.22646479897277,\n          -80.2367965,\n          1296675.0\n        ],\n        \"semantic_type\": \"\",\n        \"description\": \"\"\n      }\n    },\n    {\n      \"column\": \"is_fraud\",\n      \"properties\": {\n        \"dtype\": \"number\",\n        \"std\": 458443.7881160212,\n        \"min\": 0.0,\n        \"max\": 1296675.0,\n        \"num_unique_values\": 5,\n        \"samples\": [\n          0.005788651743883394,\n          0.07586268973125164,\n          0.0\n        ],\n        \"semantic_type\": \"\",\n        \"description\": \"\"\n      }\n    }\n  ]\n}",
              "type": "dataframe"
            },
            "text/html": [
              "\n",
              "  <div id=\"df-23bddd86-0816-487f-b89d-0d5a491f0081\" class=\"colab-df-container\">\n",
              "    <div>\n",
              "<style scoped>\n",
              "    .dataframe tbody tr th:only-of-type {\n",
              "        vertical-align: middle;\n",
              "    }\n",
              "\n",
              "    .dataframe tbody tr th {\n",
              "        vertical-align: top;\n",
              "    }\n",
              "\n",
              "    .dataframe thead th {\n",
              "        text-align: right;\n",
              "    }\n",
              "</style>\n",
              "<table border=\"1\" class=\"dataframe\">\n",
              "  <thead>\n",
              "    <tr style=\"text-align: right;\">\n",
              "      <th></th>\n",
              "      <th>Unnamed: 0</th>\n",
              "      <th>trans_date_trans_time</th>\n",
              "      <th>cc_num</th>\n",
              "      <th>amt</th>\n",
              "      <th>zip</th>\n",
              "      <th>lat</th>\n",
              "      <th>long</th>\n",
              "      <th>city_pop</th>\n",
              "      <th>dob</th>\n",
              "      <th>unix_time</th>\n",
              "      <th>merch_lat</th>\n",
              "      <th>merch_long</th>\n",
              "      <th>is_fraud</th>\n",
              "    </tr>\n",
              "  </thead>\n",
              "  <tbody>\n",
              "    <tr>\n",
              "      <th>count</th>\n",
              "      <td>1.296675e+06</td>\n",
              "      <td>1296675</td>\n",
              "      <td>1.296675e+06</td>\n",
              "      <td>1.296675e+06</td>\n",
              "      <td>1.296675e+06</td>\n",
              "      <td>1.296675e+06</td>\n",
              "      <td>1.296675e+06</td>\n",
              "      <td>1.296675e+06</td>\n",
              "      <td>1296675</td>\n",
              "      <td>1.296675e+06</td>\n",
              "      <td>1.296675e+06</td>\n",
              "      <td>1.296675e+06</td>\n",
              "      <td>1.296675e+06</td>\n",
              "    </tr>\n",
              "    <tr>\n",
              "      <th>mean</th>\n",
              "      <td>6.483370e+05</td>\n",
              "      <td>2019-10-03 12:47:28.070214144</td>\n",
              "      <td>4.171920e+17</td>\n",
              "      <td>7.035104e+01</td>\n",
              "      <td>4.880067e+04</td>\n",
              "      <td>3.853762e+01</td>\n",
              "      <td>-9.022634e+01</td>\n",
              "      <td>8.882444e+04</td>\n",
              "      <td>1973-10-03 19:02:55.017178512</td>\n",
              "      <td>1.349244e+09</td>\n",
              "      <td>3.853734e+01</td>\n",
              "      <td>-9.022646e+01</td>\n",
              "      <td>5.788652e-03</td>\n",
              "    </tr>\n",
              "    <tr>\n",
              "      <th>min</th>\n",
              "      <td>0.000000e+00</td>\n",
              "      <td>2019-01-01 00:00:18</td>\n",
              "      <td>6.041621e+10</td>\n",
              "      <td>1.000000e+00</td>\n",
              "      <td>1.257000e+03</td>\n",
              "      <td>2.002710e+01</td>\n",
              "      <td>-1.656723e+02</td>\n",
              "      <td>2.300000e+01</td>\n",
              "      <td>1924-10-30 00:00:00</td>\n",
              "      <td>1.325376e+09</td>\n",
              "      <td>1.902779e+01</td>\n",
              "      <td>-1.666712e+02</td>\n",
              "      <td>0.000000e+00</td>\n",
              "    </tr>\n",
              "    <tr>\n",
              "      <th>25%</th>\n",
              "      <td>3.241685e+05</td>\n",
              "      <td>2019-06-03 19:12:22.500000</td>\n",
              "      <td>1.800429e+14</td>\n",
              "      <td>9.650000e+00</td>\n",
              "      <td>2.623700e+04</td>\n",
              "      <td>3.462050e+01</td>\n",
              "      <td>-9.679800e+01</td>\n",
              "      <td>7.430000e+02</td>\n",
              "      <td>1962-08-13 00:00:00</td>\n",
              "      <td>1.338751e+09</td>\n",
              "      <td>3.473357e+01</td>\n",
              "      <td>-9.689728e+01</td>\n",
              "      <td>0.000000e+00</td>\n",
              "    </tr>\n",
              "    <tr>\n",
              "      <th>50%</th>\n",
              "      <td>6.483370e+05</td>\n",
              "      <td>2019-10-03 07:35:47</td>\n",
              "      <td>3.521417e+15</td>\n",
              "      <td>4.752000e+01</td>\n",
              "      <td>4.817400e+04</td>\n",
              "      <td>3.935430e+01</td>\n",
              "      <td>-8.747690e+01</td>\n",
              "      <td>2.456000e+03</td>\n",
              "      <td>1975-11-30 00:00:00</td>\n",
              "      <td>1.349250e+09</td>\n",
              "      <td>3.936568e+01</td>\n",
              "      <td>-8.743839e+01</td>\n",
              "      <td>0.000000e+00</td>\n",
              "    </tr>\n",
              "    <tr>\n",
              "      <th>75%</th>\n",
              "      <td>9.725055e+05</td>\n",
              "      <td>2020-01-28 15:02:55.500000</td>\n",
              "      <td>4.642255e+15</td>\n",
              "      <td>8.314000e+01</td>\n",
              "      <td>7.204200e+04</td>\n",
              "      <td>4.194040e+01</td>\n",
              "      <td>-8.015800e+01</td>\n",
              "      <td>2.032800e+04</td>\n",
              "      <td>1987-02-22 00:00:00</td>\n",
              "      <td>1.359385e+09</td>\n",
              "      <td>4.195716e+01</td>\n",
              "      <td>-8.023680e+01</td>\n",
              "      <td>0.000000e+00</td>\n",
              "    </tr>\n",
              "    <tr>\n",
              "      <th>max</th>\n",
              "      <td>1.296674e+06</td>\n",
              "      <td>2020-06-21 12:13:37</td>\n",
              "      <td>4.992346e+18</td>\n",
              "      <td>2.894890e+04</td>\n",
              "      <td>9.978300e+04</td>\n",
              "      <td>6.669330e+01</td>\n",
              "      <td>-6.795030e+01</td>\n",
              "      <td>2.906700e+06</td>\n",
              "      <td>2005-01-29 00:00:00</td>\n",
              "      <td>1.371817e+09</td>\n",
              "      <td>6.751027e+01</td>\n",
              "      <td>-6.695090e+01</td>\n",
              "      <td>1.000000e+00</td>\n",
              "    </tr>\n",
              "    <tr>\n",
              "      <th>std</th>\n",
              "      <td>3.743180e+05</td>\n",
              "      <td>NaN</td>\n",
              "      <td>1.308806e+18</td>\n",
              "      <td>1.603160e+02</td>\n",
              "      <td>2.689322e+04</td>\n",
              "      <td>5.075808e+00</td>\n",
              "      <td>1.375908e+01</td>\n",
              "      <td>3.019564e+05</td>\n",
              "      <td>NaN</td>\n",
              "      <td>1.284128e+07</td>\n",
              "      <td>5.109788e+00</td>\n",
              "      <td>1.377109e+01</td>\n",
              "      <td>7.586269e-02</td>\n",
              "    </tr>\n",
              "  </tbody>\n",
              "</table>\n",
              "</div>\n",
              "    <div class=\"colab-df-buttons\">\n",
              "\n",
              "  <div class=\"colab-df-container\">\n",
              "    <button class=\"colab-df-convert\" onclick=\"convertToInteractive('df-23bddd86-0816-487f-b89d-0d5a491f0081')\"\n",
              "            title=\"Convert this dataframe to an interactive table.\"\n",
              "            style=\"display:none;\">\n",
              "\n",
              "  <svg xmlns=\"http://www.w3.org/2000/svg\" height=\"24px\" viewBox=\"0 -960 960 960\">\n",
              "    <path d=\"M120-120v-720h720v720H120Zm60-500h600v-160H180v160Zm220 220h160v-160H400v160Zm0 220h160v-160H400v160ZM180-400h160v-160H180v160Zm440 0h160v-160H620v160ZM180-180h160v-160H180v160Zm440 0h160v-160H620v160Z\"/>\n",
              "  </svg>\n",
              "    </button>\n",
              "\n",
              "  <style>\n",
              "    .colab-df-container {\n",
              "      display:flex;\n",
              "      gap: 12px;\n",
              "    }\n",
              "\n",
              "    .colab-df-convert {\n",
              "      background-color: #E8F0FE;\n",
              "      border: none;\n",
              "      border-radius: 50%;\n",
              "      cursor: pointer;\n",
              "      display: none;\n",
              "      fill: #1967D2;\n",
              "      height: 32px;\n",
              "      padding: 0 0 0 0;\n",
              "      width: 32px;\n",
              "    }\n",
              "\n",
              "    .colab-df-convert:hover {\n",
              "      background-color: #E2EBFA;\n",
              "      box-shadow: 0px 1px 2px rgba(60, 64, 67, 0.3), 0px 1px 3px 1px rgba(60, 64, 67, 0.15);\n",
              "      fill: #174EA6;\n",
              "    }\n",
              "\n",
              "    .colab-df-buttons div {\n",
              "      margin-bottom: 4px;\n",
              "    }\n",
              "\n",
              "    [theme=dark] .colab-df-convert {\n",
              "      background-color: #3B4455;\n",
              "      fill: #D2E3FC;\n",
              "    }\n",
              "\n",
              "    [theme=dark] .colab-df-convert:hover {\n",
              "      background-color: #434B5C;\n",
              "      box-shadow: 0px 1px 3px 1px rgba(0, 0, 0, 0.15);\n",
              "      filter: drop-shadow(0px 1px 2px rgba(0, 0, 0, 0.3));\n",
              "      fill: #FFFFFF;\n",
              "    }\n",
              "  </style>\n",
              "\n",
              "    <script>\n",
              "      const buttonEl =\n",
              "        document.querySelector('#df-23bddd86-0816-487f-b89d-0d5a491f0081 button.colab-df-convert');\n",
              "      buttonEl.style.display =\n",
              "        google.colab.kernel.accessAllowed ? 'block' : 'none';\n",
              "\n",
              "      async function convertToInteractive(key) {\n",
              "        const element = document.querySelector('#df-23bddd86-0816-487f-b89d-0d5a491f0081');\n",
              "        const dataTable =\n",
              "          await google.colab.kernel.invokeFunction('convertToInteractive',\n",
              "                                                    [key], {});\n",
              "        if (!dataTable) return;\n",
              "\n",
              "        const docLinkHtml = 'Like what you see? Visit the ' +\n",
              "          '<a target=\"_blank\" href=https://colab.research.google.com/notebooks/data_table.ipynb>data table notebook</a>'\n",
              "          + ' to learn more about interactive tables.';\n",
              "        element.innerHTML = '';\n",
              "        dataTable['output_type'] = 'display_data';\n",
              "        await google.colab.output.renderOutput(dataTable, element);\n",
              "        const docLink = document.createElement('div');\n",
              "        docLink.innerHTML = docLinkHtml;\n",
              "        element.appendChild(docLink);\n",
              "      }\n",
              "    </script>\n",
              "  </div>\n",
              "\n",
              "\n",
              "<div id=\"df-644ac099-ffbd-4aef-966e-7f8d87ecf649\">\n",
              "  <button class=\"colab-df-quickchart\" onclick=\"quickchart('df-644ac099-ffbd-4aef-966e-7f8d87ecf649')\"\n",
              "            title=\"Suggest charts\"\n",
              "            style=\"display:none;\">\n",
              "\n",
              "<svg xmlns=\"http://www.w3.org/2000/svg\" height=\"24px\"viewBox=\"0 0 24 24\"\n",
              "     width=\"24px\">\n",
              "    <g>\n",
              "        <path d=\"M19 3H5c-1.1 0-2 .9-2 2v14c0 1.1.9 2 2 2h14c1.1 0 2-.9 2-2V5c0-1.1-.9-2-2-2zM9 17H7v-7h2v7zm4 0h-2V7h2v10zm4 0h-2v-4h2v4z\"/>\n",
              "    </g>\n",
              "</svg>\n",
              "  </button>\n",
              "\n",
              "<style>\n",
              "  .colab-df-quickchart {\n",
              "      --bg-color: #E8F0FE;\n",
              "      --fill-color: #1967D2;\n",
              "      --hover-bg-color: #E2EBFA;\n",
              "      --hover-fill-color: #174EA6;\n",
              "      --disabled-fill-color: #AAA;\n",
              "      --disabled-bg-color: #DDD;\n",
              "  }\n",
              "\n",
              "  [theme=dark] .colab-df-quickchart {\n",
              "      --bg-color: #3B4455;\n",
              "      --fill-color: #D2E3FC;\n",
              "      --hover-bg-color: #434B5C;\n",
              "      --hover-fill-color: #FFFFFF;\n",
              "      --disabled-bg-color: #3B4455;\n",
              "      --disabled-fill-color: #666;\n",
              "  }\n",
              "\n",
              "  .colab-df-quickchart {\n",
              "    background-color: var(--bg-color);\n",
              "    border: none;\n",
              "    border-radius: 50%;\n",
              "    cursor: pointer;\n",
              "    display: none;\n",
              "    fill: var(--fill-color);\n",
              "    height: 32px;\n",
              "    padding: 0;\n",
              "    width: 32px;\n",
              "  }\n",
              "\n",
              "  .colab-df-quickchart:hover {\n",
              "    background-color: var(--hover-bg-color);\n",
              "    box-shadow: 0 1px 2px rgba(60, 64, 67, 0.3), 0 1px 3px 1px rgba(60, 64, 67, 0.15);\n",
              "    fill: var(--button-hover-fill-color);\n",
              "  }\n",
              "\n",
              "  .colab-df-quickchart-complete:disabled,\n",
              "  .colab-df-quickchart-complete:disabled:hover {\n",
              "    background-color: var(--disabled-bg-color);\n",
              "    fill: var(--disabled-fill-color);\n",
              "    box-shadow: none;\n",
              "  }\n",
              "\n",
              "  .colab-df-spinner {\n",
              "    border: 2px solid var(--fill-color);\n",
              "    border-color: transparent;\n",
              "    border-bottom-color: var(--fill-color);\n",
              "    animation:\n",
              "      spin 1s steps(1) infinite;\n",
              "  }\n",
              "\n",
              "  @keyframes spin {\n",
              "    0% {\n",
              "      border-color: transparent;\n",
              "      border-bottom-color: var(--fill-color);\n",
              "      border-left-color: var(--fill-color);\n",
              "    }\n",
              "    20% {\n",
              "      border-color: transparent;\n",
              "      border-left-color: var(--fill-color);\n",
              "      border-top-color: var(--fill-color);\n",
              "    }\n",
              "    30% {\n",
              "      border-color: transparent;\n",
              "      border-left-color: var(--fill-color);\n",
              "      border-top-color: var(--fill-color);\n",
              "      border-right-color: var(--fill-color);\n",
              "    }\n",
              "    40% {\n",
              "      border-color: transparent;\n",
              "      border-right-color: var(--fill-color);\n",
              "      border-top-color: var(--fill-color);\n",
              "    }\n",
              "    60% {\n",
              "      border-color: transparent;\n",
              "      border-right-color: var(--fill-color);\n",
              "    }\n",
              "    80% {\n",
              "      border-color: transparent;\n",
              "      border-right-color: var(--fill-color);\n",
              "      border-bottom-color: var(--fill-color);\n",
              "    }\n",
              "    90% {\n",
              "      border-color: transparent;\n",
              "      border-bottom-color: var(--fill-color);\n",
              "    }\n",
              "  }\n",
              "</style>\n",
              "\n",
              "  <script>\n",
              "    async function quickchart(key) {\n",
              "      const quickchartButtonEl =\n",
              "        document.querySelector('#' + key + ' button');\n",
              "      quickchartButtonEl.disabled = true;  // To prevent multiple clicks.\n",
              "      quickchartButtonEl.classList.add('colab-df-spinner');\n",
              "      try {\n",
              "        const charts = await google.colab.kernel.invokeFunction(\n",
              "            'suggestCharts', [key], {});\n",
              "      } catch (error) {\n",
              "        console.error('Error during call to suggestCharts:', error);\n",
              "      }\n",
              "      quickchartButtonEl.classList.remove('colab-df-spinner');\n",
              "      quickchartButtonEl.classList.add('colab-df-quickchart-complete');\n",
              "    }\n",
              "    (() => {\n",
              "      let quickchartButtonEl =\n",
              "        document.querySelector('#df-644ac099-ffbd-4aef-966e-7f8d87ecf649 button');\n",
              "      quickchartButtonEl.style.display =\n",
              "        google.colab.kernel.accessAllowed ? 'block' : 'none';\n",
              "    })();\n",
              "  </script>\n",
              "</div>\n",
              "\n",
              "    </div>\n",
              "  </div>\n"
            ],
            "text/plain": [
              "         Unnamed: 0          trans_date_trans_time        cc_num  \\\n",
              "count  1.296675e+06                        1296675  1.296675e+06   \n",
              "mean   6.483370e+05  2019-10-03 12:47:28.070214144  4.171920e+17   \n",
              "min    0.000000e+00            2019-01-01 00:00:18  6.041621e+10   \n",
              "25%    3.241685e+05     2019-06-03 19:12:22.500000  1.800429e+14   \n",
              "50%    6.483370e+05            2019-10-03 07:35:47  3.521417e+15   \n",
              "75%    9.725055e+05     2020-01-28 15:02:55.500000  4.642255e+15   \n",
              "max    1.296674e+06            2020-06-21 12:13:37  4.992346e+18   \n",
              "std    3.743180e+05                            NaN  1.308806e+18   \n",
              "\n",
              "                amt           zip           lat          long      city_pop  \\\n",
              "count  1.296675e+06  1.296675e+06  1.296675e+06  1.296675e+06  1.296675e+06   \n",
              "mean   7.035104e+01  4.880067e+04  3.853762e+01 -9.022634e+01  8.882444e+04   \n",
              "min    1.000000e+00  1.257000e+03  2.002710e+01 -1.656723e+02  2.300000e+01   \n",
              "25%    9.650000e+00  2.623700e+04  3.462050e+01 -9.679800e+01  7.430000e+02   \n",
              "50%    4.752000e+01  4.817400e+04  3.935430e+01 -8.747690e+01  2.456000e+03   \n",
              "75%    8.314000e+01  7.204200e+04  4.194040e+01 -8.015800e+01  2.032800e+04   \n",
              "max    2.894890e+04  9.978300e+04  6.669330e+01 -6.795030e+01  2.906700e+06   \n",
              "std    1.603160e+02  2.689322e+04  5.075808e+00  1.375908e+01  3.019564e+05   \n",
              "\n",
              "                                 dob     unix_time     merch_lat  \\\n",
              "count                        1296675  1.296675e+06  1.296675e+06   \n",
              "mean   1973-10-03 19:02:55.017178512  1.349244e+09  3.853734e+01   \n",
              "min              1924-10-30 00:00:00  1.325376e+09  1.902779e+01   \n",
              "25%              1962-08-13 00:00:00  1.338751e+09  3.473357e+01   \n",
              "50%              1975-11-30 00:00:00  1.349250e+09  3.936568e+01   \n",
              "75%              1987-02-22 00:00:00  1.359385e+09  4.195716e+01   \n",
              "max              2005-01-29 00:00:00  1.371817e+09  6.751027e+01   \n",
              "std                              NaN  1.284128e+07  5.109788e+00   \n",
              "\n",
              "         merch_long      is_fraud  \n",
              "count  1.296675e+06  1.296675e+06  \n",
              "mean  -9.022646e+01  5.788652e-03  \n",
              "min   -1.666712e+02  0.000000e+00  \n",
              "25%   -9.689728e+01  0.000000e+00  \n",
              "50%   -8.743839e+01  0.000000e+00  \n",
              "75%   -8.023680e+01  0.000000e+00  \n",
              "max   -6.695090e+01  1.000000e+00  \n",
              "std    1.377109e+01  7.586269e-02  "
            ]
          },
          "execution_count": 116,
          "metadata": {},
          "output_type": "execute_result"
        }
      ],
      "source": [
        "# description of the dataset\n",
        "fraud_df.describe()"
      ]
    },
    {
      "cell_type": "code",
      "execution_count": null,
      "metadata": {
        "colab": {
          "base_uri": "https://localhost:8080/",
          "height": 600
        },
        "collapsed": true,
        "id": "yZrHtQ3Nakqg",
        "outputId": "abb6e164-3f03-40da-b6f1-c0cb5f2c5548"
      },
      "outputs": [
        {
          "data": {
            "application/vnd.google.colaboratory.intrinsic+json": {
              "type": "dataframe"
            },
            "text/html": [
              "\n",
              "  <div id=\"df-c2f7cbd1-4664-4839-a5db-beb6619da517\" class=\"colab-df-container\">\n",
              "    <div>\n",
              "<style scoped>\n",
              "    .dataframe tbody tr th:only-of-type {\n",
              "        vertical-align: middle;\n",
              "    }\n",
              "\n",
              "    .dataframe tbody tr th {\n",
              "        vertical-align: top;\n",
              "    }\n",
              "\n",
              "    .dataframe thead th {\n",
              "        text-align: right;\n",
              "    }\n",
              "</style>\n",
              "<table border=\"1\" class=\"dataframe\">\n",
              "  <thead>\n",
              "    <tr style=\"text-align: right;\">\n",
              "      <th></th>\n",
              "      <th>Unnamed: 0</th>\n",
              "      <th>trans_date_trans_time</th>\n",
              "      <th>cc_num</th>\n",
              "      <th>merchant</th>\n",
              "      <th>category</th>\n",
              "      <th>amt</th>\n",
              "      <th>first</th>\n",
              "      <th>last</th>\n",
              "      <th>gender</th>\n",
              "      <th>street</th>\n",
              "      <th>...</th>\n",
              "      <th>lat</th>\n",
              "      <th>long</th>\n",
              "      <th>city_pop</th>\n",
              "      <th>job</th>\n",
              "      <th>dob</th>\n",
              "      <th>trans_num</th>\n",
              "      <th>unix_time</th>\n",
              "      <th>merch_lat</th>\n",
              "      <th>merch_long</th>\n",
              "      <th>is_fraud</th>\n",
              "    </tr>\n",
              "  </thead>\n",
              "  <tbody>\n",
              "    <tr>\n",
              "      <th>count</th>\n",
              "      <td>1.296675e+06</td>\n",
              "      <td>1296675</td>\n",
              "      <td>1.296675e+06</td>\n",
              "      <td>1296675</td>\n",
              "      <td>1296675</td>\n",
              "      <td>1.296675e+06</td>\n",
              "      <td>1296675</td>\n",
              "      <td>1296675</td>\n",
              "      <td>1296675</td>\n",
              "      <td>1296675</td>\n",
              "      <td>...</td>\n",
              "      <td>1.296675e+06</td>\n",
              "      <td>1.296675e+06</td>\n",
              "      <td>1.296675e+06</td>\n",
              "      <td>1296675</td>\n",
              "      <td>1296675</td>\n",
              "      <td>1296675</td>\n",
              "      <td>1.296675e+06</td>\n",
              "      <td>1.296675e+06</td>\n",
              "      <td>1.296675e+06</td>\n",
              "      <td>1.296675e+06</td>\n",
              "    </tr>\n",
              "    <tr>\n",
              "      <th>unique</th>\n",
              "      <td>NaN</td>\n",
              "      <td>NaN</td>\n",
              "      <td>NaN</td>\n",
              "      <td>693</td>\n",
              "      <td>14</td>\n",
              "      <td>NaN</td>\n",
              "      <td>352</td>\n",
              "      <td>481</td>\n",
              "      <td>2</td>\n",
              "      <td>983</td>\n",
              "      <td>...</td>\n",
              "      <td>NaN</td>\n",
              "      <td>NaN</td>\n",
              "      <td>NaN</td>\n",
              "      <td>494</td>\n",
              "      <td>NaN</td>\n",
              "      <td>1296675</td>\n",
              "      <td>NaN</td>\n",
              "      <td>NaN</td>\n",
              "      <td>NaN</td>\n",
              "      <td>NaN</td>\n",
              "    </tr>\n",
              "    <tr>\n",
              "      <th>top</th>\n",
              "      <td>NaN</td>\n",
              "      <td>NaN</td>\n",
              "      <td>NaN</td>\n",
              "      <td>fraud_Kilback LLC</td>\n",
              "      <td>gas_transport</td>\n",
              "      <td>NaN</td>\n",
              "      <td>Christopher</td>\n",
              "      <td>Smith</td>\n",
              "      <td>F</td>\n",
              "      <td>0069 Robin Brooks Apt. 695</td>\n",
              "      <td>...</td>\n",
              "      <td>NaN</td>\n",
              "      <td>NaN</td>\n",
              "      <td>NaN</td>\n",
              "      <td>Film/video editor</td>\n",
              "      <td>NaN</td>\n",
              "      <td>0b242abb623afc578575680df30655b9</td>\n",
              "      <td>NaN</td>\n",
              "      <td>NaN</td>\n",
              "      <td>NaN</td>\n",
              "      <td>NaN</td>\n",
              "    </tr>\n",
              "    <tr>\n",
              "      <th>freq</th>\n",
              "      <td>NaN</td>\n",
              "      <td>NaN</td>\n",
              "      <td>NaN</td>\n",
              "      <td>4403</td>\n",
              "      <td>131659</td>\n",
              "      <td>NaN</td>\n",
              "      <td>26669</td>\n",
              "      <td>28794</td>\n",
              "      <td>709863</td>\n",
              "      <td>3123</td>\n",
              "      <td>...</td>\n",
              "      <td>NaN</td>\n",
              "      <td>NaN</td>\n",
              "      <td>NaN</td>\n",
              "      <td>9779</td>\n",
              "      <td>NaN</td>\n",
              "      <td>1</td>\n",
              "      <td>NaN</td>\n",
              "      <td>NaN</td>\n",
              "      <td>NaN</td>\n",
              "      <td>NaN</td>\n",
              "    </tr>\n",
              "    <tr>\n",
              "      <th>mean</th>\n",
              "      <td>6.483370e+05</td>\n",
              "      <td>2019-10-03 12:47:28.070214144</td>\n",
              "      <td>4.171920e+17</td>\n",
              "      <td>NaN</td>\n",
              "      <td>NaN</td>\n",
              "      <td>7.035104e+01</td>\n",
              "      <td>NaN</td>\n",
              "      <td>NaN</td>\n",
              "      <td>NaN</td>\n",
              "      <td>NaN</td>\n",
              "      <td>...</td>\n",
              "      <td>3.853762e+01</td>\n",
              "      <td>-9.022634e+01</td>\n",
              "      <td>8.882444e+04</td>\n",
              "      <td>NaN</td>\n",
              "      <td>1973-10-03 19:02:55.017178512</td>\n",
              "      <td>NaN</td>\n",
              "      <td>1.349244e+09</td>\n",
              "      <td>3.853734e+01</td>\n",
              "      <td>-9.022646e+01</td>\n",
              "      <td>5.788652e-03</td>\n",
              "    </tr>\n",
              "    <tr>\n",
              "      <th>min</th>\n",
              "      <td>0.000000e+00</td>\n",
              "      <td>2019-01-01 00:00:18</td>\n",
              "      <td>6.041621e+10</td>\n",
              "      <td>NaN</td>\n",
              "      <td>NaN</td>\n",
              "      <td>1.000000e+00</td>\n",
              "      <td>NaN</td>\n",
              "      <td>NaN</td>\n",
              "      <td>NaN</td>\n",
              "      <td>NaN</td>\n",
              "      <td>...</td>\n",
              "      <td>2.002710e+01</td>\n",
              "      <td>-1.656723e+02</td>\n",
              "      <td>2.300000e+01</td>\n",
              "      <td>NaN</td>\n",
              "      <td>1924-10-30 00:00:00</td>\n",
              "      <td>NaN</td>\n",
              "      <td>1.325376e+09</td>\n",
              "      <td>1.902779e+01</td>\n",
              "      <td>-1.666712e+02</td>\n",
              "      <td>0.000000e+00</td>\n",
              "    </tr>\n",
              "    <tr>\n",
              "      <th>25%</th>\n",
              "      <td>3.241685e+05</td>\n",
              "      <td>2019-06-03 19:12:22.500000</td>\n",
              "      <td>1.800429e+14</td>\n",
              "      <td>NaN</td>\n",
              "      <td>NaN</td>\n",
              "      <td>9.650000e+00</td>\n",
              "      <td>NaN</td>\n",
              "      <td>NaN</td>\n",
              "      <td>NaN</td>\n",
              "      <td>NaN</td>\n",
              "      <td>...</td>\n",
              "      <td>3.462050e+01</td>\n",
              "      <td>-9.679800e+01</td>\n",
              "      <td>7.430000e+02</td>\n",
              "      <td>NaN</td>\n",
              "      <td>1962-08-13 00:00:00</td>\n",
              "      <td>NaN</td>\n",
              "      <td>1.338751e+09</td>\n",
              "      <td>3.473357e+01</td>\n",
              "      <td>-9.689728e+01</td>\n",
              "      <td>0.000000e+00</td>\n",
              "    </tr>\n",
              "    <tr>\n",
              "      <th>50%</th>\n",
              "      <td>6.483370e+05</td>\n",
              "      <td>2019-10-03 07:35:47</td>\n",
              "      <td>3.521417e+15</td>\n",
              "      <td>NaN</td>\n",
              "      <td>NaN</td>\n",
              "      <td>4.752000e+01</td>\n",
              "      <td>NaN</td>\n",
              "      <td>NaN</td>\n",
              "      <td>NaN</td>\n",
              "      <td>NaN</td>\n",
              "      <td>...</td>\n",
              "      <td>3.935430e+01</td>\n",
              "      <td>-8.747690e+01</td>\n",
              "      <td>2.456000e+03</td>\n",
              "      <td>NaN</td>\n",
              "      <td>1975-11-30 00:00:00</td>\n",
              "      <td>NaN</td>\n",
              "      <td>1.349250e+09</td>\n",
              "      <td>3.936568e+01</td>\n",
              "      <td>-8.743839e+01</td>\n",
              "      <td>0.000000e+00</td>\n",
              "    </tr>\n",
              "    <tr>\n",
              "      <th>75%</th>\n",
              "      <td>9.725055e+05</td>\n",
              "      <td>2020-01-28 15:02:55.500000</td>\n",
              "      <td>4.642255e+15</td>\n",
              "      <td>NaN</td>\n",
              "      <td>NaN</td>\n",
              "      <td>8.314000e+01</td>\n",
              "      <td>NaN</td>\n",
              "      <td>NaN</td>\n",
              "      <td>NaN</td>\n",
              "      <td>NaN</td>\n",
              "      <td>...</td>\n",
              "      <td>4.194040e+01</td>\n",
              "      <td>-8.015800e+01</td>\n",
              "      <td>2.032800e+04</td>\n",
              "      <td>NaN</td>\n",
              "      <td>1987-02-22 00:00:00</td>\n",
              "      <td>NaN</td>\n",
              "      <td>1.359385e+09</td>\n",
              "      <td>4.195716e+01</td>\n",
              "      <td>-8.023680e+01</td>\n",
              "      <td>0.000000e+00</td>\n",
              "    </tr>\n",
              "    <tr>\n",
              "      <th>max</th>\n",
              "      <td>1.296674e+06</td>\n",
              "      <td>2020-06-21 12:13:37</td>\n",
              "      <td>4.992346e+18</td>\n",
              "      <td>NaN</td>\n",
              "      <td>NaN</td>\n",
              "      <td>2.894890e+04</td>\n",
              "      <td>NaN</td>\n",
              "      <td>NaN</td>\n",
              "      <td>NaN</td>\n",
              "      <td>NaN</td>\n",
              "      <td>...</td>\n",
              "      <td>6.669330e+01</td>\n",
              "      <td>-6.795030e+01</td>\n",
              "      <td>2.906700e+06</td>\n",
              "      <td>NaN</td>\n",
              "      <td>2005-01-29 00:00:00</td>\n",
              "      <td>NaN</td>\n",
              "      <td>1.371817e+09</td>\n",
              "      <td>6.751027e+01</td>\n",
              "      <td>-6.695090e+01</td>\n",
              "      <td>1.000000e+00</td>\n",
              "    </tr>\n",
              "    <tr>\n",
              "      <th>std</th>\n",
              "      <td>3.743180e+05</td>\n",
              "      <td>NaN</td>\n",
              "      <td>1.308806e+18</td>\n",
              "      <td>NaN</td>\n",
              "      <td>NaN</td>\n",
              "      <td>1.603160e+02</td>\n",
              "      <td>NaN</td>\n",
              "      <td>NaN</td>\n",
              "      <td>NaN</td>\n",
              "      <td>NaN</td>\n",
              "      <td>...</td>\n",
              "      <td>5.075808e+00</td>\n",
              "      <td>1.375908e+01</td>\n",
              "      <td>3.019564e+05</td>\n",
              "      <td>NaN</td>\n",
              "      <td>NaN</td>\n",
              "      <td>NaN</td>\n",
              "      <td>1.284128e+07</td>\n",
              "      <td>5.109788e+00</td>\n",
              "      <td>1.377109e+01</td>\n",
              "      <td>7.586269e-02</td>\n",
              "    </tr>\n",
              "  </tbody>\n",
              "</table>\n",
              "<p>11 rows × 23 columns</p>\n",
              "</div>\n",
              "    <div class=\"colab-df-buttons\">\n",
              "\n",
              "  <div class=\"colab-df-container\">\n",
              "    <button class=\"colab-df-convert\" onclick=\"convertToInteractive('df-c2f7cbd1-4664-4839-a5db-beb6619da517')\"\n",
              "            title=\"Convert this dataframe to an interactive table.\"\n",
              "            style=\"display:none;\">\n",
              "\n",
              "  <svg xmlns=\"http://www.w3.org/2000/svg\" height=\"24px\" viewBox=\"0 -960 960 960\">\n",
              "    <path d=\"M120-120v-720h720v720H120Zm60-500h600v-160H180v160Zm220 220h160v-160H400v160Zm0 220h160v-160H400v160ZM180-400h160v-160H180v160Zm440 0h160v-160H620v160ZM180-180h160v-160H180v160Zm440 0h160v-160H620v160Z\"/>\n",
              "  </svg>\n",
              "    </button>\n",
              "\n",
              "  <style>\n",
              "    .colab-df-container {\n",
              "      display:flex;\n",
              "      gap: 12px;\n",
              "    }\n",
              "\n",
              "    .colab-df-convert {\n",
              "      background-color: #E8F0FE;\n",
              "      border: none;\n",
              "      border-radius: 50%;\n",
              "      cursor: pointer;\n",
              "      display: none;\n",
              "      fill: #1967D2;\n",
              "      height: 32px;\n",
              "      padding: 0 0 0 0;\n",
              "      width: 32px;\n",
              "    }\n",
              "\n",
              "    .colab-df-convert:hover {\n",
              "      background-color: #E2EBFA;\n",
              "      box-shadow: 0px 1px 2px rgba(60, 64, 67, 0.3), 0px 1px 3px 1px rgba(60, 64, 67, 0.15);\n",
              "      fill: #174EA6;\n",
              "    }\n",
              "\n",
              "    .colab-df-buttons div {\n",
              "      margin-bottom: 4px;\n",
              "    }\n",
              "\n",
              "    [theme=dark] .colab-df-convert {\n",
              "      background-color: #3B4455;\n",
              "      fill: #D2E3FC;\n",
              "    }\n",
              "\n",
              "    [theme=dark] .colab-df-convert:hover {\n",
              "      background-color: #434B5C;\n",
              "      box-shadow: 0px 1px 3px 1px rgba(0, 0, 0, 0.15);\n",
              "      filter: drop-shadow(0px 1px 2px rgba(0, 0, 0, 0.3));\n",
              "      fill: #FFFFFF;\n",
              "    }\n",
              "  </style>\n",
              "\n",
              "    <script>\n",
              "      const buttonEl =\n",
              "        document.querySelector('#df-c2f7cbd1-4664-4839-a5db-beb6619da517 button.colab-df-convert');\n",
              "      buttonEl.style.display =\n",
              "        google.colab.kernel.accessAllowed ? 'block' : 'none';\n",
              "\n",
              "      async function convertToInteractive(key) {\n",
              "        const element = document.querySelector('#df-c2f7cbd1-4664-4839-a5db-beb6619da517');\n",
              "        const dataTable =\n",
              "          await google.colab.kernel.invokeFunction('convertToInteractive',\n",
              "                                                    [key], {});\n",
              "        if (!dataTable) return;\n",
              "\n",
              "        const docLinkHtml = 'Like what you see? Visit the ' +\n",
              "          '<a target=\"_blank\" href=https://colab.research.google.com/notebooks/data_table.ipynb>data table notebook</a>'\n",
              "          + ' to learn more about interactive tables.';\n",
              "        element.innerHTML = '';\n",
              "        dataTable['output_type'] = 'display_data';\n",
              "        await google.colab.output.renderOutput(dataTable, element);\n",
              "        const docLink = document.createElement('div');\n",
              "        docLink.innerHTML = docLinkHtml;\n",
              "        element.appendChild(docLink);\n",
              "      }\n",
              "    </script>\n",
              "  </div>\n",
              "\n",
              "\n",
              "<div id=\"df-35f6df03-0f5e-4c14-8890-810df74ec5f3\">\n",
              "  <button class=\"colab-df-quickchart\" onclick=\"quickchart('df-35f6df03-0f5e-4c14-8890-810df74ec5f3')\"\n",
              "            title=\"Suggest charts\"\n",
              "            style=\"display:none;\">\n",
              "\n",
              "<svg xmlns=\"http://www.w3.org/2000/svg\" height=\"24px\"viewBox=\"0 0 24 24\"\n",
              "     width=\"24px\">\n",
              "    <g>\n",
              "        <path d=\"M19 3H5c-1.1 0-2 .9-2 2v14c0 1.1.9 2 2 2h14c1.1 0 2-.9 2-2V5c0-1.1-.9-2-2-2zM9 17H7v-7h2v7zm4 0h-2V7h2v10zm4 0h-2v-4h2v4z\"/>\n",
              "    </g>\n",
              "</svg>\n",
              "  </button>\n",
              "\n",
              "<style>\n",
              "  .colab-df-quickchart {\n",
              "      --bg-color: #E8F0FE;\n",
              "      --fill-color: #1967D2;\n",
              "      --hover-bg-color: #E2EBFA;\n",
              "      --hover-fill-color: #174EA6;\n",
              "      --disabled-fill-color: #AAA;\n",
              "      --disabled-bg-color: #DDD;\n",
              "  }\n",
              "\n",
              "  [theme=dark] .colab-df-quickchart {\n",
              "      --bg-color: #3B4455;\n",
              "      --fill-color: #D2E3FC;\n",
              "      --hover-bg-color: #434B5C;\n",
              "      --hover-fill-color: #FFFFFF;\n",
              "      --disabled-bg-color: #3B4455;\n",
              "      --disabled-fill-color: #666;\n",
              "  }\n",
              "\n",
              "  .colab-df-quickchart {\n",
              "    background-color: var(--bg-color);\n",
              "    border: none;\n",
              "    border-radius: 50%;\n",
              "    cursor: pointer;\n",
              "    display: none;\n",
              "    fill: var(--fill-color);\n",
              "    height: 32px;\n",
              "    padding: 0;\n",
              "    width: 32px;\n",
              "  }\n",
              "\n",
              "  .colab-df-quickchart:hover {\n",
              "    background-color: var(--hover-bg-color);\n",
              "    box-shadow: 0 1px 2px rgba(60, 64, 67, 0.3), 0 1px 3px 1px rgba(60, 64, 67, 0.15);\n",
              "    fill: var(--button-hover-fill-color);\n",
              "  }\n",
              "\n",
              "  .colab-df-quickchart-complete:disabled,\n",
              "  .colab-df-quickchart-complete:disabled:hover {\n",
              "    background-color: var(--disabled-bg-color);\n",
              "    fill: var(--disabled-fill-color);\n",
              "    box-shadow: none;\n",
              "  }\n",
              "\n",
              "  .colab-df-spinner {\n",
              "    border: 2px solid var(--fill-color);\n",
              "    border-color: transparent;\n",
              "    border-bottom-color: var(--fill-color);\n",
              "    animation:\n",
              "      spin 1s steps(1) infinite;\n",
              "  }\n",
              "\n",
              "  @keyframes spin {\n",
              "    0% {\n",
              "      border-color: transparent;\n",
              "      border-bottom-color: var(--fill-color);\n",
              "      border-left-color: var(--fill-color);\n",
              "    }\n",
              "    20% {\n",
              "      border-color: transparent;\n",
              "      border-left-color: var(--fill-color);\n",
              "      border-top-color: var(--fill-color);\n",
              "    }\n",
              "    30% {\n",
              "      border-color: transparent;\n",
              "      border-left-color: var(--fill-color);\n",
              "      border-top-color: var(--fill-color);\n",
              "      border-right-color: var(--fill-color);\n",
              "    }\n",
              "    40% {\n",
              "      border-color: transparent;\n",
              "      border-right-color: var(--fill-color);\n",
              "      border-top-color: var(--fill-color);\n",
              "    }\n",
              "    60% {\n",
              "      border-color: transparent;\n",
              "      border-right-color: var(--fill-color);\n",
              "    }\n",
              "    80% {\n",
              "      border-color: transparent;\n",
              "      border-right-color: var(--fill-color);\n",
              "      border-bottom-color: var(--fill-color);\n",
              "    }\n",
              "    90% {\n",
              "      border-color: transparent;\n",
              "      border-bottom-color: var(--fill-color);\n",
              "    }\n",
              "  }\n",
              "</style>\n",
              "\n",
              "  <script>\n",
              "    async function quickchart(key) {\n",
              "      const quickchartButtonEl =\n",
              "        document.querySelector('#' + key + ' button');\n",
              "      quickchartButtonEl.disabled = true;  // To prevent multiple clicks.\n",
              "      quickchartButtonEl.classList.add('colab-df-spinner');\n",
              "      try {\n",
              "        const charts = await google.colab.kernel.invokeFunction(\n",
              "            'suggestCharts', [key], {});\n",
              "      } catch (error) {\n",
              "        console.error('Error during call to suggestCharts:', error);\n",
              "      }\n",
              "      quickchartButtonEl.classList.remove('colab-df-spinner');\n",
              "      quickchartButtonEl.classList.add('colab-df-quickchart-complete');\n",
              "    }\n",
              "    (() => {\n",
              "      let quickchartButtonEl =\n",
              "        document.querySelector('#df-35f6df03-0f5e-4c14-8890-810df74ec5f3 button');\n",
              "      quickchartButtonEl.style.display =\n",
              "        google.colab.kernel.accessAllowed ? 'block' : 'none';\n",
              "    })();\n",
              "  </script>\n",
              "</div>\n",
              "\n",
              "    </div>\n",
              "  </div>\n"
            ],
            "text/plain": [
              "          Unnamed: 0          trans_date_trans_time        cc_num  \\\n",
              "count   1.296675e+06                        1296675  1.296675e+06   \n",
              "unique           NaN                            NaN           NaN   \n",
              "top              NaN                            NaN           NaN   \n",
              "freq             NaN                            NaN           NaN   \n",
              "mean    6.483370e+05  2019-10-03 12:47:28.070214144  4.171920e+17   \n",
              "min     0.000000e+00            2019-01-01 00:00:18  6.041621e+10   \n",
              "25%     3.241685e+05     2019-06-03 19:12:22.500000  1.800429e+14   \n",
              "50%     6.483370e+05            2019-10-03 07:35:47  3.521417e+15   \n",
              "75%     9.725055e+05     2020-01-28 15:02:55.500000  4.642255e+15   \n",
              "max     1.296674e+06            2020-06-21 12:13:37  4.992346e+18   \n",
              "std     3.743180e+05                            NaN  1.308806e+18   \n",
              "\n",
              "                 merchant       category           amt        first     last  \\\n",
              "count             1296675        1296675  1.296675e+06      1296675  1296675   \n",
              "unique                693             14           NaN          352      481   \n",
              "top     fraud_Kilback LLC  gas_transport           NaN  Christopher    Smith   \n",
              "freq                 4403         131659           NaN        26669    28794   \n",
              "mean                  NaN            NaN  7.035104e+01          NaN      NaN   \n",
              "min                   NaN            NaN  1.000000e+00          NaN      NaN   \n",
              "25%                   NaN            NaN  9.650000e+00          NaN      NaN   \n",
              "50%                   NaN            NaN  4.752000e+01          NaN      NaN   \n",
              "75%                   NaN            NaN  8.314000e+01          NaN      NaN   \n",
              "max                   NaN            NaN  2.894890e+04          NaN      NaN   \n",
              "std                   NaN            NaN  1.603160e+02          NaN      NaN   \n",
              "\n",
              "         gender                      street  ...           lat          long  \\\n",
              "count   1296675                     1296675  ...  1.296675e+06  1.296675e+06   \n",
              "unique        2                         983  ...           NaN           NaN   \n",
              "top           F  0069 Robin Brooks Apt. 695  ...           NaN           NaN   \n",
              "freq     709863                        3123  ...           NaN           NaN   \n",
              "mean        NaN                         NaN  ...  3.853762e+01 -9.022634e+01   \n",
              "min         NaN                         NaN  ...  2.002710e+01 -1.656723e+02   \n",
              "25%         NaN                         NaN  ...  3.462050e+01 -9.679800e+01   \n",
              "50%         NaN                         NaN  ...  3.935430e+01 -8.747690e+01   \n",
              "75%         NaN                         NaN  ...  4.194040e+01 -8.015800e+01   \n",
              "max         NaN                         NaN  ...  6.669330e+01 -6.795030e+01   \n",
              "std         NaN                         NaN  ...  5.075808e+00  1.375908e+01   \n",
              "\n",
              "            city_pop                job                            dob  \\\n",
              "count   1.296675e+06            1296675                        1296675   \n",
              "unique           NaN                494                            NaN   \n",
              "top              NaN  Film/video editor                            NaN   \n",
              "freq             NaN               9779                            NaN   \n",
              "mean    8.882444e+04                NaN  1973-10-03 19:02:55.017178512   \n",
              "min     2.300000e+01                NaN            1924-10-30 00:00:00   \n",
              "25%     7.430000e+02                NaN            1962-08-13 00:00:00   \n",
              "50%     2.456000e+03                NaN            1975-11-30 00:00:00   \n",
              "75%     2.032800e+04                NaN            1987-02-22 00:00:00   \n",
              "max     2.906700e+06                NaN            2005-01-29 00:00:00   \n",
              "std     3.019564e+05                NaN                            NaN   \n",
              "\n",
              "                               trans_num     unix_time     merch_lat  \\\n",
              "count                            1296675  1.296675e+06  1.296675e+06   \n",
              "unique                           1296675           NaN           NaN   \n",
              "top     0b242abb623afc578575680df30655b9           NaN           NaN   \n",
              "freq                                   1           NaN           NaN   \n",
              "mean                                 NaN  1.349244e+09  3.853734e+01   \n",
              "min                                  NaN  1.325376e+09  1.902779e+01   \n",
              "25%                                  NaN  1.338751e+09  3.473357e+01   \n",
              "50%                                  NaN  1.349250e+09  3.936568e+01   \n",
              "75%                                  NaN  1.359385e+09  4.195716e+01   \n",
              "max                                  NaN  1.371817e+09  6.751027e+01   \n",
              "std                                  NaN  1.284128e+07  5.109788e+00   \n",
              "\n",
              "          merch_long      is_fraud  \n",
              "count   1.296675e+06  1.296675e+06  \n",
              "unique           NaN           NaN  \n",
              "top              NaN           NaN  \n",
              "freq             NaN           NaN  \n",
              "mean   -9.022646e+01  5.788652e-03  \n",
              "min    -1.666712e+02  0.000000e+00  \n",
              "25%    -9.689728e+01  0.000000e+00  \n",
              "50%    -8.743839e+01  0.000000e+00  \n",
              "75%    -8.023680e+01  0.000000e+00  \n",
              "max    -6.695090e+01  1.000000e+00  \n",
              "std     1.377109e+01  7.586269e-02  \n",
              "\n",
              "[11 rows x 23 columns]"
            ]
          },
          "execution_count": 117,
          "metadata": {},
          "output_type": "execute_result"
        }
      ],
      "source": [
        "#describe character variables using include parameter\n",
        "fraud_df.describe(include = 'all')"
      ]
    },
    {
      "cell_type": "markdown",
      "metadata": {
        "id": "ftX_ACDmZDbf"
      },
      "source": [
        "The distribution of amt(amount) anf city_pop(population of city) is skewed there's a huge difference between the 75th percentile and the maximum value."
      ]
    },
    {
      "cell_type": "code",
      "execution_count": null,
      "metadata": {
        "colab": {
          "base_uri": "https://localhost:8080/"
        },
        "collapsed": true,
        "id": "RZeaH7uc_sAM",
        "outputId": "5d60a3cb-7640-4747-dcd6-0c7096d6ffdc"
      },
      "outputs": [
        {
          "data": {
            "text/plain": [
              "count    1.296675e+06\n",
              "mean     7.035104e+01\n",
              "std      1.603160e+02\n",
              "min      1.000000e+00\n",
              "25%      9.650000e+00\n",
              "50%      4.752000e+01\n",
              "75%      8.314000e+01\n",
              "max      2.894890e+04\n",
              "Name: amt, dtype: float64"
            ]
          },
          "execution_count": 118,
          "metadata": {},
          "output_type": "execute_result"
        }
      ],
      "source": [
        "fraud_df['amt'].describe()"
      ]
    },
    {
      "cell_type": "code",
      "execution_count": null,
      "metadata": {
        "colab": {
          "base_uri": "https://localhost:8080/",
          "height": 472
        },
        "collapsed": true,
        "id": "rB6-nbWYaM2X",
        "outputId": "85b7c89f-2bfc-41d8-f8c6-3e1ddcd781fe"
      },
      "outputs": [
        {
          "data": {
            "image/png": "[encoded data removed]",
            "text/plain": [
              "<Figure size 640x480 with 1 Axes>"
            ]
          },
          "metadata": {},
          "output_type": "display_data"
        }
      ],
      "source": [
        "#plot box chart to see distribution of fraud transactions across amount\n",
        "sns.boxplot(x='is_fraud', y='amt', data = fraud_df)\n",
        "\n",
        "#define axes and show\n",
        "plt.xlabel('is_fraud')\n",
        "plt.ylabel('Amount')\n",
        "plt.title('Distribution of Transaction Amounts by Fraud Status ')\n",
        "plt.show()"
      ]
    },
    {
      "cell_type": "code",
      "execution_count": null,
      "metadata": {
        "colab": {
          "base_uri": "https://localhost:8080/",
          "height": 472
        },
        "collapsed": true,
        "id": "aXSavJ5wki3I",
        "outputId": "745d71dc-062b-4867-b9e2-cba091d07236"
      },
      "outputs": [
        {
          "data": {
            "image/png": "[encoded data removed]",
            "text/plain": [
              "<Figure size 640x480 with 1 Axes>"
            ]
          },
          "metadata": {},
          "output_type": "display_data"
        }
      ],
      "source": [
        "#see distribution of amount using histofram\n",
        "sns.histplot( data = fraud_df, x = 'amt', bins = 30)\n",
        "\n",
        "#define axes and show\n",
        "plt.xlabel('amount')\n",
        "plt.ylabel('Count')\n",
        "plt.title('Distribution of Transaction Amount')\n",
        "plt.show()"
      ]
    },
    {
      "cell_type": "markdown",
      "metadata": {
        "id": "WCqmbNSm8_gp"
      },
      "source": [
        "Since data is highly skewed we will only consider transaction values between 1 and 5000"
      ]
    },
    {
      "cell_type": "code",
      "execution_count": null,
      "metadata": {
        "id": "VnaC9IpdlU9g"
      },
      "outputs": [],
      "source": [
        "#filter data frame\n",
        "fraud_df = fraud_df[(fraud_df['amt'] >= 1) & (fraud_df['amt'] <= 5000) ]"
      ]
    },
    {
      "cell_type": "code",
      "execution_count": null,
      "metadata": {
        "colab": {
          "base_uri": "https://localhost:8080/"
        },
        "collapsed": true,
        "id": "pnInaPu9-_8j",
        "outputId": "a611fb92-8c43-4576-c7f0-c403557cc255"
      },
      "outputs": [
        {
          "data": {
            "text/plain": [
              "count    1.296539e+06\n",
              "mean     6.942634e+01\n",
              "std      1.239789e+02\n",
              "min      1.000000e+00\n",
              "25%      9.650000e+00\n",
              "50%      4.751000e+01\n",
              "75%      8.312000e+01\n",
              "max      4.986550e+03\n",
              "Name: amt, dtype: float64"
            ]
          },
          "execution_count": 122,
          "metadata": {},
          "output_type": "execute_result"
        }
      ],
      "source": [
        "# check description after dropping\n",
        "fraud_df['amt'].describe()"
      ]
    },
    {
      "cell_type": "code",
      "execution_count": null,
      "metadata": {
        "colab": {
          "base_uri": "https://localhost:8080/"
        },
        "collapsed": true,
        "id": "a1M_4FvQVcUY",
        "outputId": "b2e66c8e-d28d-4f36-f4d0-bdebc428765e"
      },
      "outputs": [
        {
          "data": {
            "text/plain": [
              "(1296539, 23)"
            ]
          },
          "execution_count": 123,
          "metadata": {},
          "output_type": "execute_result"
        }
      ],
      "source": [
        "#new shape\n",
        "fraud_df.shape"
      ]
    },
    {
      "cell_type": "markdown",
      "metadata": {
        "id": "sOwx9Ymm_h6t"
      },
      "source": [
        "# **Handling duplicates and missing values in the dataset**"
      ]
    },
    {
      "cell_type": "code",
      "execution_count": null,
      "metadata": {
        "colab": {
          "base_uri": "https://localhost:8080/"
        },
        "collapsed": true,
        "id": "ONKUowFj_mPA",
        "outputId": "e8afed71-ec0a-4c7f-c0d5-a819ac3f236d"
      },
      "outputs": [
        {
          "data": {
            "text/plain": [
              "0"
            ]
          },
          "execution_count": 124,
          "metadata": {},
          "output_type": "execute_result"
        }
      ],
      "source": [
        "# check for duplicated records\n",
        "fraud_df.duplicated().sum()"
      ]
    },
    {
      "cell_type": "code",
      "execution_count": null,
      "metadata": {
        "colab": {
          "base_uri": "https://localhost:8080/"
        },
        "collapsed": true,
        "id": "oqFDg-FG_3ao",
        "outputId": "fdba05fc-de95-4ca4-ac28-9cd3c42c870f"
      },
      "outputs": [
        {
          "data": {
            "text/plain": [
              "Unnamed: 0               0\n",
              "trans_date_trans_time    0\n",
              "cc_num                   0\n",
              "merchant                 0\n",
              "category                 0\n",
              "amt                      0\n",
              "first                    0\n",
              "last                     0\n",
              "gender                   0\n",
              "street                   0\n",
              "city                     0\n",
              "state                    0\n",
              "zip                      0\n",
              "lat                      0\n",
              "long                     0\n",
              "city_pop                 0\n",
              "job                      0\n",
              "dob                      0\n",
              "trans_num                0\n",
              "unix_time                0\n",
              "merch_lat                0\n",
              "merch_long               0\n",
              "is_fraud                 0\n",
              "dtype: int64"
            ]
          },
          "execution_count": 125,
          "metadata": {},
          "output_type": "execute_result"
        }
      ],
      "source": [
        "# check for missing values\n",
        "fraud_df.isnull().sum()"
      ]
    },
    {
      "cell_type": "markdown",
      "metadata": {
        "id": "5yrt66QrAb8N"
      },
      "source": [
        "There are no duplicates and no missing values in dataset"
      ]
    },
    {
      "cell_type": "markdown",
      "metadata": {
        "id": "AxxvJzxUwAQr"
      },
      "source": [
        "\n",
        "# **Let us create some new features (Feature Engineering)**"
      ]
    },
    {
      "cell_type": "markdown",
      "metadata": {
        "id": "fUlX59yWwUQr"
      },
      "source": [
        "Feature engineering is a machine learning technique that leverages data to create new variables that aren’t in the training set. It can produce new features for both supervised and unsupervised learning, with the goal of simplifying and speeding up data transformations while also enhancing model accuracy."
      ]
    },
    {
      "cell_type": "code",
      "execution_count": null,
      "metadata": {
        "id": "Q6euwFZ7xB7b"
      },
      "outputs": [],
      "source": [
        "#create new features from trans_date_trans_time\n",
        "fraud_df['day'] = fraud_df['trans_date_trans_time'].dt.day_name()\n",
        "fraud_df['month'] = fraud_df['trans_date_trans_time'].dt.month_name()\n",
        "fraud_df['year'] = fraud_df['trans_date_trans_time'].apply(lambda x: x.year)\n",
        "fraud_df['hour'] = fraud_df['trans_date_trans_time'].apply(lambda x: x.hour)"
      ]
    },
    {
      "cell_type": "code",
      "execution_count": null,
      "metadata": {
        "id": "MBC-1MEW3LUN"
      },
      "outputs": [],
      "source": [
        "# Calculate age of the cardholder from dob\n",
        "current_year = datetime.now().year\n",
        "fraud_df['age'] = current_year - fraud_df['dob'].dt.year"
      ]
    },
    {
      "cell_type": "code",
      "execution_count": null,
      "metadata": {
        "colab": {
          "base_uri": "https://localhost:8080/",
          "height": 550
        },
        "collapsed": true,
        "id": "_Hz6Ts_w7e6X",
        "outputId": "c2c55eaf-545d-4583-dac0-f2567e12b78b"
      },
      "outputs": [
        {
          "data": {
            "application/vnd.google.colaboratory.intrinsic+json": {
              "type": "dataframe",
              "variable_name": "fraud_df"
            },
            "text/html": [
              "\n",
              "  <div id=\"df-4654b7ac-d464-4cd8-bff2-f3df029d48b9\" class=\"colab-df-container\">\n",
              "    <div>\n",
              "<style scoped>\n",
              "    .dataframe tbody tr th:only-of-type {\n",
              "        vertical-align: middle;\n",
              "    }\n",
              "\n",
              "    .dataframe tbody tr th {\n",
              "        vertical-align: top;\n",
              "    }\n",
              "\n",
              "    .dataframe thead th {\n",
              "        text-align: right;\n",
              "    }\n",
              "</style>\n",
              "<table border=\"1\" class=\"dataframe\">\n",
              "  <thead>\n",
              "    <tr style=\"text-align: right;\">\n",
              "      <th></th>\n",
              "      <th>Unnamed: 0</th>\n",
              "      <th>trans_date_trans_time</th>\n",
              "      <th>cc_num</th>\n",
              "      <th>merchant</th>\n",
              "      <th>category</th>\n",
              "      <th>amt</th>\n",
              "      <th>first</th>\n",
              "      <th>last</th>\n",
              "      <th>gender</th>\n",
              "      <th>street</th>\n",
              "      <th>...</th>\n",
              "      <th>trans_num</th>\n",
              "      <th>unix_time</th>\n",
              "      <th>merch_lat</th>\n",
              "      <th>merch_long</th>\n",
              "      <th>is_fraud</th>\n",
              "      <th>day</th>\n",
              "      <th>month</th>\n",
              "      <th>year</th>\n",
              "      <th>hour</th>\n",
              "      <th>age</th>\n",
              "    </tr>\n",
              "  </thead>\n",
              "  <tbody>\n",
              "    <tr>\n",
              "      <th>0</th>\n",
              "      <td>0</td>\n",
              "      <td>2019-01-01 00:00:18</td>\n",
              "      <td>2703186189652095</td>\n",
              "      <td>fraud_Rippin, Kub and Mann</td>\n",
              "      <td>misc_net</td>\n",
              "      <td>4.97</td>\n",
              "      <td>Jennifer</td>\n",
              "      <td>Banks</td>\n",
              "      <td>F</td>\n",
              "      <td>561 Perry Cove</td>\n",
              "      <td>...</td>\n",
              "      <td>0b242abb623afc578575680df30655b9</td>\n",
              "      <td>1325376018</td>\n",
              "      <td>36.011293</td>\n",
              "      <td>-82.048315</td>\n",
              "      <td>0</td>\n",
              "      <td>Tuesday</td>\n",
              "      <td>January</td>\n",
              "      <td>2019</td>\n",
              "      <td>0</td>\n",
              "      <td>36</td>\n",
              "    </tr>\n",
              "    <tr>\n",
              "      <th>1</th>\n",
              "      <td>1</td>\n",
              "      <td>2019-01-01 00:00:44</td>\n",
              "      <td>630423337322</td>\n",
              "      <td>fraud_Heller, Gutmann and Zieme</td>\n",
              "      <td>grocery_pos</td>\n",
              "      <td>107.23</td>\n",
              "      <td>Stephanie</td>\n",
              "      <td>Gill</td>\n",
              "      <td>F</td>\n",
              "      <td>43039 Riley Greens Suite 393</td>\n",
              "      <td>...</td>\n",
              "      <td>1f76529f8574734946361c461b024d99</td>\n",
              "      <td>1325376044</td>\n",
              "      <td>49.159047</td>\n",
              "      <td>-118.186462</td>\n",
              "      <td>0</td>\n",
              "      <td>Tuesday</td>\n",
              "      <td>January</td>\n",
              "      <td>2019</td>\n",
              "      <td>0</td>\n",
              "      <td>46</td>\n",
              "    </tr>\n",
              "    <tr>\n",
              "      <th>2</th>\n",
              "      <td>2</td>\n",
              "      <td>2019-01-01 00:00:51</td>\n",
              "      <td>38859492057661</td>\n",
              "      <td>fraud_Lind-Buckridge</td>\n",
              "      <td>entertainment</td>\n",
              "      <td>220.11</td>\n",
              "      <td>Edward</td>\n",
              "      <td>Sanchez</td>\n",
              "      <td>M</td>\n",
              "      <td>594 White Dale Suite 530</td>\n",
              "      <td>...</td>\n",
              "      <td>a1a22d70485983eac12b5b88dad1cf95</td>\n",
              "      <td>1325376051</td>\n",
              "      <td>43.150704</td>\n",
              "      <td>-112.154481</td>\n",
              "      <td>0</td>\n",
              "      <td>Tuesday</td>\n",
              "      <td>January</td>\n",
              "      <td>2019</td>\n",
              "      <td>0</td>\n",
              "      <td>62</td>\n",
              "    </tr>\n",
              "    <tr>\n",
              "      <th>3</th>\n",
              "      <td>3</td>\n",
              "      <td>2019-01-01 00:01:16</td>\n",
              "      <td>3534093764340240</td>\n",
              "      <td>fraud_Kutch, Hermiston and Farrell</td>\n",
              "      <td>gas_transport</td>\n",
              "      <td>45.00</td>\n",
              "      <td>Jeremy</td>\n",
              "      <td>White</td>\n",
              "      <td>M</td>\n",
              "      <td>9443 Cynthia Court Apt. 038</td>\n",
              "      <td>...</td>\n",
              "      <td>6b849c168bdad6f867558c3793159a81</td>\n",
              "      <td>1325376076</td>\n",
              "      <td>47.034331</td>\n",
              "      <td>-112.561071</td>\n",
              "      <td>0</td>\n",
              "      <td>Tuesday</td>\n",
              "      <td>January</td>\n",
              "      <td>2019</td>\n",
              "      <td>0</td>\n",
              "      <td>57</td>\n",
              "    </tr>\n",
              "    <tr>\n",
              "      <th>4</th>\n",
              "      <td>4</td>\n",
              "      <td>2019-01-01 00:03:06</td>\n",
              "      <td>375534208663984</td>\n",
              "      <td>fraud_Keeling-Crist</td>\n",
              "      <td>misc_pos</td>\n",
              "      <td>41.96</td>\n",
              "      <td>Tyler</td>\n",
              "      <td>Garcia</td>\n",
              "      <td>M</td>\n",
              "      <td>408 Bradley Rest</td>\n",
              "      <td>...</td>\n",
              "      <td>a41d7549acf90789359a9aa5346dcb46</td>\n",
              "      <td>1325376186</td>\n",
              "      <td>38.674999</td>\n",
              "      <td>-78.632459</td>\n",
              "      <td>0</td>\n",
              "      <td>Tuesday</td>\n",
              "      <td>January</td>\n",
              "      <td>2019</td>\n",
              "      <td>0</td>\n",
              "      <td>38</td>\n",
              "    </tr>\n",
              "  </tbody>\n",
              "</table>\n",
              "<p>5 rows × 28 columns</p>\n",
              "</div>\n",
              "    <div class=\"colab-df-buttons\">\n",
              "\n",
              "  <div class=\"colab-df-container\">\n",
              "    <button class=\"colab-df-convert\" onclick=\"convertToInteractive('df-4654b7ac-d464-4cd8-bff2-f3df029d48b9')\"\n",
              "            title=\"Convert this dataframe to an interactive table.\"\n",
              "            style=\"display:none;\">\n",
              "\n",
              "  <svg xmlns=\"http://www.w3.org/2000/svg\" height=\"24px\" viewBox=\"0 -960 960 960\">\n",
              "    <path d=\"M120-120v-720h720v720H120Zm60-500h600v-160H180v160Zm220 220h160v-160H400v160Zm0 220h160v-160H400v160ZM180-400h160v-160H180v160Zm440 0h160v-160H620v160ZM180-180h160v-160H180v160Zm440 0h160v-160H620v160Z\"/>\n",
              "  </svg>\n",
              "    </button>\n",
              "\n",
              "  <style>\n",
              "    .colab-df-container {\n",
              "      display:flex;\n",
              "      gap: 12px;\n",
              "    }\n",
              "\n",
              "    .colab-df-convert {\n",
              "      background-color: #E8F0FE;\n",
              "      border: none;\n",
              "      border-radius: 50%;\n",
              "      cursor: pointer;\n",
              "      display: none;\n",
              "      fill: #1967D2;\n",
              "      height: 32px;\n",
              "      padding: 0 0 0 0;\n",
              "      width: 32px;\n",
              "    }\n",
              "\n",
              "    .colab-df-convert:hover {\n",
              "      background-color: #E2EBFA;\n",
              "      box-shadow: 0px 1px 2px rgba(60, 64, 67, 0.3), 0px 1px 3px 1px rgba(60, 64, 67, 0.15);\n",
              "      fill: #174EA6;\n",
              "    }\n",
              "\n",
              "    .colab-df-buttons div {\n",
              "      margin-bottom: 4px;\n",
              "    }\n",
              "\n",
              "    [theme=dark] .colab-df-convert {\n",
              "      background-color: #3B4455;\n",
              "      fill: #D2E3FC;\n",
              "    }\n",
              "\n",
              "    [theme=dark] .colab-df-convert:hover {\n",
              "      background-color: #434B5C;\n",
              "      box-shadow: 0px 1px 3px 1px rgba(0, 0, 0, 0.15);\n",
              "      filter: drop-shadow(0px 1px 2px rgba(0, 0, 0, 0.3));\n",
              "      fill: #FFFFFF;\n",
              "    }\n",
              "  </style>\n",
              "\n",
              "    <script>\n",
              "      const buttonEl =\n",
              "        document.querySelector('#df-4654b7ac-d464-4cd8-bff2-f3df029d48b9 button.colab-df-convert');\n",
              "      buttonEl.style.display =\n",
              "        google.colab.kernel.accessAllowed ? 'block' : 'none';\n",
              "\n",
              "      async function convertToInteractive(key) {\n",
              "        const element = document.querySelector('#df-4654b7ac-d464-4cd8-bff2-f3df029d48b9');\n",
              "        const dataTable =\n",
              "          await google.colab.kernel.invokeFunction('convertToInteractive',\n",
              "                                                    [key], {});\n",
              "        if (!dataTable) return;\n",
              "\n",
              "        const docLinkHtml = 'Like what you see? Visit the ' +\n",
              "          '<a target=\"_blank\" href=https://colab.research.google.com/notebooks/data_table.ipynb>data table notebook</a>'\n",
              "          + ' to learn more about interactive tables.';\n",
              "        element.innerHTML = '';\n",
              "        dataTable['output_type'] = 'display_data';\n",
              "        await google.colab.output.renderOutput(dataTable, element);\n",
              "        const docLink = document.createElement('div');\n",
              "        docLink.innerHTML = docLinkHtml;\n",
              "        element.appendChild(docLink);\n",
              "      }\n",
              "    </script>\n",
              "  </div>\n",
              "\n",
              "\n",
              "<div id=\"df-de73d73b-938e-4ad6-9d53-99bf552db8ac\">\n",
              "  <button class=\"colab-df-quickchart\" onclick=\"quickchart('df-de73d73b-938e-4ad6-9d53-99bf552db8ac')\"\n",
              "            title=\"Suggest charts\"\n",
              "            style=\"display:none;\">\n",
              "\n",
              "<svg xmlns=\"http://www.w3.org/2000/svg\" height=\"24px\"viewBox=\"0 0 24 24\"\n",
              "     width=\"24px\">\n",
              "    <g>\n",
              "        <path d=\"M19 3H5c-1.1 0-2 .9-2 2v14c0 1.1.9 2 2 2h14c1.1 0 2-.9 2-2V5c0-1.1-.9-2-2-2zM9 17H7v-7h2v7zm4 0h-2V7h2v10zm4 0h-2v-4h2v4z\"/>\n",
              "    </g>\n",
              "</svg>\n",
              "  </button>\n",
              "\n",
              "<style>\n",
              "  .colab-df-quickchart {\n",
              "      --bg-color: #E8F0FE;\n",
              "      --fill-color: #1967D2;\n",
              "      --hover-bg-color: #E2EBFA;\n",
              "      --hover-fill-color: #174EA6;\n",
              "      --disabled-fill-color: #AAA;\n",
              "      --disabled-bg-color: #DDD;\n",
              "  }\n",
              "\n",
              "  [theme=dark] .colab-df-quickchart {\n",
              "      --bg-color: #3B4455;\n",
              "      --fill-color: #D2E3FC;\n",
              "      --hover-bg-color: #434B5C;\n",
              "      --hover-fill-color: #FFFFFF;\n",
              "      --disabled-bg-color: #3B4455;\n",
              "      --disabled-fill-color: #666;\n",
              "  }\n",
              "\n",
              "  .colab-df-quickchart {\n",
              "    background-color: var(--bg-color);\n",
              "    border: none;\n",
              "    border-radius: 50%;\n",
              "    cursor: pointer;\n",
              "    display: none;\n",
              "    fill: var(--fill-color);\n",
              "    height: 32px;\n",
              "    padding: 0;\n",
              "    width: 32px;\n",
              "  }\n",
              "\n",
              "  .colab-df-quickchart:hover {\n",
              "    background-color: var(--hover-bg-color);\n",
              "    box-shadow: 0 1px 2px rgba(60, 64, 67, 0.3), 0 1px 3px 1px rgba(60, 64, 67, 0.15);\n",
              "    fill: var(--button-hover-fill-color);\n",
              "  }\n",
              "\n",
              "  .colab-df-quickchart-complete:disabled,\n",
              "  .colab-df-quickchart-complete:disabled:hover {\n",
              "    background-color: var(--disabled-bg-color);\n",
              "    fill: var(--disabled-fill-color);\n",
              "    box-shadow: none;\n",
              "  }\n",
              "\n",
              "  .colab-df-spinner {\n",
              "    border: 2px solid var(--fill-color);\n",
              "    border-color: transparent;\n",
              "    border-bottom-color: var(--fill-color);\n",
              "    animation:\n",
              "      spin 1s steps(1) infinite;\n",
              "  }\n",
              "\n",
              "  @keyframes spin {\n",
              "    0% {\n",
              "      border-color: transparent;\n",
              "      border-bottom-color: var(--fill-color);\n",
              "      border-left-color: var(--fill-color);\n",
              "    }\n",
              "    20% {\n",
              "      border-color: transparent;\n",
              "      border-left-color: var(--fill-color);\n",
              "      border-top-color: var(--fill-color);\n",
              "    }\n",
              "    30% {\n",
              "      border-color: transparent;\n",
              "      border-left-color: var(--fill-color);\n",
              "      border-top-color: var(--fill-color);\n",
              "      border-right-color: var(--fill-color);\n",
              "    }\n",
              "    40% {\n",
              "      border-color: transparent;\n",
              "      border-right-color: var(--fill-color);\n",
              "      border-top-color: var(--fill-color);\n",
              "    }\n",
              "    60% {\n",
              "      border-color: transparent;\n",
              "      border-right-color: var(--fill-color);\n",
              "    }\n",
              "    80% {\n",
              "      border-color: transparent;\n",
              "      border-right-color: var(--fill-color);\n",
              "      border-bottom-color: var(--fill-color);\n",
              "    }\n",
              "    90% {\n",
              "      border-color: transparent;\n",
              "      border-bottom-color: var(--fill-color);\n",
              "    }\n",
              "  }\n",
              "</style>\n",
              "\n",
              "  <script>\n",
              "    async function quickchart(key) {\n",
              "      const quickchartButtonEl =\n",
              "        document.querySelector('#' + key + ' button');\n",
              "      quickchartButtonEl.disabled = true;  // To prevent multiple clicks.\n",
              "      quickchartButtonEl.classList.add('colab-df-spinner');\n",
              "      try {\n",
              "        const charts = await google.colab.kernel.invokeFunction(\n",
              "            'suggestCharts', [key], {});\n",
              "      } catch (error) {\n",
              "        console.error('Error during call to suggestCharts:', error);\n",
              "      }\n",
              "      quickchartButtonEl.classList.remove('colab-df-spinner');\n",
              "      quickchartButtonEl.classList.add('colab-df-quickchart-complete');\n",
              "    }\n",
              "    (() => {\n",
              "      let quickchartButtonEl =\n",
              "        document.querySelector('#df-de73d73b-938e-4ad6-9d53-99bf552db8ac button');\n",
              "      quickchartButtonEl.style.display =\n",
              "        google.colab.kernel.accessAllowed ? 'block' : 'none';\n",
              "    })();\n",
              "  </script>\n",
              "</div>\n",
              "\n",
              "    </div>\n",
              "  </div>\n"
            ],
            "text/plain": [
              "   Unnamed: 0 trans_date_trans_time            cc_num  \\\n",
              "0           0   2019-01-01 00:00:18  2703186189652095   \n",
              "1           1   2019-01-01 00:00:44      630423337322   \n",
              "2           2   2019-01-01 00:00:51    38859492057661   \n",
              "3           3   2019-01-01 00:01:16  3534093764340240   \n",
              "4           4   2019-01-01 00:03:06   375534208663984   \n",
              "\n",
              "                             merchant       category     amt      first  \\\n",
              "0          fraud_Rippin, Kub and Mann       misc_net    4.97   Jennifer   \n",
              "1     fraud_Heller, Gutmann and Zieme    grocery_pos  107.23  Stephanie   \n",
              "2                fraud_Lind-Buckridge  entertainment  220.11     Edward   \n",
              "3  fraud_Kutch, Hermiston and Farrell  gas_transport   45.00     Jeremy   \n",
              "4                 fraud_Keeling-Crist       misc_pos   41.96      Tyler   \n",
              "\n",
              "      last gender                        street  ...  \\\n",
              "0    Banks      F                561 Perry Cove  ...   \n",
              "1     Gill      F  43039 Riley Greens Suite 393  ...   \n",
              "2  Sanchez      M      594 White Dale Suite 530  ...   \n",
              "3    White      M   9443 Cynthia Court Apt. 038  ...   \n",
              "4   Garcia      M              408 Bradley Rest  ...   \n",
              "\n",
              "                          trans_num   unix_time  merch_lat  merch_long  \\\n",
              "0  0b242abb623afc578575680df30655b9  1325376018  36.011293  -82.048315   \n",
              "1  1f76529f8574734946361c461b024d99  1325376044  49.159047 -118.186462   \n",
              "2  a1a22d70485983eac12b5b88dad1cf95  1325376051  43.150704 -112.154481   \n",
              "3  6b849c168bdad6f867558c3793159a81  1325376076  47.034331 -112.561071   \n",
              "4  a41d7549acf90789359a9aa5346dcb46  1325376186  38.674999  -78.632459   \n",
              "\n",
              "   is_fraud      day    month  year hour  age  \n",
              "0         0  Tuesday  January  2019    0   36  \n",
              "1         0  Tuesday  January  2019    0   46  \n",
              "2         0  Tuesday  January  2019    0   62  \n",
              "3         0  Tuesday  January  2019    0   57  \n",
              "4         0  Tuesday  January  2019    0   38  \n",
              "\n",
              "[5 rows x 28 columns]"
            ]
          },
          "execution_count": 128,
          "metadata": {},
          "output_type": "execute_result"
        }
      ],
      "source": [
        "# top 5 rows of the data\n",
        "fraud_df.head()"
      ]
    },
    {
      "cell_type": "code",
      "execution_count": null,
      "metadata": {
        "colab": {
          "base_uri": "https://localhost:8080/"
        },
        "collapsed": true,
        "id": "iK6qoLfX7glr",
        "outputId": "374fd232-0b08-4486-e35d-8e6991f575f1"
      },
      "outputs": [
        {
          "data": {
            "text/plain": [
              "count    1.296539e+06\n",
              "mean     5.074252e+01\n",
              "std      1.737845e+01\n",
              "min      1.900000e+01\n",
              "25%      3.700000e+01\n",
              "50%      4.900000e+01\n",
              "75%      6.200000e+01\n",
              "max      1.000000e+02\n",
              "Name: age, dtype: float64"
            ]
          },
          "execution_count": 129,
          "metadata": {},
          "output_type": "execute_result"
        }
      ],
      "source": [
        "#descriptive stats for age\n",
        "fraud_df['age'].describe()"
      ]
    },
    {
      "cell_type": "markdown",
      "metadata": {
        "id": "4OWteC8bo_NT"
      },
      "source": [
        "# **Exploratory Data Analysis:**"
      ]
    },
    {
      "cell_type": "markdown",
      "metadata": {
        "id": "OUgNr0fLDtTU"
      },
      "source": [
        "**Analyse Target variable**"
      ]
    },
    {
      "cell_type": "code",
      "execution_count": null,
      "metadata": {
        "colab": {
          "base_uri": "https://localhost:8080/",
          "height": 651
        },
        "collapsed": true,
        "id": "Av2j8es4pAco",
        "outputId": "290c5270-a1c4-4844-c24f-3ddf522f3094"
      },
      "outputs": [
        {
          "name": "stderr",
          "output_type": "stream",
          "text": [
            "<ipython-input-130-9ebc0e716e00>:3: FutureWarning: \n",
            "\n",
            "Passing `palette` without assigning `hue` is deprecated and will be removed in v0.14.0. Assign the `x` variable to `hue` and set `legend=False` for the same effect.\n",
            "\n",
            "  ax = sns.countplot(x='is_fraud', data = fraud_df, palette ='Set2')\n"
          ]
        },
        {
          "data": {
            "image/png": "[encoded data removed]",
            "text/plain": [
              "<Figure size 800x600 with 1 Axes>"
            ]
          },
          "metadata": {},
          "output_type": "display_data"
        }
      ],
      "source": [
        "#target variable analysis\n",
        "plt.figure(figsize=(8,6))\n",
        "ax = sns.countplot(x='is_fraud', data = fraud_df, palette ='Set2')\n",
        "\n",
        "#iterating to find exact count using axis ax object\n",
        "for bars in ax.containers:\n",
        "  ax.bar_label(bars)\n",
        "\n",
        "#add title and display\n",
        "plt.title('Class Distribution of Fraud')\n",
        "plt.show()"
      ]
    },
    {
      "cell_type": "markdown",
      "metadata": {
        "id": "HiaGEFAJDhel"
      },
      "source": [
        "Data is highly imbalanced we will deal with it later."
      ]
    },
    {
      "cell_type": "markdown",
      "metadata": {
        "id": "7UF_jqJvD5mU"
      },
      "source": [
        "**Identify most used category** **and Frauds across different categories.**"
      ]
    },
    {
      "cell_type": "code",
      "execution_count": null,
      "metadata": {
        "colab": {
          "base_uri": "https://localhost:8080/",
          "height": 564
        },
        "collapsed": true,
        "id": "yCAMPdtIr5KA",
        "outputId": "eedf18bd-e35c-40bb-a24a-153b0a714c24"
      },
      "outputs": [
        {
          "data": {
            "image/png": "[encoded data removed]",
            "text/plain": [
              "<Figure size 1000x600 with 1 Axes>"
            ]
          },
          "metadata": {},
          "output_type": "display_data"
        }
      ],
      "source": [
        "#plot chart for category of merchants to find most popular one\n",
        "plt.figure(figsize=(10, 6))\n",
        "sns.countplot(y='category', data=fraud_df, order=fraud_df['category'].value_counts().index)\n",
        "#define title and axes\n",
        "plt.ylabel('Merchant Category')\n",
        "plt.title('Transaction Count by Category')\n",
        "plt.show()\n"
      ]
    },
    {
      "cell_type": "markdown",
      "metadata": {
        "id": "gudYy9rFHfDO"
      },
      "source": [
        "gas transport is most used merchant category followed by grocery_pos, home, shopping_pos,kids_pets respectively."
      ]
    },
    {
      "cell_type": "code",
      "execution_count": null,
      "metadata": {
        "colab": {
          "base_uri": "https://localhost:8080/"
        },
        "collapsed": true,
        "id": "LhWRyXBw0IyN",
        "outputId": "b6d45872-31a5-489a-8f3b-a576e54c3c19"
      },
      "outputs": [
        {
          "name": "stdout",
          "output_type": "stream",
          "text": [
            "          category  is_fraud\n",
            "0      grocery_pos      1743\n",
            "1     shopping_net      1713\n",
            "2         misc_net       915\n",
            "3     shopping_pos       843\n",
            "4    gas_transport       618\n",
            "5         misc_pos       250\n",
            "6        kids_pets       239\n",
            "7    entertainment       233\n",
            "8    personal_care       220\n",
            "9             home       198\n",
            "10     food_dining       151\n",
            "11     grocery_net       134\n",
            "12  health_fitness       133\n",
            "13          travel       116\n"
          ]
        }
      ],
      "source": [
        "#find frauds by category\n",
        "category_fraud = fraud_df.groupby('category')['is_fraud'].sum().sort_values(ascending=False).reset_index()\n",
        "print(category_fraud)\n"
      ]
    },
    {
      "cell_type": "code",
      "execution_count": null,
      "metadata": {
        "colab": {
          "base_uri": "https://localhost:8080/",
          "height": 564
        },
        "collapsed": true,
        "id": "w_094McbyUdF",
        "outputId": "47583050-7bad-4c9e-fea6-eb5a6553a58e"
      },
      "outputs": [
        {
          "data": {
            "image/png": "[encoded data removed]",
            "text/plain": [
              "<Figure size 1000x600 with 1 Axes>"
            ]
          },
          "metadata": {},
          "output_type": "display_data"
        }
      ],
      "source": [
        "#assign figure size\n",
        "plt.figure(figsize=(10, 6))\n",
        "#plot bar chart category vs fraud\n",
        "sns.barplot(y='category', x='is_fraud', data = category_fraud)\n",
        "#axes and display\n",
        "plt.xlabel('Fraud Frequency')\n",
        "plt.ylabel('Merchant Category')\n",
        "plt.title('Fraud Count by Category')\n",
        "plt.show()\n"
      ]
    },
    {
      "cell_type": "markdown",
      "metadata": {
        "id": "s-i0zSanIWyv"
      },
      "source": [
        "Most number of fraud transactions happened at grocery_pos merchant category followed by shopping_net, misc_net, shopping_pos respectively"
      ]
    },
    {
      "cell_type": "markdown",
      "metadata": {
        "id": "LiJF_M_7JQuu"
      },
      "source": [
        "**What is prominent age group?**"
      ]
    },
    {
      "cell_type": "code",
      "execution_count": null,
      "metadata": {
        "colab": {
          "base_uri": "https://localhost:8080/",
          "height": 472
        },
        "collapsed": true,
        "id": "dAPPXXB86Kys",
        "outputId": "38a33654-4602-4d3c-f26a-7899869df203"
      },
      "outputs": [
        {
          "data": {
            "image/png": "[encoded data removed]",
            "text/plain": [
              "<Figure size 640x480 with 1 Axes>"
            ]
          },
          "metadata": {},
          "output_type": "display_data"
        }
      ],
      "source": [
        "#Find distribution of ages using histogram\n",
        "sns.histplot(fraud_df['age'], bins=30, kde=True)\n",
        "#axes and display\n",
        "plt.xlabel('Age')\n",
        "plt.ylabel('Frequency of ages')\n",
        "plt.title('Age Distribution')\n",
        "plt.show()"
      ]
    },
    {
      "cell_type": "markdown",
      "metadata": {
        "id": "Ko7sD7h7KE0m"
      },
      "source": [
        "From histogram we can see that data is conccentrated between age group 30 to 60."
      ]
    },
    {
      "cell_type": "markdown",
      "metadata": {
        "id": "YgTKsurbL0kO"
      },
      "source": [
        "**What is gender distribution and percentage of frauds by gender?**"
      ]
    },
    {
      "cell_type": "code",
      "execution_count": null,
      "metadata": {
        "colab": {
          "base_uri": "https://localhost:8080/",
          "height": 410
        },
        "collapsed": true,
        "id": "V26ZqeATNRRW",
        "outputId": "73b2e404-f093-47b7-c662-910a5b471df9"
      },
      "outputs": [
        {
          "data": {
            "image/png": "[encoded data removed]",
            "text/plain": [
              "<Figure size 600x400 with 1 Axes>"
            ]
          },
          "metadata": {},
          "output_type": "display_data"
        }
      ],
      "source": [
        "#Plot for distribution of gender\n",
        "plt.figure(figsize=(6, 4))\n",
        "sns.countplot(x='gender', data=fraud_df)\n",
        "plt.title('Gender Distribution')\n",
        "plt.show()"
      ]
    },
    {
      "cell_type": "markdown",
      "metadata": {
        "id": "axHf1-9fR0By"
      },
      "source": [
        "There are more total transactions recorded for females than for males.This could indicate a higher level of transaction activity among female cardholders in the dataset."
      ]
    },
    {
      "cell_type": "code",
      "execution_count": null,
      "metadata": {
        "colab": {
          "base_uri": "https://localhost:8080/",
          "height": 703
        },
        "collapsed": true,
        "id": "nx-CzjK5Cnkw",
        "outputId": "e119c439-66c8-466a-fbd6-5649c987847d"
      },
      "outputs": [
        {
          "name": "stderr",
          "output_type": "stream",
          "text": [
            "<ipython-input-136-9a7e6410e25e>:15: FutureWarning: \n",
            "\n",
            "Passing `palette` without assigning `hue` is deprecated and will be removed in v0.14.0. Assign the `x` variable to `hue` and set `legend=False` for the same effect.\n",
            "\n",
            "  sns.barplot(x='gender', y='fraud_percentage', data=merged_df, palette='viridis')\n"
          ]
        },
        {
          "data": {
            "image/png": "[encoded data removed]",
            "text/plain": [
              "<Figure size 1000x600 with 1 Axes>"
            ]
          },
          "metadata": {},
          "output_type": "display_data"
        },
        {
          "name": "stdout",
          "output_type": "stream",
          "text": [
            "  gender   total  fraudulent  fraud_percentage\n",
            "0      F  709793        3735          0.526210\n",
            "1      M  586746        3771          0.642697\n"
          ]
        }
      ],
      "source": [
        "# Calculate the total number of transactions for each gender\n",
        "total_transactions = fraud_df['gender'].value_counts().reset_index(name='total')\n",
        "\n",
        "#calculate the fraud transaction\n",
        "fraud_transactions = fraud_df[fraud_df['is_fraud'] == 1].groupby('gender')['is_fraud'].count().reset_index(name='fraudulent')\n",
        "\n",
        "# Merge the dataframes on gender\n",
        "merged_df = pd.merge(total_transactions, fraud_transactions, on='gender')\n",
        "\n",
        "# Calculate the percentage of fraudulent transactions\n",
        "merged_df['fraud_percentage'] = (merged_df['fraudulent'] / merged_df['total']) * 100\n",
        "\n",
        "# Plot the bar plot for fraud percentage by gender\n",
        "plt.figure(figsize=(10, 6))\n",
        "sns.barplot(x='gender', y='fraud_percentage', data=merged_df, palette='viridis')\n",
        "\n",
        "# Add titles and labels\n",
        "plt.title('Percentage of Fraud by Gender')\n",
        "plt.xlabel('Gender')\n",
        "plt.ylabel('Fraud Percentage')\n",
        "\n",
        "# Show plot\n",
        "plt.show()\n",
        "\n",
        "# Display the merged dataframe with percentages\n",
        "print(merged_df)\n"
      ]
    },
    {
      "cell_type": "markdown",
      "metadata": {
        "id": "yoxnvB5ESetC"
      },
      "source": [
        "Despite the difference in the total number of transactions, the number of fraudulent transactions is quite similar between genders. Females have 3,735 fraudulent transactions, while males have 3,771."
      ]
    },
    {
      "cell_type": "markdown",
      "metadata": {
        "id": "yZI1DHB33dL2"
      },
      "source": [
        "**When does fraud occurs most?**"
      ]
    },
    {
      "cell_type": "code",
      "execution_count": null,
      "metadata": {
        "id": "ojDlLO4fqLdD"
      },
      "outputs": [],
      "source": [
        "#Calculate daily fraud count\n",
        "frauds_by_day = fraud_df[fraud_df['is_fraud'] == 1].groupby('day')['is_fraud'].count().reset_index(name='fraud_count')\n",
        "#arrange them in descending order\n",
        "frauds_by_day = frauds_by_day.sort_values(by ='fraud_count', ascending = False)"
      ]
    },
    {
      "cell_type": "code",
      "execution_count": null,
      "metadata": {
        "colab": {
          "base_uri": "https://localhost:8080/"
        },
        "collapsed": true,
        "id": "vtvQcVV7sWok",
        "outputId": "87f7e50e-8d00-4d85-97bb-b58a4f459eb5"
      },
      "outputs": [
        {
          "name": "stdout",
          "output_type": "stream",
          "text": [
            "         day  fraud_count\n",
            "2   Saturday         1227\n",
            "3     Sunday         1216\n",
            "1     Monday         1182\n",
            "0     Friday         1079\n",
            "4   Thursday         1008\n",
            "5    Tuesday          935\n",
            "6  Wednesday          859\n"
          ]
        }
      ],
      "source": [
        "#print\n",
        "print(frauds_by_day)"
      ]
    },
    {
      "cell_type": "code",
      "execution_count": null,
      "metadata": {
        "colab": {
          "base_uri": "https://localhost:8080/",
          "height": 542
        },
        "collapsed": true,
        "id": "AH5WkkC6tupu",
        "outputId": "5688af76-0227-485a-f5dd-13b259768576"
      },
      "outputs": [
        {
          "data": {
            "image/png": "[encoded data removed]",
            "text/plain": [
              "<Figure size 1000x600 with 1 Axes>"
            ]
          },
          "metadata": {},
          "output_type": "display_data"
        }
      ],
      "source": [
        "#plot bar chart for frauds across days\n",
        "plt.figure(figsize=(10,6))\n",
        "sns.barplot(x='day', y='fraud_count', data= frauds_by_day)\n",
        "\n",
        "#name axes and display\n",
        "plt.xlabel('Day of the week')\n",
        "plt.ylabel('Fraud Count')\n",
        "plt.show()"
      ]
    },
    {
      "cell_type": "markdown",
      "metadata": {
        "id": "_VFERvp0wIQx"
      },
      "source": [
        "Maximum frauds occured on weekends specially saturday and sunday."
      ]
    },
    {
      "cell_type": "code",
      "execution_count": null,
      "metadata": {
        "id": "0SmrbgIW3aan"
      },
      "outputs": [],
      "source": [
        "#calculate fraud over months\n",
        "frauds_by_months = fraud_df[fraud_df['is_fraud'] == 1].groupby('month')['is_fraud'].count().reset_index(name='monthly_fraud')\n",
        "#arrange them in descending order\n",
        "frauds_by_months = frauds_by_months.sort_values(by ='monthly_fraud', ascending = False)"
      ]
    },
    {
      "cell_type": "code",
      "execution_count": null,
      "metadata": {
        "colab": {
          "base_uri": "https://localhost:8080/"
        },
        "collapsed": true,
        "id": "StujBjxl5Pxp",
        "outputId": "d93d5224-41c5-4917-a537-57b3f4acc50a"
      },
      "outputs": [
        {
          "name": "stdout",
          "output_type": "stream",
          "text": [
            "        month  monthly_fraud\n",
            "7       March            938\n",
            "8         May            935\n",
            "3    February            853\n",
            "4     January            849\n",
            "6        June            688\n",
            "0       April            678\n",
            "2    December            592\n",
            "10    October            454\n",
            "11  September            418\n",
            "9    November            388\n",
            "1      August            382\n",
            "5        July            331\n"
          ]
        }
      ],
      "source": [
        "#print\n",
        "print(frauds_by_months)"
      ]
    },
    {
      "cell_type": "code",
      "execution_count": null,
      "metadata": {
        "colab": {
          "base_uri": "https://localhost:8080/",
          "height": 696
        },
        "collapsed": true,
        "id": "J-BT-ieH5wYg",
        "outputId": "217db7b8-1028-4b33-f4ff-c33453170bf2"
      },
      "outputs": [
        {
          "data": {
            "image/png": "[encoded data removed]",
            "text/plain": [
              "<Figure size 1200x800 with 1 Axes>"
            ]
          },
          "metadata": {},
          "output_type": "display_data"
        }
      ],
      "source": [
        "#plot bar chart for frauds across days\n",
        "plt.figure(figsize=(12,8))\n",
        "sns.barplot(x='month', y='monthly_fraud',data=frauds_by_months)\n",
        "\n",
        "#name axes and display\n",
        "plt.xlabel('Month')\n",
        "plt.ylabel('Fraud Count')\n",
        "plt.show()"
      ]
    },
    {
      "cell_type": "markdown",
      "metadata": {
        "id": "2eJLCpJz9hJ6"
      },
      "source": [
        "Month wise in march month most frauds occured followed by may, february, january and june."
      ]
    },
    {
      "cell_type": "code",
      "execution_count": null,
      "metadata": {
        "id": "NMKs5EHH6_aT"
      },
      "outputs": [],
      "source": [
        "#calculate fraud over hours\n",
        "frauds_by_hour = fraud_df[fraud_df['is_fraud'] == 1].groupby('hour')['is_fraud'].count().reset_index(name='hourly_fraud')\n",
        "#arrange it in descending order\n",
        "frauds_by_hour = frauds_by_hour.sort_values(by='hourly_fraud', ascending = False)"
      ]
    },
    {
      "cell_type": "code",
      "execution_count": null,
      "metadata": {
        "colab": {
          "base_uri": "https://localhost:8080/"
        },
        "collapsed": true,
        "id": "NXDnpjY2Ab-Q",
        "outputId": "08f6eebd-fc90-487d-e7d7-153957913e1a"
      },
      "outputs": [
        {
          "name": "stdout",
          "output_type": "stream",
          "text": [
            "    hour  hourly_fraud\n",
            "22    22          1931\n",
            "23    23          1904\n",
            "1      1           658\n",
            "0      0           635\n",
            "2      2           625\n",
            "3      3           609\n",
            "14    14            86\n",
            "19    19            81\n",
            "18    18            81\n",
            "13    13            80\n",
            "15    15            79\n",
            "17    17            78\n",
            "16    16            76\n",
            "21    21            74\n",
            "12    12            67\n",
            "20    20            62\n",
            "5      5            60\n",
            "7      7            56\n",
            "8      8            49\n",
            "9      9            47\n",
            "4      4            46\n",
            "11    11            42\n",
            "10    10            40\n",
            "6      6            40\n"
          ]
        }
      ],
      "source": [
        "print(frauds_by_hour)"
      ]
    },
    {
      "cell_type": "code",
      "execution_count": null,
      "metadata": {
        "colab": {
          "base_uri": "https://localhost:8080/",
          "height": 450
        },
        "collapsed": true,
        "id": "AbDOG2i0FrWb",
        "outputId": "290aad01-e955-45c2-a449-fed80b1fb647"
      },
      "outputs": [
        {
          "data": {
            "image/png": "[encoded data removed]",
            "text/plain": [
              "<Figure size 640x480 with 1 Axes>"
            ]
          },
          "metadata": {},
          "output_type": "display_data"
        }
      ],
      "source": [
        "#plot bar chart for frauds across hours\n",
        "sns.barplot(x='hour', y='hourly_fraud', data = frauds_by_hour)\n",
        "#axes and display\n",
        "plt.xlabel('Hour')\n",
        "plt.ylabel('Fraud Count')\n",
        "plt.show()"
      ]
    },
    {
      "cell_type": "markdown",
      "metadata": {
        "id": "RCGPZkenGh9l"
      },
      "source": [
        "from this bar chart we can see that most frauds occured last at night between 10pm (22) to 3am."
      ]
    },
    {
      "cell_type": "markdown",
      "metadata": {
        "id": "vQRfRMiJIR7G"
      },
      "source": [
        "**Lets check distribution of numerical variable**"
      ]
    },
    {
      "cell_type": "code",
      "execution_count": null,
      "metadata": {
        "colab": {
          "base_uri": "https://localhost:8080/",
          "height": 663
        },
        "collapsed": true,
        "id": "tzp_O_EGG0m-",
        "outputId": "88f8fa76-5ba2-46e6-b375-8cd1760b4619"
      },
      "outputs": [
        {
          "name": "stderr",
          "output_type": "stream",
          "text": [
            "<ipython-input-146-e06a28093825>:2: UserWarning: \n",
            "\n",
            "`distplot` is a deprecated function and will be removed in seaborn v0.14.0.\n",
            "\n",
            "Please adapt your code to use either `displot` (a figure-level function with\n",
            "similar flexibility) or `histplot` (an axes-level function for histograms).\n",
            "\n",
            "For a guide to updating your code to use the new functions, please see\n",
            "https://gist.github.com/mwaskom/de44147ed2974457ad6372750bbe5751\n",
            "\n",
            "  sns.distplot(fraud_df['amt'])\n"
          ]
        },
        {
          "data": {
            "image/png": "[encoded data removed]",
            "text/plain": [
              "<Figure size 640x480 with 1 Axes>"
            ]
          },
          "metadata": {},
          "output_type": "display_data"
        }
      ],
      "source": [
        "#plot distribution of amt using displot\n",
        "sns.distplot(fraud_df['amt'])\n",
        "#define title and axes\n",
        "plt.xlabel('Transaction Amount')\n",
        "plt.ylabel('Density')\n",
        "plt.title('Distribution of Transaction Amount')\n",
        "plt.show()"
      ]
    },
    {
      "cell_type": "markdown",
      "metadata": {
        "id": "eF_b9tbqKMMn"
      },
      "source": [
        "The distribution of all the variables are heavily right skewed.\n",
        "\n",
        "We will apply log transformation on these variables to make it less skewed."
      ]
    },
    {
      "cell_type": "code",
      "execution_count": null,
      "metadata": {
        "colab": {
          "base_uri": "https://localhost:8080/",
          "height": 663
        },
        "collapsed": true,
        "id": "brXNd7RRIxty",
        "outputId": "f803e7b7-ee05-4e1f-f3c6-aa5d97cb7423"
      },
      "outputs": [
        {
          "name": "stderr",
          "output_type": "stream",
          "text": [
            "<ipython-input-147-a2129ee78e67>:2: UserWarning: \n",
            "\n",
            "`distplot` is a deprecated function and will be removed in seaborn v0.14.0.\n",
            "\n",
            "Please adapt your code to use either `displot` (a figure-level function with\n",
            "similar flexibility) or `histplot` (an axes-level function for histograms).\n",
            "\n",
            "For a guide to updating your code to use the new functions, please see\n",
            "https://gist.github.com/mwaskom/de44147ed2974457ad6372750bbe5751\n",
            "\n",
            "  sns.distplot(np.log1p(fraud_df['amt']))\n"
          ]
        },
        {
          "data": {
            "image/png": "[encoded data removed]",
            "text/plain": [
              "<Figure size 640x480 with 1 Axes>"
            ]
          },
          "metadata": {},
          "output_type": "display_data"
        }
      ],
      "source": [
        "# taking a log transformation\n",
        "sns.distplot(np.log1p(fraud_df['amt']))\n",
        "#define title and axes\n",
        "plt.xlabel('Transaction Amount')\n",
        "plt.ylabel('Density')\n",
        "plt.title('Distribution of Transaction Amount')\n",
        "plt.show()"
      ]
    },
    {
      "cell_type": "markdown",
      "metadata": {
        "id": "9rS4p2Y7LNDG"
      },
      "source": [
        "The variables after log transformation are less skewed than before."
      ]
    },
    {
      "cell_type": "markdown",
      "metadata": {
        "id": "a34VbJpDLpvw"
      },
      "source": [
        "**Percentage of fraud by cities**"
      ]
    },
    {
      "cell_type": "code",
      "execution_count": null,
      "metadata": {
        "id": "ciKy2gArLC0x"
      },
      "outputs": [],
      "source": [
        "#Calculate the total number of transactions for each city\n",
        "transaction_by_cities = fraud_df['city'].value_counts().reset_index(name='Trans_city')\n",
        "\n",
        "# Filter cities with over 100 transactions\n",
        "transaction_by_cities = transaction_by_cities[transaction_by_cities['Trans_city'] > 100]\n",
        "\n",
        "#calculate the fraud transaction\n",
        "fraud_transactions_city = fraud_df[fraud_df['is_fraud'] == 1].groupby('city')['is_fraud'].count().reset_index(name='fraud_cities')\n",
        "\n",
        "# Merge the dataframes on gender\n",
        "merged_df_city = pd.merge(transaction_by_cities, fraud_transactions_city, on='city')\n",
        "\n",
        "#calculate percentage of fraudulent transaction\n",
        "merged_df_city['fraud_percentage'] = (merged_df_city['fraud_cities'] / merged_df_city['Trans_city']) * 100\n",
        "\n",
        "#arrange dataframe in descending order of fraud_percentage\n",
        "merged_df_city = merged_df_city.sort_values(by='fraud_percentage', ascending = False)"
      ]
    },
    {
      "cell_type": "code",
      "execution_count": null,
      "metadata": {
        "colab": {
          "base_uri": "https://localhost:8080/"
        },
        "id": "rYhkRTmROzOe",
        "outputId": "47c7773e-19d4-4b8f-9e79-e07b90c993bc"
      },
      "outputs": [
        {
          "name": "stdout",
          "output_type": "stream",
          "text": [
            "               city  Trans_city  fraud_cities  fraud_percentage\n",
            "594          Aurora         512            23          4.492188\n",
            "506      Clearwater         553            24          4.339964\n",
            "526          Benton         530            17          3.207547\n",
            "580          Moscow         516            16          3.100775\n",
            "634         Boulder         493            15          3.042596\n",
            "..              ...         ...           ...               ...\n",
            "53        Grandview        3036             3          0.098814\n",
            "48         Florence        3046             3          0.098490\n",
            "46      Tupper Lake        3055             3          0.098200\n",
            "108  Denham Springs        2540             2          0.078740\n",
            "3           Phoenix        5075             2          0.039409\n",
            "\n",
            "[644 rows x 4 columns]\n"
          ]
        }
      ],
      "source": [
        "print(merged_df_city)"
      ]
    },
    {
      "cell_type": "code",
      "execution_count": null,
      "metadata": {
        "colab": {
          "base_uri": "https://localhost:8080/",
          "height": 807
        },
        "id": "RXWVL4JyO1fN",
        "outputId": "7493c8d2-97ea-44bc-95a2-3c5dbb660180"
      },
      "outputs": [
        {
          "data": {
            "image/png": "[encoded data removed]",
            "text/plain": [
              "<Figure size 1200x800 with 1 Axes>"
            ]
          },
          "metadata": {},
          "output_type": "display_data"
        }
      ],
      "source": [
        "# Plot the bar plot for fraud percentage by cities\n",
        "plt.figure(figsize=(12,8))\n",
        "sns.barplot(x='city', y='fraud_percentage', data = merged_df_city[:10])\n",
        "plt.xlabel('City')\n",
        "plt.ylabel('Fraud Percentage')\n",
        "plt.ylim([0.0,5.0])\n",
        "plt.xticks(rotation =45)\n",
        "plt.show()"
      ]
    },
    {
      "cell_type": "markdown",
      "metadata": {
        "id": "t12jTQAfWsVQ"
      },
      "source": [
        "Aurora is city with maximum percentage of fraud transactions followed by Clearwater, Benton, Moscow, Boulder."
      ]
    },
    {
      "cell_type": "markdown",
      "metadata": {
        "id": "uUwWqZbwXRj-"
      },
      "source": [
        "# **Handle Imbalance in Dataset.**"
      ]
    },
    {
      "cell_type": "code",
      "execution_count": null,
      "metadata": {
        "colab": {
          "base_uri": "https://localhost:8080/"
        },
        "id": "3vrZlk69XXA4",
        "outputId": "7b3e177e-ea2e-4ead-b344-abe22f21f4bb"
      },
      "outputs": [
        {
          "name": "stdout",
          "output_type": "stream",
          "text": [
            "class 0: (1289033, 28)\n",
            "class 1: (7506, 28)\n"
          ]
        }
      ],
      "source": [
        "#class count\n",
        "class_0, class_1 = fraud_df['is_fraud'].value_counts()\n",
        "\n",
        "# Separate class\n",
        "class_0 = fraud_df[fraud_df['is_fraud'] == 0]\n",
        "class_1 = fraud_df[fraud_df['is_fraud'] == 1]\n",
        "print('class 0:', class_0.shape)\n",
        "print('class 1:', class_1.shape)"
      ]
    },
    {
      "cell_type": "markdown",
      "metadata": {
        "id": "jSp9Ww6WX-Pd"
      },
      "source": [
        "Data set is highly imabalanced we will do undersampling - removing some observations of the majority class"
      ]
    },
    {
      "cell_type": "code",
      "execution_count": null,
      "metadata": {
        "id": "YhKCbyp3X4aO"
      },
      "outputs": [],
      "source": [
        "#droping target variable\n",
        "ind_fraud_df = fraud_df.drop('is_fraud', axis =1)"
      ]
    },
    {
      "cell_type": "code",
      "execution_count": null,
      "metadata": {
        "colab": {
          "base_uri": "https://localhost:8080/"
        },
        "id": "BYK3RwL5Xg1Q",
        "outputId": "768494b1-757c-4fe4-c24e-80d2d7e0e37e"
      },
      "outputs": [
        {
          "name": "stdout",
          "output_type": "stream",
          "text": [
            "Original dataset shape: 1296539\n",
            "Resampled dataset shape 15012\n"
          ]
        }
      ],
      "source": [
        "#import package\n",
        "from imblearn.under_sampling import RandomUnderSampler\n",
        "\n",
        "#apply undersampling technique\n",
        "rus = RandomUnderSampler(random_state=42,replacement = True)\n",
        "x_rus, y_rus = rus.fit_resample(ind_fraud_df, fraud_df['is_fraud'])\n",
        "\n",
        "#print original and resampled dataset\n",
        "print('Original dataset shape:', len(fraud_df))\n",
        "print('Resampled dataset shape', len(y_rus))"
      ]
    },
    {
      "cell_type": "code",
      "execution_count": null,
      "metadata": {
        "id": "zAb2RPXpbZbw"
      },
      "outputs": [],
      "source": [
        "# combine independent and dependent variables\n",
        "resampled_df = x_rus.copy()\n",
        "resampled_df['is_fraud'] = y_rus"
      ]
    },
    {
      "cell_type": "code",
      "execution_count": null,
      "metadata": {
        "colab": {
          "base_uri": "https://localhost:8080/"
        },
        "id": "O8nn8oEIbkHd",
        "outputId": "0595095b-2a1a-4128-8bc9-07974c3480ec"
      },
      "outputs": [
        {
          "data": {
            "text/plain": [
              "(15012, 28)"
            ]
          },
          "execution_count": 155,
          "metadata": {},
          "output_type": "execute_result"
        }
      ],
      "source": [
        "#final dataset shape\n",
        "resampled_df.shape"
      ]
    },
    {
      "cell_type": "markdown",
      "metadata": {
        "id": "MTuO1odMPjTs"
      },
      "source": [
        "# **Encoding Categorical variables**"
      ]
    },
    {
      "cell_type": "code",
      "execution_count": null,
      "metadata": {
        "colab": {
          "base_uri": "https://localhost:8080/",
          "height": 175
        },
        "id": "rizYdVKlOMX8",
        "outputId": "87e76047-6d73-4d0f-d7b5-646bbccefbe4"
      },
      "outputs": [
        {
          "data": {
            "application/vnd.google.colaboratory.intrinsic+json": {
              "summary": "{\n  \"name\": \"resampled_df\",\n  \"rows\": 4,\n  \"fields\": [\n    {\n      \"column\": \"merchant\",\n      \"properties\": {\n        \"dtype\": \"string\",\n        \"num_unique_values\": 4,\n        \"samples\": [\n          693,\n          \"79\",\n          \"15012\"\n        ],\n        \"semantic_type\": \"\",\n        \"description\": \"\"\n      }\n    },\n    {\n      \"column\": \"category\",\n      \"properties\": {\n        \"dtype\": \"string\",\n        \"num_unique_values\": 4,\n        \"samples\": [\n          14,\n          \"2481\",\n          \"15012\"\n        ],\n        \"semantic_type\": \"\",\n        \"description\": \"\"\n      }\n    },\n    {\n      \"column\": \"first\",\n      \"properties\": {\n        \"dtype\": \"string\",\n        \"num_unique_values\": 4,\n        \"samples\": [\n          350,\n          \"325\",\n          \"15012\"\n        ],\n        \"semantic_type\": \"\",\n        \"description\": \"\"\n      }\n    },\n    {\n      \"column\": \"last\",\n      \"properties\": {\n        \"dtype\": \"string\",\n        \"num_unique_values\": 4,\n        \"samples\": [\n          479,\n          \"308\",\n          \"15012\"\n        ],\n        \"semantic_type\": \"\",\n        \"description\": \"\"\n      }\n    },\n    {\n      \"column\": \"gender\",\n      \"properties\": {\n        \"dtype\": \"string\",\n        \"num_unique_values\": 4,\n        \"samples\": [\n          2,\n          \"7862\",\n          \"15012\"\n        ],\n        \"semantic_type\": \"\",\n        \"description\": \"\"\n      }\n    },\n    {\n      \"column\": \"street\",\n      \"properties\": {\n        \"dtype\": \"string\",\n        \"num_unique_values\": 4,\n        \"samples\": [\n          977,\n          \"39\",\n          \"15012\"\n        ],\n        \"semantic_type\": \"\",\n        \"description\": \"\"\n      }\n    },\n    {\n      \"column\": \"city\",\n      \"properties\": {\n        \"dtype\": \"string\",\n        \"num_unique_values\": 4,\n        \"samples\": [\n          889,\n          \"63\",\n          \"15012\"\n        ],\n        \"semantic_type\": \"\",\n        \"description\": \"\"\n      }\n    },\n    {\n      \"column\": \"state\",\n      \"properties\": {\n        \"dtype\": \"string\",\n        \"num_unique_values\": 4,\n        \"samples\": [\n          51,\n          \"1052\",\n          \"15012\"\n        ],\n        \"semantic_type\": \"\",\n        \"description\": \"\"\n      }\n    },\n    {\n      \"column\": \"job\",\n      \"properties\": {\n        \"dtype\": \"string\",\n        \"num_unique_values\": 4,\n        \"samples\": [\n          492,\n          \"107\",\n          \"15012\"\n        ],\n        \"semantic_type\": \"\",\n        \"description\": \"\"\n      }\n    },\n    {\n      \"column\": \"trans_num\",\n      \"properties\": {\n        \"dtype\": \"string\",\n        \"num_unique_values\": 4,\n        \"samples\": [\n          14985,\n          \"2\",\n          \"15012\"\n        ],\n        \"semantic_type\": \"\",\n        \"description\": \"\"\n      }\n    },\n    {\n      \"column\": \"day\",\n      \"properties\": {\n        \"dtype\": \"string\",\n        \"num_unique_values\": 4,\n        \"samples\": [\n          7,\n          \"2702\",\n          \"15012\"\n        ],\n        \"semantic_type\": \"\",\n        \"description\": \"\"\n      }\n    },\n    {\n      \"column\": \"month\",\n      \"properties\": {\n        \"dtype\": \"string\",\n        \"num_unique_values\": 4,\n        \"samples\": [\n          12,\n          \"1821\",\n          \"15012\"\n        ],\n        \"semantic_type\": \"\",\n        \"description\": \"\"\n      }\n    }\n  ]\n}",
              "type": "dataframe"
            },
            "text/html": [
              "\n",
              "  <div id=\"df-f9bffca3-f4f8-4970-bfc7-41bc7a6feb98\" class=\"colab-df-container\">\n",
              "    <div>\n",
              "<style scoped>\n",
              "    .dataframe tbody tr th:only-of-type {\n",
              "        vertical-align: middle;\n",
              "    }\n",
              "\n",
              "    .dataframe tbody tr th {\n",
              "        vertical-align: top;\n",
              "    }\n",
              "\n",
              "    .dataframe thead th {\n",
              "        text-align: right;\n",
              "    }\n",
              "</style>\n",
              "<table border=\"1\" class=\"dataframe\">\n",
              "  <thead>\n",
              "    <tr style=\"text-align: right;\">\n",
              "      <th></th>\n",
              "      <th>merchant</th>\n",
              "      <th>category</th>\n",
              "      <th>first</th>\n",
              "      <th>last</th>\n",
              "      <th>gender</th>\n",
              "      <th>street</th>\n",
              "      <th>city</th>\n",
              "      <th>state</th>\n",
              "      <th>job</th>\n",
              "      <th>trans_num</th>\n",
              "      <th>day</th>\n",
              "      <th>month</th>\n",
              "    </tr>\n",
              "  </thead>\n",
              "  <tbody>\n",
              "    <tr>\n",
              "      <th>count</th>\n",
              "      <td>15012</td>\n",
              "      <td>15012</td>\n",
              "      <td>15012</td>\n",
              "      <td>15012</td>\n",
              "      <td>15012</td>\n",
              "      <td>15012</td>\n",
              "      <td>15012</td>\n",
              "      <td>15012</td>\n",
              "      <td>15012</td>\n",
              "      <td>15012</td>\n",
              "      <td>15012</td>\n",
              "      <td>15012</td>\n",
              "    </tr>\n",
              "    <tr>\n",
              "      <th>unique</th>\n",
              "      <td>693</td>\n",
              "      <td>14</td>\n",
              "      <td>350</td>\n",
              "      <td>479</td>\n",
              "      <td>2</td>\n",
              "      <td>977</td>\n",
              "      <td>889</td>\n",
              "      <td>51</td>\n",
              "      <td>492</td>\n",
              "      <td>14985</td>\n",
              "      <td>7</td>\n",
              "      <td>12</td>\n",
              "    </tr>\n",
              "    <tr>\n",
              "      <th>top</th>\n",
              "      <td>fraud_Cormier LLC</td>\n",
              "      <td>grocery_pos</td>\n",
              "      <td>Christopher</td>\n",
              "      <td>Smith</td>\n",
              "      <td>F</td>\n",
              "      <td>561 Little Plain Apt. 738</td>\n",
              "      <td>Houston</td>\n",
              "      <td>NY</td>\n",
              "      <td>Naval architect</td>\n",
              "      <td>e1a53f1448f25e7e0522dc443c3504d4</td>\n",
              "      <td>Sunday</td>\n",
              "      <td>May</td>\n",
              "    </tr>\n",
              "    <tr>\n",
              "      <th>freq</th>\n",
              "      <td>79</td>\n",
              "      <td>2481</td>\n",
              "      <td>325</td>\n",
              "      <td>308</td>\n",
              "      <td>7862</td>\n",
              "      <td>39</td>\n",
              "      <td>63</td>\n",
              "      <td>1052</td>\n",
              "      <td>107</td>\n",
              "      <td>2</td>\n",
              "      <td>2702</td>\n",
              "      <td>1821</td>\n",
              "    </tr>\n",
              "  </tbody>\n",
              "</table>\n",
              "</div>\n",
              "    <div class=\"colab-df-buttons\">\n",
              "\n",
              "  <div class=\"colab-df-container\">\n",
              "    <button class=\"colab-df-convert\" onclick=\"convertToInteractive('df-f9bffca3-f4f8-4970-bfc7-41bc7a6feb98')\"\n",
              "            title=\"Convert this dataframe to an interactive table.\"\n",
              "            style=\"display:none;\">\n",
              "\n",
              "  <svg xmlns=\"http://www.w3.org/2000/svg\" height=\"24px\" viewBox=\"0 -960 960 960\">\n",
              "    <path d=\"M120-120v-720h720v720H120Zm60-500h600v-160H180v160Zm220 220h160v-160H400v160Zm0 220h160v-160H400v160ZM180-400h160v-160H180v160Zm440 0h160v-160H620v160ZM180-180h160v-160H180v160Zm440 0h160v-160H620v160Z\"/>\n",
              "  </svg>\n",
              "    </button>\n",
              "\n",
              "  <style>\n",
              "    .colab-df-container {\n",
              "      display:flex;\n",
              "      gap: 12px;\n",
              "    }\n",
              "\n",
              "    .colab-df-convert {\n",
              "      background-color: #E8F0FE;\n",
              "      border: none;\n",
              "      border-radius: 50%;\n",
              "      cursor: pointer;\n",
              "      display: none;\n",
              "      fill: #1967D2;\n",
              "      height: 32px;\n",
              "      padding: 0 0 0 0;\n",
              "      width: 32px;\n",
              "    }\n",
              "\n",
              "    .colab-df-convert:hover {\n",
              "      background-color: #E2EBFA;\n",
              "      box-shadow: 0px 1px 2px rgba(60, 64, 67, 0.3), 0px 1px 3px 1px rgba(60, 64, 67, 0.15);\n",
              "      fill: #174EA6;\n",
              "    }\n",
              "\n",
              "    .colab-df-buttons div {\n",
              "      margin-bottom: 4px;\n",
              "    }\n",
              "\n",
              "    [theme=dark] .colab-df-convert {\n",
              "      background-color: #3B4455;\n",
              "      fill: #D2E3FC;\n",
              "    }\n",
              "\n",
              "    [theme=dark] .colab-df-convert:hover {\n",
              "      background-color: #434B5C;\n",
              "      box-shadow: 0px 1px 3px 1px rgba(0, 0, 0, 0.15);\n",
              "      filter: drop-shadow(0px 1px 2px rgba(0, 0, 0, 0.3));\n",
              "      fill: #FFFFFF;\n",
              "    }\n",
              "  </style>\n",
              "\n",
              "    <script>\n",
              "      const buttonEl =\n",
              "        document.querySelector('#df-f9bffca3-f4f8-4970-bfc7-41bc7a6feb98 button.colab-df-convert');\n",
              "      buttonEl.style.display =\n",
              "        google.colab.kernel.accessAllowed ? 'block' : 'none';\n",
              "\n",
              "      async function convertToInteractive(key) {\n",
              "        const element = document.querySelector('#df-f9bffca3-f4f8-4970-bfc7-41bc7a6feb98');\n",
              "        const dataTable =\n",
              "          await google.colab.kernel.invokeFunction('convertToInteractive',\n",
              "                                                    [key], {});\n",
              "        if (!dataTable) return;\n",
              "\n",
              "        const docLinkHtml = 'Like what you see? Visit the ' +\n",
              "          '<a target=\"_blank\" href=https://colab.research.google.com/notebooks/data_table.ipynb>data table notebook</a>'\n",
              "          + ' to learn more about interactive tables.';\n",
              "        element.innerHTML = '';\n",
              "        dataTable['output_type'] = 'display_data';\n",
              "        await google.colab.output.renderOutput(dataTable, element);\n",
              "        const docLink = document.createElement('div');\n",
              "        docLink.innerHTML = docLinkHtml;\n",
              "        element.appendChild(docLink);\n",
              "      }\n",
              "    </script>\n",
              "  </div>\n",
              "\n",
              "\n",
              "<div id=\"df-1f286781-d467-4b88-b227-77d9eaee1e63\">\n",
              "  <button class=\"colab-df-quickchart\" onclick=\"quickchart('df-1f286781-d467-4b88-b227-77d9eaee1e63')\"\n",
              "            title=\"Suggest charts\"\n",
              "            style=\"display:none;\">\n",
              "\n",
              "<svg xmlns=\"http://www.w3.org/2000/svg\" height=\"24px\"viewBox=\"0 0 24 24\"\n",
              "     width=\"24px\">\n",
              "    <g>\n",
              "        <path d=\"M19 3H5c-1.1 0-2 .9-2 2v14c0 1.1.9 2 2 2h14c1.1 0 2-.9 2-2V5c0-1.1-.9-2-2-2zM9 17H7v-7h2v7zm4 0h-2V7h2v10zm4 0h-2v-4h2v4z\"/>\n",
              "    </g>\n",
              "</svg>\n",
              "  </button>\n",
              "\n",
              "<style>\n",
              "  .colab-df-quickchart {\n",
              "      --bg-color: #E8F0FE;\n",
              "      --fill-color: #1967D2;\n",
              "      --hover-bg-color: #E2EBFA;\n",
              "      --hover-fill-color: #174EA6;\n",
              "      --disabled-fill-color: #AAA;\n",
              "      --disabled-bg-color: #DDD;\n",
              "  }\n",
              "\n",
              "  [theme=dark] .colab-df-quickchart {\n",
              "      --bg-color: #3B4455;\n",
              "      --fill-color: #D2E3FC;\n",
              "      --hover-bg-color: #434B5C;\n",
              "      --hover-fill-color: #FFFFFF;\n",
              "      --disabled-bg-color: #3B4455;\n",
              "      --disabled-fill-color: #666;\n",
              "  }\n",
              "\n",
              "  .colab-df-quickchart {\n",
              "    background-color: var(--bg-color);\n",
              "    border: none;\n",
              "    border-radius: 50%;\n",
              "    cursor: pointer;\n",
              "    display: none;\n",
              "    fill: var(--fill-color);\n",
              "    height: 32px;\n",
              "    padding: 0;\n",
              "    width: 32px;\n",
              "  }\n",
              "\n",
              "  .colab-df-quickchart:hover {\n",
              "    background-color: var(--hover-bg-color);\n",
              "    box-shadow: 0 1px 2px rgba(60, 64, 67, 0.3), 0 1px 3px 1px rgba(60, 64, 67, 0.15);\n",
              "    fill: var(--button-hover-fill-color);\n",
              "  }\n",
              "\n",
              "  .colab-df-quickchart-complete:disabled,\n",
              "  .colab-df-quickchart-complete:disabled:hover {\n",
              "    background-color: var(--disabled-bg-color);\n",
              "    fill: var(--disabled-fill-color);\n",
              "    box-shadow: none;\n",
              "  }\n",
              "\n",
              "  .colab-df-spinner {\n",
              "    border: 2px solid var(--fill-color);\n",
              "    border-color: transparent;\n",
              "    border-bottom-color: var(--fill-color);\n",
              "    animation:\n",
              "      spin 1s steps(1) infinite;\n",
              "  }\n",
              "\n",
              "  @keyframes spin {\n",
              "    0% {\n",
              "      border-color: transparent;\n",
              "      border-bottom-color: var(--fill-color);\n",
              "      border-left-color: var(--fill-color);\n",
              "    }\n",
              "    20% {\n",
              "      border-color: transparent;\n",
              "      border-left-color: var(--fill-color);\n",
              "      border-top-color: var(--fill-color);\n",
              "    }\n",
              "    30% {\n",
              "      border-color: transparent;\n",
              "      border-left-color: var(--fill-color);\n",
              "      border-top-color: var(--fill-color);\n",
              "      border-right-color: var(--fill-color);\n",
              "    }\n",
              "    40% {\n",
              "      border-color: transparent;\n",
              "      border-right-color: var(--fill-color);\n",
              "      border-top-color: var(--fill-color);\n",
              "    }\n",
              "    60% {\n",
              "      border-color: transparent;\n",
              "      border-right-color: var(--fill-color);\n",
              "    }\n",
              "    80% {\n",
              "      border-color: transparent;\n",
              "      border-right-color: var(--fill-color);\n",
              "      border-bottom-color: var(--fill-color);\n",
              "    }\n",
              "    90% {\n",
              "      border-color: transparent;\n",
              "      border-bottom-color: var(--fill-color);\n",
              "    }\n",
              "  }\n",
              "</style>\n",
              "\n",
              "  <script>\n",
              "    async function quickchart(key) {\n",
              "      const quickchartButtonEl =\n",
              "        document.querySelector('#' + key + ' button');\n",
              "      quickchartButtonEl.disabled = true;  // To prevent multiple clicks.\n",
              "      quickchartButtonEl.classList.add('colab-df-spinner');\n",
              "      try {\n",
              "        const charts = await google.colab.kernel.invokeFunction(\n",
              "            'suggestCharts', [key], {});\n",
              "      } catch (error) {\n",
              "        console.error('Error during call to suggestCharts:', error);\n",
              "      }\n",
              "      quickchartButtonEl.classList.remove('colab-df-spinner');\n",
              "      quickchartButtonEl.classList.add('colab-df-quickchart-complete');\n",
              "    }\n",
              "    (() => {\n",
              "      let quickchartButtonEl =\n",
              "        document.querySelector('#df-1f286781-d467-4b88-b227-77d9eaee1e63 button');\n",
              "      quickchartButtonEl.style.display =\n",
              "        google.colab.kernel.accessAllowed ? 'block' : 'none';\n",
              "    })();\n",
              "  </script>\n",
              "</div>\n",
              "\n",
              "    </div>\n",
              "  </div>\n"
            ],
            "text/plain": [
              "                 merchant     category        first   last gender  \\\n",
              "count               15012        15012        15012  15012  15012   \n",
              "unique                693           14          350    479      2   \n",
              "top     fraud_Cormier LLC  grocery_pos  Christopher  Smith      F   \n",
              "freq                   79         2481          325    308   7862   \n",
              "\n",
              "                           street     city  state              job  \\\n",
              "count                       15012    15012  15012            15012   \n",
              "unique                        977      889     51              492   \n",
              "top     561 Little Plain Apt. 738  Houston     NY  Naval architect   \n",
              "freq                           39       63   1052              107   \n",
              "\n",
              "                               trans_num     day  month  \n",
              "count                              15012   15012  15012  \n",
              "unique                             14985       7     12  \n",
              "top     e1a53f1448f25e7e0522dc443c3504d4  Sunday    May  \n",
              "freq                                   2    2702   1821  "
            ]
          },
          "execution_count": 156,
          "metadata": {},
          "output_type": "execute_result"
        }
      ],
      "source": [
        "#check descriptive stats for categorical variables\n",
        "resampled_df.select_dtypes(include = ['object']).describe()"
      ]
    },
    {
      "cell_type": "markdown",
      "metadata": {
        "id": "jNqLRIc9Yeyc"
      },
      "source": [
        "Since categorical variables are highly cardinal we will apply Label Encoding.\n",
        "\n",
        "**Label Encoding assigns a unique numerical label to each category.**"
      ]
    },
    {
      "cell_type": "code",
      "execution_count": null,
      "metadata": {
        "colab": {
          "base_uri": "https://localhost:8080/"
        },
        "collapsed": true,
        "id": "pw0CnWMEZGWz",
        "outputId": "5a4a5c2c-78c8-4e90-8168-37ea51c60c8e"
      },
      "outputs": [
        {
          "name": "stdout",
          "output_type": "stream",
          "text": [
            "Requirement already satisfied: category_encoders in /usr/local/lib/python3.10/dist-packages (2.6.3)\n",
            "Requirement already satisfied: numpy>=1.14.0 in /usr/local/lib/python3.10/dist-packages (from category_encoders) (1.25.2)\n",
            "Requirement already satisfied: scikit-learn>=0.20.0 in /usr/local/lib/python3.10/dist-packages (from category_encoders) (1.2.2)\n",
            "Requirement already satisfied: scipy>=1.0.0 in /usr/local/lib/python3.10/dist-packages (from category_encoders) (1.11.4)\n",
            "Requirement already satisfied: statsmodels>=0.9.0 in /usr/local/lib/python3.10/dist-packages (from category_encoders) (0.14.2)\n",
            "Requirement already satisfied: pandas>=1.0.5 in /usr/local/lib/python3.10/dist-packages (from category_encoders) (2.0.3)\n",
            "Requirement already satisfied: patsy>=0.5.1 in /usr/local/lib/python3.10/dist-packages (from category_encoders) (0.5.6)\n",
            "Requirement already satisfied: python-dateutil>=2.8.2 in /usr/local/lib/python3.10/dist-packages (from pandas>=1.0.5->category_encoders) (2.8.2)\n",
            "Requirement already satisfied: pytz>=2020.1 in /usr/local/lib/python3.10/dist-packages (from pandas>=1.0.5->category_encoders) (2023.4)\n",
            "Requirement already satisfied: tzdata>=2022.1 in /usr/local/lib/python3.10/dist-packages (from pandas>=1.0.5->category_encoders) (2024.1)\n",
            "Requirement already satisfied: six in /usr/local/lib/python3.10/dist-packages (from patsy>=0.5.1->category_encoders) (1.16.0)\n",
            "Requirement already satisfied: joblib>=1.1.1 in /usr/local/lib/python3.10/dist-packages (from scikit-learn>=0.20.0->category_encoders) (1.4.2)\n",
            "Requirement already satisfied: threadpoolctl>=2.0.0 in /usr/local/lib/python3.10/dist-packages (from scikit-learn>=0.20.0->category_encoders) (3.5.0)\n",
            "Requirement already satisfied: packaging>=21.3 in /usr/local/lib/python3.10/dist-packages (from statsmodels>=0.9.0->category_encoders) (24.0)\n"
          ]
        }
      ],
      "source": [
        "!pip install category_encoders"
      ]
    },
    {
      "cell_type": "code",
      "execution_count": null,
      "metadata": {
        "id": "a6PnBz9fYeN8"
      },
      "outputs": [],
      "source": [
        "#import package\n",
        "import category_encoders as ce\n",
        "#apply label encoding\n",
        "Label_encoder = ce.OrdinalEncoder()\n",
        "#create new df\n",
        "df_encoded = resampled_df.copy()\n",
        "#for loop to iterate over categorical variables\n",
        "for col in resampled_df.columns:\n",
        "  if resampled_df[col].dtype == 'object':\n",
        "    df_encoded[col] = Label_encoder.fit_transform(resampled_df[col])"
      ]
    },
    {
      "cell_type": "markdown",
      "metadata": {
        "id": "0yd9abPJflqY"
      },
      "source": [
        "# **Logistic Regression Model**"
      ]
    },
    {
      "cell_type": "code",
      "execution_count": null,
      "metadata": {
        "id": "7qW6EZCMbumM"
      },
      "outputs": [],
      "source": [
        "#import Libraries\n",
        "from sklearn.model_selection import train_test_split\n",
        "from sklearn.linear_model import LogisticRegression\n",
        "from sklearn.metrics import confusion_matrix, accuracy_score, precision_score, roc_auc_score, ConfusionMatrixDisplay\n",
        "from sklearn.preprocessing import StandardScaler"
      ]
    },
    {
      "cell_type": "code",
      "execution_count": null,
      "metadata": {
        "id": "WLPuz29wtHVx"
      },
      "outputs": [],
      "source": [
        "#Split the resampled data into features and target\n",
        "x = df_encoded.drop('is_fraud', axis=1)\n",
        "y = df_encoded['is_fraud']"
      ]
    },
    {
      "cell_type": "code",
      "execution_count": null,
      "metadata": {
        "id": "--gGRZEWyO8C"
      },
      "outputs": [],
      "source": [
        "# Check for datetime columns and exclude them\n",
        "datetime_columns = x.select_dtypes(include=['datetime','datetime64']).columns\n",
        "x = x.drop(columns = datetime_columns)"
      ]
    },
    {
      "cell_type": "code",
      "execution_count": null,
      "metadata": {
        "id": "qTFMKWq9bwe9"
      },
      "outputs": [],
      "source": [
        "#apply scaling using standard scaler\n",
        "scaler = StandardScaler()\n",
        "x_scaled = scaler.fit_transform(x)"
      ]
    },
    {
      "cell_type": "code",
      "execution_count": null,
      "metadata": {
        "colab": {
          "base_uri": "https://localhost:8080/"
        },
        "id": "b-Pe5-MLs7EQ",
        "outputId": "d54cac03-67b9-4812-f50a-a3fc74b8ebbc"
      },
      "outputs": [
        {
          "name": "stdout",
          "output_type": "stream",
          "text": [
            "(12009, 25)\n",
            "(3003, 25)\n"
          ]
        }
      ],
      "source": [
        "#split data into train and test set\n",
        "X_train,X_test,Y_train,Y_test = train_test_split(x_scaled,y,test_size = 0.2,random_state = 42)\n",
        "print(X_train.shape)\n",
        "print(X_test.shape)"
      ]
    },
    {
      "cell_type": "code",
      "execution_count": null,
      "metadata": {
        "colab": {
          "base_uri": "https://localhost:8080/"
        },
        "id": "2S6KnyfAt7zy",
        "outputId": "230fe6f3-3904-4405-8582-716669ff5e10"
      },
      "outputs": [
        {
          "data": {
            "text/plain": [
              "is_fraud\n",
              "1    6010\n",
              "0    5999\n",
              "Name: count, dtype: int64"
            ]
          },
          "execution_count": 164,
          "metadata": {},
          "output_type": "execute_result"
        }
      ],
      "source": [
        "Y_train.value_counts()"
      ]
    },
    {
      "cell_type": "code",
      "execution_count": null,
      "metadata": {
        "colab": {
          "base_uri": "https://localhost:8080/"
        },
        "id": "l97XayCauLWE",
        "outputId": "2fa63184-e669-4eb1-b465-f90c9f2c5f17"
      },
      "outputs": [
        {
          "data": {
            "text/plain": [
              "is_fraud\n",
              "0    1507\n",
              "1    1496\n",
              "Name: count, dtype: int64"
            ]
          },
          "execution_count": 165,
          "metadata": {},
          "output_type": "execute_result"
        }
      ],
      "source": [
        "Y_test.value_counts()"
      ]
    },
    {
      "cell_type": "code",
      "execution_count": null,
      "metadata": {
        "colab": {
          "base_uri": "https://localhost:8080/",
          "height": 74
        },
        "collapsed": true,
        "id": "ni5miKwzRnKi",
        "outputId": "7aef890c-f437-4435-ffb0-4d52a0d8a2de"
      },
      "outputs": [
        {
          "data": {
            "text/html": [
              "<style>#sk-container-id-3 {color: black;background-color: white;}#sk-container-id-3 pre{padding: 0;}#sk-container-id-3 div.sk-toggleable {background-color: white;}#sk-container-id-3 label.sk-toggleable__label {cursor: pointer;display: block;width: 100%;margin-bottom: 0;padding: 0.3em;box-sizing: border-box;text-align: center;}#sk-container-id-3 label.sk-toggleable__label-arrow:before {content: \"▸\";float: left;margin-right: 0.25em;color: #696969;}#sk-container-id-3 label.sk-toggleable__label-arrow:hover:before {color: black;}#sk-container-id-3 div.sk-estimator:hover label.sk-toggleable__label-arrow:before {color: black;}#sk-container-id-3 div.sk-toggleable__content {max-height: 0;max-width: 0;overflow: hidden;text-align: left;background-color: #f0f8ff;}#sk-container-id-3 div.sk-toggleable__content pre {margin: 0.2em;color: black;border-radius: 0.25em;background-color: #f0f8ff;}#sk-container-id-3 input.sk-toggleable__control:checked~div.sk-toggleable__content {max-height: 200px;max-width: 100%;overflow: auto;}#sk-container-id-3 input.sk-toggleable__control:checked~label.sk-toggleable__label-arrow:before {content: \"▾\";}#sk-container-id-3 div.sk-estimator input.sk-toggleable__control:checked~label.sk-toggleable__label {background-color: #d4ebff;}#sk-container-id-3 div.sk-label input.sk-toggleable__control:checked~label.sk-toggleable__label {background-color: #d4ebff;}#sk-container-id-3 input.sk-hidden--visually {border: 0;clip: rect(1px 1px 1px 1px);clip: rect(1px, 1px, 1px, 1px);height: 1px;margin: -1px;overflow: hidden;padding: 0;position: absolute;width: 1px;}#sk-container-id-3 div.sk-estimator {font-family: monospace;background-color: #f0f8ff;border: 1px dotted black;border-radius: 0.25em;box-sizing: border-box;margin-bottom: 0.5em;}#sk-container-id-3 div.sk-estimator:hover {background-color: #d4ebff;}#sk-container-id-3 div.sk-parallel-item::after {content: \"\";width: 100%;border-bottom: 1px solid gray;flex-grow: 1;}#sk-container-id-3 div.sk-label:hover label.sk-toggleable__label {background-color: #d4ebff;}#sk-container-id-3 div.sk-serial::before {content: \"\";position: absolute;border-left: 1px solid gray;box-sizing: border-box;top: 0;bottom: 0;left: 50%;z-index: 0;}#sk-container-id-3 div.sk-serial {display: flex;flex-direction: column;align-items: center;background-color: white;padding-right: 0.2em;padding-left: 0.2em;position: relative;}#sk-container-id-3 div.sk-item {position: relative;z-index: 1;}#sk-container-id-3 div.sk-parallel {display: flex;align-items: stretch;justify-content: center;background-color: white;position: relative;}#sk-container-id-3 div.sk-item::before, #sk-container-id-3 div.sk-parallel-item::before {content: \"\";position: absolute;border-left: 1px solid gray;box-sizing: border-box;top: 0;bottom: 0;left: 50%;z-index: -1;}#sk-container-id-3 div.sk-parallel-item {display: flex;flex-direction: column;z-index: 1;position: relative;background-color: white;}#sk-container-id-3 div.sk-parallel-item:first-child::after {align-self: flex-end;width: 50%;}#sk-container-id-3 div.sk-parallel-item:last-child::after {align-self: flex-start;width: 50%;}#sk-container-id-3 div.sk-parallel-item:only-child::after {width: 0;}#sk-container-id-3 div.sk-dashed-wrapped {border: 1px dashed gray;margin: 0 0.4em 0.5em 0.4em;box-sizing: border-box;padding-bottom: 0.4em;background-color: white;}#sk-container-id-3 div.sk-label label {font-family: monospace;font-weight: bold;display: inline-block;line-height: 1.2em;}#sk-container-id-3 div.sk-label-container {text-align: center;}#sk-container-id-3 div.sk-container {/* jupyter's `normalize.less` sets `[hidden] { display: none; }` but bootstrap.min.css set `[hidden] { display: none !important; }` so we also need the `!important` here to be able to override the default hidden behavior on the sphinx rendered scikit-learn.org. See: https://github.com/scikit-learn/scikit-learn/issues/21755 */display: inline-block !important;position: relative;}#sk-container-id-3 div.sk-text-repr-fallback {display: none;}</style><div id=\"sk-container-id-3\" class=\"sk-top-container\"><div class=\"sk-text-repr-fallback\"><pre>LogisticRegression()</pre><b>In a Jupyter environment, please rerun this cell to show the HTML representation or trust the notebook. <br />On GitHub, the HTML representation is unable to render, please try loading this page with nbviewer.org.</b></div><div class=\"sk-container\" hidden><div class=\"sk-item\"><div class=\"sk-estimator sk-toggleable\"><input class=\"sk-toggleable__control sk-hidden--visually\" id=\"sk-estimator-id-3\" type=\"checkbox\" checked><label for=\"sk-estimator-id-3\" class=\"sk-toggleable__label sk-toggleable__label-arrow\">LogisticRegression</label><div class=\"sk-toggleable__content\"><pre>LogisticRegression()</pre></div></div></div></div></div>"
            ],
            "text/plain": [
              "LogisticRegression()"
            ]
          },
          "execution_count": 166,
          "metadata": {},
          "output_type": "execute_result"
        }
      ],
      "source": [
        "#Fitting logistic regression on train data\n",
        "clf = LogisticRegression()\n",
        "clf.fit(X_train, Y_train)"
      ]
    },
    {
      "cell_type": "code",
      "execution_count": null,
      "metadata": {
        "id": "o0ExIRZqem73"
      },
      "outputs": [],
      "source": [
        "# Get the predicted probabilities\n",
        "train_preds = clf.predict_proba(X_train)\n",
        "test_preds = clf.predict_proba(X_test)"
      ]
    },
    {
      "cell_type": "code",
      "execution_count": null,
      "metadata": {
        "id": "uoZPddwKgrB-"
      },
      "outputs": [],
      "source": [
        "# Get the predicted classes\n",
        "train_class_preds = clf.predict(X_train)\n",
        "test_class_preds = clf.predict(X_test)"
      ]
    },
    {
      "cell_type": "markdown",
      "metadata": {
        "id": "hMYdsepajEY9"
      },
      "source": [
        "# **Evaluate the model**"
      ]
    },
    {
      "cell_type": "code",
      "execution_count": null,
      "metadata": {
        "colab": {
          "base_uri": "https://localhost:8080/",
          "height": 507
        },
        "id": "KJTHI-w5l3zH",
        "outputId": "45977aa6-a1eb-4d1b-bae8-1c2abefa74cb"
      },
      "outputs": [
        {
          "name": "stdout",
          "output_type": "stream",
          "text": [
            "[[1498    9]\n",
            " [   0 1496]]\n"
          ]
        },
        {
          "data": {
            "image/png": "[encoded data removed]",
            "text/plain": [
              "<Figure size 640x480 with 2 Axes>"
            ]
          },
          "metadata": {},
          "output_type": "display_data"
        }
      ],
      "source": [
        "#for test datset confusion matrix\n",
        "cm_test = confusion_matrix(Y_test, test_class_preds)\n",
        "print(cm_test)\n",
        "\n",
        "#display the test confusion matrix\n",
        "dist = ConfusionMatrixDisplay(confusion_matrix =cm_test, display_labels =clf.classes_)\n",
        "disp.plot(cmap=plt.cm.Blues)\n",
        "plt.title('Confusion Matrix')\n",
        "plt.show()"
      ]
    },
    {
      "cell_type": "code",
      "execution_count": null,
      "metadata": {
        "colab": {
          "base_uri": "https://localhost:8080/"
        },
        "id": "nAhHNc_Qqbyl",
        "outputId": "19f136a4-096f-4a35-b70f-f6814949dfe6"
      },
      "outputs": [
        {
          "name": "stdout",
          "output_type": "stream",
          "text": [
            "Test Accuracy: 0.997002997002997\n"
          ]
        }
      ],
      "source": [
        "# Get the accuracy scores\n",
        "test_accuracy = accuracy_score(Y_test, test_class_preds)\n",
        "print(\"Test Accuracy:\", test_accuracy)"
      ]
    },
    {
      "cell_type": "code",
      "execution_count": null,
      "metadata": {
        "colab": {
          "base_uri": "https://localhost:8080/"
        },
        "id": "4vC0SiohsxHR",
        "outputId": "e36f9c07-4ca9-4342-a598-bb697115c708"
      },
      "outputs": [
        {
          "name": "stdout",
          "output_type": "stream",
          "text": [
            "Test Precision: 0.9940199335548173\n"
          ]
        }
      ],
      "source": [
        "#precision scores\n",
        "test_precision = precision_score(Y_test, test_class_preds)\n",
        "print(\"Test Precision:\", test_precision)"
      ]
    },
    {
      "cell_type": "code",
      "execution_count": null,
      "metadata": {
        "colab": {
          "base_uri": "https://localhost:8080/"
        },
        "id": "2nibeH4mtn_9",
        "outputId": "44d60139-6e7c-4da9-ae89-2e0ba43ec951"
      },
      "outputs": [
        {
          "name": "stdout",
          "output_type": "stream",
          "text": [
            "The roc_auc_score on test data is  0.9999951208087747\n"
          ]
        }
      ],
      "source": [
        "# Get the roc_auc_score scores\n",
        "test_roc_auc_score = roc_auc_score(Y_test,test_preds[:,1])\n",
        "print(\"The roc_auc_score on test data is \", test_roc_auc_score)"
      ]
    },
    {
      "cell_type": "code",
      "execution_count": null,
      "metadata": {
        "colab": {
          "base_uri": "https://localhost:8080/"
        },
        "id": "Aa699gg5u7z3",
        "outputId": "f461441a-0052-4b74-e37e-af07c8d3b062"
      },
      "outputs": [
        {
          "name": "stdout",
          "output_type": "stream",
          "text": [
            "Cross-Validation Accuracy Scores: [0.90909091 1.         1.         1.         0.94736842]\n",
            "Mean Cross-Validation Accuracy: 0.9712918660287082\n"
          ]
        }
      ],
      "source": [
        "#performing cross validation\n",
        "from sklearn.model_selection import cross_val_score\n",
        "\n",
        "cv_scores = cross_val_score(clf, x_scaled, y, cv=5, scoring='accuracy')\n",
        "print(\"Cross-Validation Accuracy Scores:\", cv_scores)\n",
        "print(\"Mean Cross-Validation Accuracy:\", cv_scores.mean())\n"
      ]
    }
  ],
  "metadata": {
    "colab": {
      "collapsed_sections": [
        "N0YJmvSCeXCa",
        "EZBr6G0arOKD"
      ],
      "provenance": []
    },
    "kernelspec": {
      "display_name": "Python 3",
      "name": "python3"
    },
    "language_info": {
      "name": "python"
    }
  },
  "nbformat": 4,
  "nbformat_minor": 0
}
